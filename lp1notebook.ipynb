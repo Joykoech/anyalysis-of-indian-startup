{
 "cells": [
  {
   "cell_type": "markdown",
   "metadata": {},
   "source": [
    "### INDIAN STARTUP ECOSYSTEM\n"
   ]
  },
  {
   "cell_type": "markdown",
   "metadata": {},
   "source": [
    "# Project Description\n",
    "\n",
    "We embark on a journey of discovery as we leverage our data analysis expertise to uncover the untapped potential within the Indian startup ecosystem. This project is designed to not only decode the numbers but to distill insights that will guide our team towards a successful foray into this dynamic market"
   ]
  },
  {
   "cell_type": "markdown",
   "metadata": {},
   "source": [
    "\n",
    "# Scope of Work\n",
    "\n",
    "Conduct a thorough exploration of datasets, dissecting funding patterns, sectoral nuances, and geographical hotspots in the Indian startup landscap Analyze funding received by startups in india from 2018 to 2021\n"
   ]
  },
  {
   "cell_type": "markdown",
   "metadata": {},
   "source": [
    "\n",
    "# Hypotheses\n",
    "\n",
    "H0 : There is no significant relationship between funding and the sector\n",
    "\n",
    "H1 : There is a significant relationship between funding and the sector\n",
    "\n"
   ]
  },
  {
   "cell_type": "markdown",
   "metadata": {},
   "source": [
    "\n",
    " ## Analytical Questions\n",
    "1. How has funding trends evolved between 2018 and 2021?\n",
    "2. What is the relationship between the amount of funding and the stage of the company?\n",
    "3. How does funding vary with the location of the start-ups\n",
    "4. What are the most attractive sectors for investors?\n",
    "5. Does the location of the company influence its sector?\n",
    "\n",
    "   \n",
    "\n"
   ]
  },
  {
   "cell_type": "markdown",
   "metadata": {},
   "source": [
    "## DATA EXPLORATION, DATA UNDERSTANDING AND  DATA ANALYSIS\n"
   ]
  },
  {
   "cell_type": "code",
   "execution_count": 90,
   "metadata": {},
   "outputs": [],
   "source": [
    "#import the dotenv_values function from the dotenv package\n",
    "import pyodbc    \n",
    "from dotenv import dotenv_values    \n",
    "import pandas as pd\n",
    "import numpy as np\n",
    "import warnings \n",
    "\n",
    "# for visualisation\n",
    "\n",
    "import matplotlib.pyplot as plt\n",
    "import seaborn as sns\n",
    "import plotly.express as px\n",
    "\n",
    "import scipy.stats as stats\n",
    "from matplotlib.dates import YearLocator\n",
    "from matplotlib.ticker import FuncFormatter\n",
    "import matplotlib.ticker as ticker\n",
    "import re\n",
    "\n",
    "\n",
    "warnings.filterwarnings('ignore')"
   ]
  },
  {
   "cell_type": "code",
   "execution_count": 3,
   "metadata": {},
   "outputs": [],
   "source": [
    "#visualisation libraries\n",
    "import seaborn as sns\n",
    "import matplotlib.pyplot as plt"
   ]
  },
  {
   "cell_type": "markdown",
   "metadata": {},
   "source": [
    "## 1.Loading and Inspection of Data"
   ]
  },
  {
   "cell_type": "code",
   "execution_count": 4,
   "metadata": {},
   "outputs": [],
   "source": [
    "# Load environment variables from .env file into a dictionary\n",
    "environment_variables = dotenv_values('.env')\n",
    "\n",
    "# Get the values for the credentials you set in the '.env' file\n",
    "server = environment_variables.get(\"server_name\")\n",
    "database = environment_variables.get(\"database_name\")\n",
    "username = environment_variables.get(\"Login\")\n",
    "password = environment_variables.get(\"password\")"
   ]
  },
  {
   "cell_type": "code",
   "execution_count": 5,
   "metadata": {},
   "outputs": [],
   "source": [
    "# Create a connection string\n",
    "connection_string = f\"DRIVER={{SQL Server}};SERVER={server};DATABASE={database};UID={username};PWD={password};MARS_Connection=yes;\"\n"
   ]
  },
  {
   "cell_type": "code",
   "execution_count": 6,
   "metadata": {},
   "outputs": [],
   "source": [
    "#creating a connection\n",
    "connection = pyodbc.connect(connection_string)"
   ]
  },
  {
   "cell_type": "markdown",
   "metadata": {},
   "source": [
    "### DATA UNDERSTANDING\n"
   ]
  },
  {
   "cell_type": "markdown",
   "metadata": {},
   "source": [
    "1. load in all the various dataset required for the analyse. Dataset is in various source platforms\n",
    "2. check info for more information on each of the dataset and data type \n",
    "3. We will be concatenating the datasets and create one dataset source\n",
    "4. check info with the new dataset \n",
    "5. assess the mean, std, percentile, count with describe\n",
    "6. check for null values\n",
    "7. Do an exploratory data analysis"
   ]
  },
  {
   "cell_type": "markdown",
   "metadata": {},
   "source": [
    "### DEFINITION OF DATASET VARIABLE\n",
    "| NAME              | DEFINITION\n",
    "|:---:              |:---\n",
    "| Company brand     | company's name\n",
    "| Founded           | represents the year a company was started\n",
    "| Headquaters       | the location of the business\n",
    "| Sector            | the industry under which the companies are in \n",
    "| What it does      | overview of what the company does\n",
    "| Founders          | the CEO or the person who started the company\n",
    "| Investor          | a person who is investing into the company\n",
    "| Amount            | the amount of funds received by the company \n",
    "| Stage             | the stage at which the company is in"
   ]
  },
  {
   "cell_type": "markdown",
   "metadata": {},
   "source": [
    "#### DATA LOADING AND OVERVIEW"
   ]
  },
  {
   "cell_type": "markdown",
   "metadata": {},
   "source": [
    "#### 1.1 Loading sql data"
   ]
  },
  {
   "cell_type": "code",
   "execution_count": 7,
   "metadata": {},
   "outputs": [],
   "source": [
    "#2020 data\n",
    "query = \"SELECT * FROM dbo.LP1_startup_funding2020\"\n",
    "data_2020 = pd.read_sql(query, connection)\n",
    "data_2020['year'] = 2020\n",
    "#2021 data\n",
    "query = \"SELECT * FROM dbo.LP1_startup_funding2021\"\n",
    "data_2021 = pd.read_sql(query, connection)\n",
    "data_2021['year'] = 2021"
   ]
  },
  {
   "cell_type": "markdown",
   "metadata": {},
   "source": [
    "#### 1.2 Loading CSV data"
   ]
  },
  {
   "cell_type": "code",
   "execution_count": 8,
   "metadata": {},
   "outputs": [],
   "source": [
    "#2019 data\n",
    "data_2019=pd.read_csv(\"startup_funding2019.csv\")\n",
    "data_2019['year']= 2019\n",
    "#2018 data\n",
    "data_2018=pd.read_csv(\"startup_funding2018.csv\")\n",
    "data_2018['year']= 2018"
   ]
  },
  {
   "cell_type": "markdown",
   "metadata": {},
   "source": [
    "## 2 Exploratory Data Analysis (E.D.A)"
   ]
  },
  {
   "cell_type": "markdown",
   "metadata": {},
   "source": [
    "####  2.0 EDA FOR 2018 Dataset"
   ]
  },
  {
   "cell_type": "code",
   "execution_count": 9,
   "metadata": {},
   "outputs": [
    {
     "data": {
      "text/html": [
       "<div>\n",
       "<style scoped>\n",
       "    .dataframe tbody tr th:only-of-type {\n",
       "        vertical-align: middle;\n",
       "    }\n",
       "\n",
       "    .dataframe tbody tr th {\n",
       "        vertical-align: top;\n",
       "    }\n",
       "\n",
       "    .dataframe thead th {\n",
       "        text-align: right;\n",
       "    }\n",
       "</style>\n",
       "<table border=\"1\" class=\"dataframe\">\n",
       "  <thead>\n",
       "    <tr style=\"text-align: right;\">\n",
       "      <th></th>\n",
       "      <th>Company Name</th>\n",
       "      <th>Industry</th>\n",
       "      <th>Round/Series</th>\n",
       "      <th>Amount</th>\n",
       "      <th>Location</th>\n",
       "      <th>About Company</th>\n",
       "      <th>year</th>\n",
       "    </tr>\n",
       "  </thead>\n",
       "  <tbody>\n",
       "    <tr>\n",
       "      <th>0</th>\n",
       "      <td>TheCollegeFever</td>\n",
       "      <td>Brand Marketing, Event Promotion, Marketing, S...</td>\n",
       "      <td>Seed</td>\n",
       "      <td>250000</td>\n",
       "      <td>Bangalore, Karnataka, India</td>\n",
       "      <td>TheCollegeFever is a hub for fun, fiesta and f...</td>\n",
       "      <td>2018</td>\n",
       "    </tr>\n",
       "    <tr>\n",
       "      <th>1</th>\n",
       "      <td>Happy Cow Dairy</td>\n",
       "      <td>Agriculture, Farming</td>\n",
       "      <td>Seed</td>\n",
       "      <td>₹40,000,000</td>\n",
       "      <td>Mumbai, Maharashtra, India</td>\n",
       "      <td>A startup which aggregates milk from dairy far...</td>\n",
       "      <td>2018</td>\n",
       "    </tr>\n",
       "    <tr>\n",
       "      <th>2</th>\n",
       "      <td>MyLoanCare</td>\n",
       "      <td>Credit, Financial Services, Lending, Marketplace</td>\n",
       "      <td>Series A</td>\n",
       "      <td>₹65,000,000</td>\n",
       "      <td>Gurgaon, Haryana, India</td>\n",
       "      <td>Leading Online Loans Marketplace in India</td>\n",
       "      <td>2018</td>\n",
       "    </tr>\n",
       "    <tr>\n",
       "      <th>3</th>\n",
       "      <td>PayMe India</td>\n",
       "      <td>Financial Services, FinTech</td>\n",
       "      <td>Angel</td>\n",
       "      <td>2000000</td>\n",
       "      <td>Noida, Uttar Pradesh, India</td>\n",
       "      <td>PayMe India is an innovative FinTech organizat...</td>\n",
       "      <td>2018</td>\n",
       "    </tr>\n",
       "    <tr>\n",
       "      <th>4</th>\n",
       "      <td>Eunimart</td>\n",
       "      <td>E-Commerce Platforms, Retail, SaaS</td>\n",
       "      <td>Seed</td>\n",
       "      <td>—</td>\n",
       "      <td>Hyderabad, Andhra Pradesh, India</td>\n",
       "      <td>Eunimart is a one stop solution for merchants ...</td>\n",
       "      <td>2018</td>\n",
       "    </tr>\n",
       "  </tbody>\n",
       "</table>\n",
       "</div>"
      ],
      "text/plain": [
       "      Company Name                                           Industry  \\\n",
       "0  TheCollegeFever  Brand Marketing, Event Promotion, Marketing, S...   \n",
       "1  Happy Cow Dairy                               Agriculture, Farming   \n",
       "2       MyLoanCare   Credit, Financial Services, Lending, Marketplace   \n",
       "3      PayMe India                        Financial Services, FinTech   \n",
       "4         Eunimart                 E-Commerce Platforms, Retail, SaaS   \n",
       "\n",
       "  Round/Series       Amount                          Location  \\\n",
       "0         Seed       250000       Bangalore, Karnataka, India   \n",
       "1         Seed  ₹40,000,000        Mumbai, Maharashtra, India   \n",
       "2     Series A  ₹65,000,000           Gurgaon, Haryana, India   \n",
       "3        Angel      2000000       Noida, Uttar Pradesh, India   \n",
       "4         Seed            —  Hyderabad, Andhra Pradesh, India   \n",
       "\n",
       "                                       About Company  year  \n",
       "0  TheCollegeFever is a hub for fun, fiesta and f...  2018  \n",
       "1  A startup which aggregates milk from dairy far...  2018  \n",
       "2          Leading Online Loans Marketplace in India  2018  \n",
       "3  PayMe India is an innovative FinTech organizat...  2018  \n",
       "4  Eunimart is a one stop solution for merchants ...  2018  "
      ]
     },
     "execution_count": 9,
     "metadata": {},
     "output_type": "execute_result"
    }
   ],
   "source": [
    "data_2018.head(5)"
   ]
  },
  {
   "cell_type": "code",
   "execution_count": 10,
   "metadata": {},
   "outputs": [
    {
     "name": "stdout",
     "output_type": "stream",
     "text": [
      "(526, 7)\n",
      "There are 526 rows, and 7 columns\n"
     ]
    }
   ],
   "source": [
    "## checking for number of columns and rows\n",
    "print (data_2018.shape)\n",
    "print(f\"There are {data_2018.shape[0]} rows, and {data_2018.shape[1]} columns\")"
   ]
  },
  {
   "cell_type": "code",
   "execution_count": 11,
   "metadata": {},
   "outputs": [
    {
     "name": "stdout",
     "output_type": "stream",
     "text": [
      "<class 'pandas.core.frame.DataFrame'>\n",
      "RangeIndex: 526 entries, 0 to 525\n",
      "Data columns (total 7 columns):\n",
      " #   Column         Non-Null Count  Dtype \n",
      "---  ------         --------------  ----- \n",
      " 0   Company Name   526 non-null    object\n",
      " 1   Industry       526 non-null    object\n",
      " 2   Round/Series   526 non-null    object\n",
      " 3   Amount         526 non-null    object\n",
      " 4   Location       526 non-null    object\n",
      " 5   About Company  526 non-null    object\n",
      " 6   year           526 non-null    int64 \n",
      "dtypes: int64(1), object(6)\n",
      "memory usage: 28.9+ KB\n"
     ]
    }
   ],
   "source": [
    "# checking for datatypes in the different columns\n",
    "data_2018.info()"
   ]
  },
  {
   "cell_type": "code",
   "execution_count": 12,
   "metadata": {},
   "outputs": [
    {
     "data": {
      "text/html": [
       "<div>\n",
       "<style scoped>\n",
       "    .dataframe tbody tr th:only-of-type {\n",
       "        vertical-align: middle;\n",
       "    }\n",
       "\n",
       "    .dataframe tbody tr th {\n",
       "        vertical-align: top;\n",
       "    }\n",
       "\n",
       "    .dataframe thead th {\n",
       "        text-align: right;\n",
       "    }\n",
       "</style>\n",
       "<table border=\"1\" class=\"dataframe\">\n",
       "  <thead>\n",
       "    <tr style=\"text-align: right;\">\n",
       "      <th></th>\n",
       "      <th>count</th>\n",
       "      <th>unique</th>\n",
       "      <th>top</th>\n",
       "      <th>freq</th>\n",
       "      <th>mean</th>\n",
       "      <th>std</th>\n",
       "      <th>min</th>\n",
       "      <th>25%</th>\n",
       "      <th>50%</th>\n",
       "      <th>75%</th>\n",
       "      <th>max</th>\n",
       "    </tr>\n",
       "  </thead>\n",
       "  <tbody>\n",
       "    <tr>\n",
       "      <th>Company Name</th>\n",
       "      <td>526</td>\n",
       "      <td>525</td>\n",
       "      <td>TheCollegeFever</td>\n",
       "      <td>2</td>\n",
       "      <td>NaN</td>\n",
       "      <td>NaN</td>\n",
       "      <td>NaN</td>\n",
       "      <td>NaN</td>\n",
       "      <td>NaN</td>\n",
       "      <td>NaN</td>\n",
       "      <td>NaN</td>\n",
       "    </tr>\n",
       "    <tr>\n",
       "      <th>Industry</th>\n",
       "      <td>526</td>\n",
       "      <td>405</td>\n",
       "      <td>—</td>\n",
       "      <td>30</td>\n",
       "      <td>NaN</td>\n",
       "      <td>NaN</td>\n",
       "      <td>NaN</td>\n",
       "      <td>NaN</td>\n",
       "      <td>NaN</td>\n",
       "      <td>NaN</td>\n",
       "      <td>NaN</td>\n",
       "    </tr>\n",
       "    <tr>\n",
       "      <th>Round/Series</th>\n",
       "      <td>526</td>\n",
       "      <td>21</td>\n",
       "      <td>Seed</td>\n",
       "      <td>280</td>\n",
       "      <td>NaN</td>\n",
       "      <td>NaN</td>\n",
       "      <td>NaN</td>\n",
       "      <td>NaN</td>\n",
       "      <td>NaN</td>\n",
       "      <td>NaN</td>\n",
       "      <td>NaN</td>\n",
       "    </tr>\n",
       "    <tr>\n",
       "      <th>Amount</th>\n",
       "      <td>526</td>\n",
       "      <td>198</td>\n",
       "      <td>—</td>\n",
       "      <td>148</td>\n",
       "      <td>NaN</td>\n",
       "      <td>NaN</td>\n",
       "      <td>NaN</td>\n",
       "      <td>NaN</td>\n",
       "      <td>NaN</td>\n",
       "      <td>NaN</td>\n",
       "      <td>NaN</td>\n",
       "    </tr>\n",
       "    <tr>\n",
       "      <th>Location</th>\n",
       "      <td>526</td>\n",
       "      <td>50</td>\n",
       "      <td>Bangalore, Karnataka, India</td>\n",
       "      <td>102</td>\n",
       "      <td>NaN</td>\n",
       "      <td>NaN</td>\n",
       "      <td>NaN</td>\n",
       "      <td>NaN</td>\n",
       "      <td>NaN</td>\n",
       "      <td>NaN</td>\n",
       "      <td>NaN</td>\n",
       "    </tr>\n",
       "    <tr>\n",
       "      <th>About Company</th>\n",
       "      <td>526</td>\n",
       "      <td>524</td>\n",
       "      <td>TheCollegeFever is a hub for fun, fiesta and f...</td>\n",
       "      <td>2</td>\n",
       "      <td>NaN</td>\n",
       "      <td>NaN</td>\n",
       "      <td>NaN</td>\n",
       "      <td>NaN</td>\n",
       "      <td>NaN</td>\n",
       "      <td>NaN</td>\n",
       "      <td>NaN</td>\n",
       "    </tr>\n",
       "    <tr>\n",
       "      <th>year</th>\n",
       "      <td>526.0</td>\n",
       "      <td>NaN</td>\n",
       "      <td>NaN</td>\n",
       "      <td>NaN</td>\n",
       "      <td>2018.0</td>\n",
       "      <td>0.0</td>\n",
       "      <td>2018.0</td>\n",
       "      <td>2018.0</td>\n",
       "      <td>2018.0</td>\n",
       "      <td>2018.0</td>\n",
       "      <td>2018.0</td>\n",
       "    </tr>\n",
       "  </tbody>\n",
       "</table>\n",
       "</div>"
      ],
      "text/plain": [
       "               count unique  \\\n",
       "Company Name     526    525   \n",
       "Industry         526    405   \n",
       "Round/Series     526     21   \n",
       "Amount           526    198   \n",
       "Location         526     50   \n",
       "About Company    526    524   \n",
       "year           526.0    NaN   \n",
       "\n",
       "                                                             top freq    mean  \\\n",
       "Company Name                                     TheCollegeFever    2     NaN   \n",
       "Industry                                                       —   30     NaN   \n",
       "Round/Series                                                Seed  280     NaN   \n",
       "Amount                                                         —  148     NaN   \n",
       "Location                             Bangalore, Karnataka, India  102     NaN   \n",
       "About Company  TheCollegeFever is a hub for fun, fiesta and f...    2     NaN   \n",
       "year                                                         NaN  NaN  2018.0   \n",
       "\n",
       "               std     min     25%     50%     75%     max  \n",
       "Company Name   NaN     NaN     NaN     NaN     NaN     NaN  \n",
       "Industry       NaN     NaN     NaN     NaN     NaN     NaN  \n",
       "Round/Series   NaN     NaN     NaN     NaN     NaN     NaN  \n",
       "Amount         NaN     NaN     NaN     NaN     NaN     NaN  \n",
       "Location       NaN     NaN     NaN     NaN     NaN     NaN  \n",
       "About Company  NaN     NaN     NaN     NaN     NaN     NaN  \n",
       "year           0.0  2018.0  2018.0  2018.0  2018.0  2018.0  "
      ]
     },
     "execution_count": 12,
     "metadata": {},
     "output_type": "execute_result"
    }
   ],
   "source": [
    "# performing descriptive analysis\n",
    "data_2018.describe(include='all').T"
   ]
  },
  {
   "cell_type": "markdown",
   "metadata": {},
   "source": [
    "Findings\n",
    "--> TheCollegeFever company was the most common company\n",
    "\n",
    "-->Seed series was the most preffered\n",
    "\n",
    "-->most companies were based in Bangalore location"
   ]
  },
  {
   "cell_type": "code",
   "execution_count": 13,
   "metadata": {},
   "outputs": [
    {
     "name": "stdout",
     "output_type": "stream",
     "text": [
      "There are  1 duplicate(s)\n"
     ]
    }
   ],
   "source": [
    "## checking for duplicates\n",
    "print(\"There are \",data_2018.duplicated().sum(),\"duplicate(s)\")"
   ]
  },
  {
   "cell_type": "code",
   "execution_count": 14,
   "metadata": {},
   "outputs": [
    {
     "data": {
      "text/plain": [
       "Company Name     0\n",
       "Industry         0\n",
       "Round/Series     0\n",
       "Amount           0\n",
       "Location         0\n",
       "About Company    0\n",
       "year             0\n",
       "dtype: int64"
      ]
     },
     "execution_count": 14,
     "metadata": {},
     "output_type": "execute_result"
    }
   ],
   "source": [
    "## Checking for missing values\n",
    "data_2018.isnull().sum()"
   ]
  },
  {
   "cell_type": "code",
   "execution_count": 15,
   "metadata": {},
   "outputs": [
    {
     "data": {
      "text/plain": [
       "<seaborn.axisgrid.PairGrid at 0x1f487f5dfd0>"
      ]
     },
     "execution_count": 15,
     "metadata": {},
     "output_type": "execute_result"
    },
    {
     "data": {
      "image/png": "[encoded data removed]",
      "text/plain": [
       "<Figure size 250x250 with 2 Axes>"
      ]
     },
     "metadata": {},
     "output_type": "display_data"
    }
   ],
   "source": [
    "sns.pairplot(data_2018)"
   ]
  },
  {
   "cell_type": "markdown",
   "metadata": {},
   "source": [
    "## 2.1 2019 dataset EDA"
   ]
  },
  {
   "cell_type": "code",
   "execution_count": 16,
   "metadata": {},
   "outputs": [
    {
     "data": {
      "text/html": [
       "<div>\n",
       "<style scoped>\n",
       "    .dataframe tbody tr th:only-of-type {\n",
       "        vertical-align: middle;\n",
       "    }\n",
       "\n",
       "    .dataframe tbody tr th {\n",
       "        vertical-align: top;\n",
       "    }\n",
       "\n",
       "    .dataframe thead th {\n",
       "        text-align: right;\n",
       "    }\n",
       "</style>\n",
       "<table border=\"1\" class=\"dataframe\">\n",
       "  <thead>\n",
       "    <tr style=\"text-align: right;\">\n",
       "      <th></th>\n",
       "      <th>Company/Brand</th>\n",
       "      <th>Founded</th>\n",
       "      <th>HeadQuarter</th>\n",
       "      <th>Sector</th>\n",
       "      <th>What it does</th>\n",
       "      <th>Founders</th>\n",
       "      <th>Investor</th>\n",
       "      <th>Amount($)</th>\n",
       "      <th>Stage</th>\n",
       "      <th>year</th>\n",
       "    </tr>\n",
       "  </thead>\n",
       "  <tbody>\n",
       "    <tr>\n",
       "      <th>0</th>\n",
       "      <td>Bombay Shaving</td>\n",
       "      <td>NaN</td>\n",
       "      <td>NaN</td>\n",
       "      <td>Ecommerce</td>\n",
       "      <td>Provides a range of male grooming products</td>\n",
       "      <td>Shantanu Deshpande</td>\n",
       "      <td>Sixth Sense Ventures</td>\n",
       "      <td>$6,300,000</td>\n",
       "      <td>NaN</td>\n",
       "      <td>2019</td>\n",
       "    </tr>\n",
       "    <tr>\n",
       "      <th>1</th>\n",
       "      <td>Ruangguru</td>\n",
       "      <td>2014.0</td>\n",
       "      <td>Mumbai</td>\n",
       "      <td>Edtech</td>\n",
       "      <td>A learning platform that provides topic-based ...</td>\n",
       "      <td>Adamas Belva Syah Devara, Iman Usman.</td>\n",
       "      <td>General Atlantic</td>\n",
       "      <td>$150,000,000</td>\n",
       "      <td>Series C</td>\n",
       "      <td>2019</td>\n",
       "    </tr>\n",
       "    <tr>\n",
       "      <th>2</th>\n",
       "      <td>Eduisfun</td>\n",
       "      <td>NaN</td>\n",
       "      <td>Mumbai</td>\n",
       "      <td>Edtech</td>\n",
       "      <td>It aims to make learning fun via games.</td>\n",
       "      <td>Jatin Solanki</td>\n",
       "      <td>Deepak Parekh, Amitabh Bachchan, Piyush Pandey</td>\n",
       "      <td>$28,000,000</td>\n",
       "      <td>Fresh funding</td>\n",
       "      <td>2019</td>\n",
       "    </tr>\n",
       "    <tr>\n",
       "      <th>3</th>\n",
       "      <td>HomeLane</td>\n",
       "      <td>2014.0</td>\n",
       "      <td>Chennai</td>\n",
       "      <td>Interior design</td>\n",
       "      <td>Provides interior designing solutions</td>\n",
       "      <td>Srikanth Iyer, Rama Harinath</td>\n",
       "      <td>Evolvence India Fund (EIF), Pidilite Group, FJ...</td>\n",
       "      <td>$30,000,000</td>\n",
       "      <td>Series D</td>\n",
       "      <td>2019</td>\n",
       "    </tr>\n",
       "    <tr>\n",
       "      <th>4</th>\n",
       "      <td>Nu Genes</td>\n",
       "      <td>2004.0</td>\n",
       "      <td>Telangana</td>\n",
       "      <td>AgriTech</td>\n",
       "      <td>It is a seed company engaged in production, pr...</td>\n",
       "      <td>Narayana Reddy Punyala</td>\n",
       "      <td>Innovation in Food and Agriculture (IFA)</td>\n",
       "      <td>$6,000,000</td>\n",
       "      <td>NaN</td>\n",
       "      <td>2019</td>\n",
       "    </tr>\n",
       "  </tbody>\n",
       "</table>\n",
       "</div>"
      ],
      "text/plain": [
       "    Company/Brand  Founded HeadQuarter           Sector  \\\n",
       "0  Bombay Shaving      NaN         NaN        Ecommerce   \n",
       "1       Ruangguru   2014.0      Mumbai           Edtech   \n",
       "2        Eduisfun      NaN      Mumbai           Edtech   \n",
       "3        HomeLane   2014.0     Chennai  Interior design   \n",
       "4        Nu Genes   2004.0   Telangana         AgriTech   \n",
       "\n",
       "                                        What it does  \\\n",
       "0         Provides a range of male grooming products   \n",
       "1  A learning platform that provides topic-based ...   \n",
       "2            It aims to make learning fun via games.   \n",
       "3              Provides interior designing solutions   \n",
       "4  It is a seed company engaged in production, pr...   \n",
       "\n",
       "                                Founders  \\\n",
       "0                     Shantanu Deshpande   \n",
       "1  Adamas Belva Syah Devara, Iman Usman.   \n",
       "2                          Jatin Solanki   \n",
       "3           Srikanth Iyer, Rama Harinath   \n",
       "4                 Narayana Reddy Punyala   \n",
       "\n",
       "                                            Investor     Amount($)  \\\n",
       "0                               Sixth Sense Ventures    $6,300,000   \n",
       "1                                   General Atlantic  $150,000,000   \n",
       "2     Deepak Parekh, Amitabh Bachchan, Piyush Pandey   $28,000,000   \n",
       "3  Evolvence India Fund (EIF), Pidilite Group, FJ...   $30,000,000   \n",
       "4           Innovation in Food and Agriculture (IFA)    $6,000,000   \n",
       "\n",
       "           Stage  year  \n",
       "0            NaN  2019  \n",
       "1       Series C  2019  \n",
       "2  Fresh funding  2019  \n",
       "3       Series D  2019  \n",
       "4            NaN  2019  "
      ]
     },
     "execution_count": 16,
     "metadata": {},
     "output_type": "execute_result"
    }
   ],
   "source": [
    "## preview of the data\n",
    "data_2019.head(5)"
   ]
  },
  {
   "cell_type": "code",
   "execution_count": 17,
   "metadata": {},
   "outputs": [
    {
     "name": "stdout",
     "output_type": "stream",
     "text": [
      "(89, 10)\n",
      "There are 89 rows, and 10 columns\n"
     ]
    }
   ],
   "source": [
    "## checking for number of columns and rows\n",
    "print (data_2019.shape)\n",
    "print(f\"There are {data_2019.shape[0]} rows, and {data_2019.shape[1]} columns\")"
   ]
  },
  {
   "cell_type": "code",
   "execution_count": 18,
   "metadata": {},
   "outputs": [
    {
     "name": "stdout",
     "output_type": "stream",
     "text": [
      "There are  0 duplicate(s)\n"
     ]
    }
   ],
   "source": [
    "## checking for duplicates\n",
    "print(\"There are \",data_2019.duplicated().sum(),\"duplicate(s)\")"
   ]
  },
  {
   "cell_type": "code",
   "execution_count": 19,
   "metadata": {},
   "outputs": [
    {
     "data": {
      "text/plain": [
       "Company/Brand     0\n",
       "Founded          29\n",
       "HeadQuarter      19\n",
       "Sector            5\n",
       "What it does      0\n",
       "Founders          3\n",
       "Investor          0\n",
       "Amount($)         0\n",
       "Stage            46\n",
       "year              0\n",
       "dtype: int64"
      ]
     },
     "execution_count": 19,
     "metadata": {},
     "output_type": "execute_result"
    }
   ],
   "source": [
    "## Checking for nulls\n",
    "data_2019.isnull().sum()"
   ]
  },
  {
   "cell_type": "code",
   "execution_count": 21,
   "metadata": {},
   "outputs": [
    {
     "name": "stdout",
     "output_type": "stream",
     "text": [
      "<class 'pandas.core.frame.DataFrame'>\n",
      "RangeIndex: 89 entries, 0 to 88\n",
      "Data columns (total 10 columns):\n",
      " #   Column         Non-Null Count  Dtype  \n",
      "---  ------         --------------  -----  \n",
      " 0   Company/Brand  89 non-null     object \n",
      " 1   Founded        60 non-null     float64\n",
      " 2   HeadQuarter    70 non-null     object \n",
      " 3   Sector         84 non-null     object \n",
      " 4   What it does   89 non-null     object \n",
      " 5   Founders       86 non-null     object \n",
      " 6   Investor       89 non-null     object \n",
      " 7   Amount($)      89 non-null     object \n",
      " 8   Stage          43 non-null     object \n",
      " 9   year           89 non-null     int64  \n",
      "dtypes: float64(1), int64(1), object(8)\n",
      "memory usage: 7.1+ KB\n"
     ]
    }
   ],
   "source": [
    "## checking for datatypes in the different columns\n",
    "data_2019.info()"
   ]
  },
  {
   "cell_type": "code",
   "execution_count": 22,
   "metadata": {},
   "outputs": [
    {
     "data": {
      "text/html": [
       "<div>\n",
       "<style scoped>\n",
       "    .dataframe tbody tr th:only-of-type {\n",
       "        vertical-align: middle;\n",
       "    }\n",
       "\n",
       "    .dataframe tbody tr th {\n",
       "        vertical-align: top;\n",
       "    }\n",
       "\n",
       "    .dataframe thead th {\n",
       "        text-align: right;\n",
       "    }\n",
       "</style>\n",
       "<table border=\"1\" class=\"dataframe\">\n",
       "  <thead>\n",
       "    <tr style=\"text-align: right;\">\n",
       "      <th></th>\n",
       "      <th>count</th>\n",
       "      <th>unique</th>\n",
       "      <th>top</th>\n",
       "      <th>freq</th>\n",
       "      <th>mean</th>\n",
       "      <th>std</th>\n",
       "      <th>min</th>\n",
       "      <th>25%</th>\n",
       "      <th>50%</th>\n",
       "      <th>75%</th>\n",
       "      <th>max</th>\n",
       "    </tr>\n",
       "  </thead>\n",
       "  <tbody>\n",
       "    <tr>\n",
       "      <th>Company/Brand</th>\n",
       "      <td>89</td>\n",
       "      <td>87</td>\n",
       "      <td>Kratikal</td>\n",
       "      <td>2</td>\n",
       "      <td>NaN</td>\n",
       "      <td>NaN</td>\n",
       "      <td>NaN</td>\n",
       "      <td>NaN</td>\n",
       "      <td>NaN</td>\n",
       "      <td>NaN</td>\n",
       "      <td>NaN</td>\n",
       "    </tr>\n",
       "    <tr>\n",
       "      <th>Founded</th>\n",
       "      <td>60.0</td>\n",
       "      <td>NaN</td>\n",
       "      <td>NaN</td>\n",
       "      <td>NaN</td>\n",
       "      <td>2014.533333</td>\n",
       "      <td>2.937003</td>\n",
       "      <td>2004.0</td>\n",
       "      <td>2013.0</td>\n",
       "      <td>2015.0</td>\n",
       "      <td>2016.25</td>\n",
       "      <td>2019.0</td>\n",
       "    </tr>\n",
       "    <tr>\n",
       "      <th>HeadQuarter</th>\n",
       "      <td>70</td>\n",
       "      <td>17</td>\n",
       "      <td>Bangalore</td>\n",
       "      <td>21</td>\n",
       "      <td>NaN</td>\n",
       "      <td>NaN</td>\n",
       "      <td>NaN</td>\n",
       "      <td>NaN</td>\n",
       "      <td>NaN</td>\n",
       "      <td>NaN</td>\n",
       "      <td>NaN</td>\n",
       "    </tr>\n",
       "    <tr>\n",
       "      <th>Sector</th>\n",
       "      <td>84</td>\n",
       "      <td>52</td>\n",
       "      <td>Edtech</td>\n",
       "      <td>7</td>\n",
       "      <td>NaN</td>\n",
       "      <td>NaN</td>\n",
       "      <td>NaN</td>\n",
       "      <td>NaN</td>\n",
       "      <td>NaN</td>\n",
       "      <td>NaN</td>\n",
       "      <td>NaN</td>\n",
       "    </tr>\n",
       "    <tr>\n",
       "      <th>What it does</th>\n",
       "      <td>89</td>\n",
       "      <td>88</td>\n",
       "      <td>Online meat shop</td>\n",
       "      <td>2</td>\n",
       "      <td>NaN</td>\n",
       "      <td>NaN</td>\n",
       "      <td>NaN</td>\n",
       "      <td>NaN</td>\n",
       "      <td>NaN</td>\n",
       "      <td>NaN</td>\n",
       "      <td>NaN</td>\n",
       "    </tr>\n",
       "    <tr>\n",
       "      <th>Founders</th>\n",
       "      <td>86</td>\n",
       "      <td>85</td>\n",
       "      <td>Vivek Gupta, Abhay Hanjura</td>\n",
       "      <td>2</td>\n",
       "      <td>NaN</td>\n",
       "      <td>NaN</td>\n",
       "      <td>NaN</td>\n",
       "      <td>NaN</td>\n",
       "      <td>NaN</td>\n",
       "      <td>NaN</td>\n",
       "      <td>NaN</td>\n",
       "    </tr>\n",
       "    <tr>\n",
       "      <th>Investor</th>\n",
       "      <td>89</td>\n",
       "      <td>86</td>\n",
       "      <td>Undisclosed</td>\n",
       "      <td>3</td>\n",
       "      <td>NaN</td>\n",
       "      <td>NaN</td>\n",
       "      <td>NaN</td>\n",
       "      <td>NaN</td>\n",
       "      <td>NaN</td>\n",
       "      <td>NaN</td>\n",
       "      <td>NaN</td>\n",
       "    </tr>\n",
       "    <tr>\n",
       "      <th>Amount($)</th>\n",
       "      <td>89</td>\n",
       "      <td>50</td>\n",
       "      <td>Undisclosed</td>\n",
       "      <td>12</td>\n",
       "      <td>NaN</td>\n",
       "      <td>NaN</td>\n",
       "      <td>NaN</td>\n",
       "      <td>NaN</td>\n",
       "      <td>NaN</td>\n",
       "      <td>NaN</td>\n",
       "      <td>NaN</td>\n",
       "    </tr>\n",
       "    <tr>\n",
       "      <th>Stage</th>\n",
       "      <td>43</td>\n",
       "      <td>15</td>\n",
       "      <td>Series A</td>\n",
       "      <td>10</td>\n",
       "      <td>NaN</td>\n",
       "      <td>NaN</td>\n",
       "      <td>NaN</td>\n",
       "      <td>NaN</td>\n",
       "      <td>NaN</td>\n",
       "      <td>NaN</td>\n",
       "      <td>NaN</td>\n",
       "    </tr>\n",
       "    <tr>\n",
       "      <th>year</th>\n",
       "      <td>89.0</td>\n",
       "      <td>NaN</td>\n",
       "      <td>NaN</td>\n",
       "      <td>NaN</td>\n",
       "      <td>2019.0</td>\n",
       "      <td>0.0</td>\n",
       "      <td>2019.0</td>\n",
       "      <td>2019.0</td>\n",
       "      <td>2019.0</td>\n",
       "      <td>2019.0</td>\n",
       "      <td>2019.0</td>\n",
       "    </tr>\n",
       "  </tbody>\n",
       "</table>\n",
       "</div>"
      ],
      "text/plain": [
       "              count unique                         top freq         mean  \\\n",
       "Company/Brand    89     87                    Kratikal    2          NaN   \n",
       "Founded        60.0    NaN                         NaN  NaN  2014.533333   \n",
       "HeadQuarter      70     17                   Bangalore   21          NaN   \n",
       "Sector           84     52                      Edtech    7          NaN   \n",
       "What it does     89     88            Online meat shop    2          NaN   \n",
       "Founders         86     85  Vivek Gupta, Abhay Hanjura    2          NaN   \n",
       "Investor         89     86                 Undisclosed    3          NaN   \n",
       "Amount($)        89     50                 Undisclosed   12          NaN   \n",
       "Stage            43     15                    Series A   10          NaN   \n",
       "year           89.0    NaN                         NaN  NaN       2019.0   \n",
       "\n",
       "                    std     min     25%     50%      75%     max  \n",
       "Company/Brand       NaN     NaN     NaN     NaN      NaN     NaN  \n",
       "Founded        2.937003  2004.0  2013.0  2015.0  2016.25  2019.0  \n",
       "HeadQuarter         NaN     NaN     NaN     NaN      NaN     NaN  \n",
       "Sector              NaN     NaN     NaN     NaN      NaN     NaN  \n",
       "What it does        NaN     NaN     NaN     NaN      NaN     NaN  \n",
       "Founders            NaN     NaN     NaN     NaN      NaN     NaN  \n",
       "Investor            NaN     NaN     NaN     NaN      NaN     NaN  \n",
       "Amount($)           NaN     NaN     NaN     NaN      NaN     NaN  \n",
       "Stage               NaN     NaN     NaN     NaN      NaN     NaN  \n",
       "year                0.0  2019.0  2019.0  2019.0   2019.0  2019.0  "
      ]
     },
     "execution_count": 22,
     "metadata": {},
     "output_type": "execute_result"
    }
   ],
   "source": [
    "# performing descriptive analysis\n",
    "data_2019.describe(include='all').T"
   ]
  },
  {
   "cell_type": "markdown",
   "metadata": {},
   "source": [
    "### Findings\n",
    "--> Kratikal company was the most common company\n",
    "\n",
    "--> Most companies had their headquarters based in Bangalore\n",
    "\n",
    "--> Majority of the companies are involved in the Edtech sector "
   ]
  },
  {
   "cell_type": "markdown",
   "metadata": {},
   "source": [
    "###  2.2 E.D.A FOR 2020"
   ]
  },
  {
   "cell_type": "code",
   "execution_count": 23,
   "metadata": {},
   "outputs": [
    {
     "data": {
      "text/html": [
       "<div>\n",
       "<style scoped>\n",
       "    .dataframe tbody tr th:only-of-type {\n",
       "        vertical-align: middle;\n",
       "    }\n",
       "\n",
       "    .dataframe tbody tr th {\n",
       "        vertical-align: top;\n",
       "    }\n",
       "\n",
       "    .dataframe thead th {\n",
       "        text-align: right;\n",
       "    }\n",
       "</style>\n",
       "<table border=\"1\" class=\"dataframe\">\n",
       "  <thead>\n",
       "    <tr style=\"text-align: right;\">\n",
       "      <th></th>\n",
       "      <th>Company_Brand</th>\n",
       "      <th>Founded</th>\n",
       "      <th>HeadQuarter</th>\n",
       "      <th>Sector</th>\n",
       "      <th>What_it_does</th>\n",
       "      <th>Founders</th>\n",
       "      <th>Investor</th>\n",
       "      <th>Amount</th>\n",
       "      <th>Stage</th>\n",
       "      <th>column10</th>\n",
       "      <th>year</th>\n",
       "    </tr>\n",
       "  </thead>\n",
       "  <tbody>\n",
       "    <tr>\n",
       "      <th>0</th>\n",
       "      <td>Aqgromalin</td>\n",
       "      <td>2019.0</td>\n",
       "      <td>Chennai</td>\n",
       "      <td>AgriTech</td>\n",
       "      <td>Cultivating Ideas for Profit</td>\n",
       "      <td>Prasanna Manogaran, Bharani C L</td>\n",
       "      <td>Angel investors</td>\n",
       "      <td>200000.0</td>\n",
       "      <td>None</td>\n",
       "      <td>None</td>\n",
       "      <td>2020</td>\n",
       "    </tr>\n",
       "    <tr>\n",
       "      <th>1</th>\n",
       "      <td>Krayonnz</td>\n",
       "      <td>2019.0</td>\n",
       "      <td>Bangalore</td>\n",
       "      <td>EdTech</td>\n",
       "      <td>An academy-guardian-scholar centric ecosystem ...</td>\n",
       "      <td>Saurabh Dixit, Gurudutt Upadhyay</td>\n",
       "      <td>GSF Accelerator</td>\n",
       "      <td>100000.0</td>\n",
       "      <td>Pre-seed</td>\n",
       "      <td>None</td>\n",
       "      <td>2020</td>\n",
       "    </tr>\n",
       "    <tr>\n",
       "      <th>2</th>\n",
       "      <td>PadCare Labs</td>\n",
       "      <td>2018.0</td>\n",
       "      <td>Pune</td>\n",
       "      <td>Hygiene management</td>\n",
       "      <td>Converting bio-hazardous waste to harmless waste</td>\n",
       "      <td>Ajinkya Dhariya</td>\n",
       "      <td>Venture Center</td>\n",
       "      <td>NaN</td>\n",
       "      <td>Pre-seed</td>\n",
       "      <td>None</td>\n",
       "      <td>2020</td>\n",
       "    </tr>\n",
       "    <tr>\n",
       "      <th>3</th>\n",
       "      <td>NCOME</td>\n",
       "      <td>2020.0</td>\n",
       "      <td>New Delhi</td>\n",
       "      <td>Escrow</td>\n",
       "      <td>Escrow-as-a-service platform</td>\n",
       "      <td>Ritesh Tiwari</td>\n",
       "      <td>Venture Catalysts, PointOne Capital</td>\n",
       "      <td>400000.0</td>\n",
       "      <td>None</td>\n",
       "      <td>None</td>\n",
       "      <td>2020</td>\n",
       "    </tr>\n",
       "    <tr>\n",
       "      <th>4</th>\n",
       "      <td>Gramophone</td>\n",
       "      <td>2016.0</td>\n",
       "      <td>Indore</td>\n",
       "      <td>AgriTech</td>\n",
       "      <td>Gramophone is an AgTech platform enabling acce...</td>\n",
       "      <td>Ashish Rajan Singh, Harshit Gupta, Nishant Mah...</td>\n",
       "      <td>Siana Capital Management, Info Edge</td>\n",
       "      <td>340000.0</td>\n",
       "      <td>None</td>\n",
       "      <td>None</td>\n",
       "      <td>2020</td>\n",
       "    </tr>\n",
       "  </tbody>\n",
       "</table>\n",
       "</div>"
      ],
      "text/plain": [
       "  Company_Brand  Founded HeadQuarter              Sector  \\\n",
       "0    Aqgromalin   2019.0     Chennai            AgriTech   \n",
       "1      Krayonnz   2019.0   Bangalore              EdTech   \n",
       "2  PadCare Labs   2018.0        Pune  Hygiene management   \n",
       "3         NCOME   2020.0   New Delhi              Escrow   \n",
       "4    Gramophone   2016.0      Indore            AgriTech   \n",
       "\n",
       "                                        What_it_does  \\\n",
       "0                       Cultivating Ideas for Profit   \n",
       "1  An academy-guardian-scholar centric ecosystem ...   \n",
       "2   Converting bio-hazardous waste to harmless waste   \n",
       "3                       Escrow-as-a-service platform   \n",
       "4  Gramophone is an AgTech platform enabling acce...   \n",
       "\n",
       "                                            Founders  \\\n",
       "0                    Prasanna Manogaran, Bharani C L   \n",
       "1                   Saurabh Dixit, Gurudutt Upadhyay   \n",
       "2                                    Ajinkya Dhariya   \n",
       "3                                      Ritesh Tiwari   \n",
       "4  Ashish Rajan Singh, Harshit Gupta, Nishant Mah...   \n",
       "\n",
       "                              Investor    Amount     Stage column10  year  \n",
       "0                      Angel investors  200000.0      None     None  2020  \n",
       "1                      GSF Accelerator  100000.0  Pre-seed     None  2020  \n",
       "2                       Venture Center       NaN  Pre-seed     None  2020  \n",
       "3  Venture Catalysts, PointOne Capital  400000.0      None     None  2020  \n",
       "4  Siana Capital Management, Info Edge  340000.0      None     None  2020  "
      ]
     },
     "execution_count": 23,
     "metadata": {},
     "output_type": "execute_result"
    }
   ],
   "source": [
    "## preview of the data\n",
    "data_2020.head(5)"
   ]
  },
  {
   "cell_type": "code",
   "execution_count": 24,
   "metadata": {},
   "outputs": [
    {
     "name": "stdout",
     "output_type": "stream",
     "text": [
      "(1055, 11)\n",
      "There are 1055 rows, and 11 columns\n"
     ]
    }
   ],
   "source": [
    "## checking for number of columns and rows\n",
    "print (data_2020.shape)\n",
    "print(f\"There are {data_2020.shape[0]} rows, and {data_2020.shape[1]} columns\")"
   ]
  },
  {
   "cell_type": "code",
   "execution_count": 25,
   "metadata": {},
   "outputs": [
    {
     "name": "stdout",
     "output_type": "stream",
     "text": [
      "There are  3 duplicate(s)\n"
     ]
    }
   ],
   "source": [
    "## checking for duplicates\n",
    "print(\"There are \",data_2020.duplicated().sum(),\"duplicate(s)\")"
   ]
  },
  {
   "cell_type": "code",
   "execution_count": 26,
   "metadata": {},
   "outputs": [
    {
     "data": {
      "text/plain": [
       "Company_Brand       0\n",
       "Founded           213\n",
       "HeadQuarter        94\n",
       "Sector             13\n",
       "What_it_does        0\n",
       "Founders           12\n",
       "Investor           38\n",
       "Amount            254\n",
       "Stage             464\n",
       "column10         1053\n",
       "year                0\n",
       "dtype: int64"
      ]
     },
     "execution_count": 26,
     "metadata": {},
     "output_type": "execute_result"
    }
   ],
   "source": [
    "## Checking for nulls\n",
    "data_2020.isnull().sum()"
   ]
  },
  {
   "cell_type": "code",
   "execution_count": 27,
   "metadata": {},
   "outputs": [
    {
     "name": "stdout",
     "output_type": "stream",
     "text": [
      "<class 'pandas.core.frame.DataFrame'>\n",
      "RangeIndex: 1055 entries, 0 to 1054\n",
      "Data columns (total 11 columns):\n",
      " #   Column         Non-Null Count  Dtype  \n",
      "---  ------         --------------  -----  \n",
      " 0   Company_Brand  1055 non-null   object \n",
      " 1   Founded        842 non-null    float64\n",
      " 2   HeadQuarter    961 non-null    object \n",
      " 3   Sector         1042 non-null   object \n",
      " 4   What_it_does   1055 non-null   object \n",
      " 5   Founders       1043 non-null   object \n",
      " 6   Investor       1017 non-null   object \n",
      " 7   Amount         801 non-null    float64\n",
      " 8   Stage          591 non-null    object \n",
      " 9   column10       2 non-null      object \n",
      " 10  year           1055 non-null   int64  \n",
      "dtypes: float64(2), int64(1), object(8)\n",
      "memory usage: 90.8+ KB\n"
     ]
    }
   ],
   "source": [
    "## checking for datatypes in the different columns\n",
    "data_2020.info()"
   ]
  },
  {
   "cell_type": "code",
   "execution_count": 28,
   "metadata": {},
   "outputs": [
    {
     "data": {
      "text/html": [
       "<div>\n",
       "<style scoped>\n",
       "    .dataframe tbody tr th:only-of-type {\n",
       "        vertical-align: middle;\n",
       "    }\n",
       "\n",
       "    .dataframe tbody tr th {\n",
       "        vertical-align: top;\n",
       "    }\n",
       "\n",
       "    .dataframe thead th {\n",
       "        text-align: right;\n",
       "    }\n",
       "</style>\n",
       "<table border=\"1\" class=\"dataframe\">\n",
       "  <thead>\n",
       "    <tr style=\"text-align: right;\">\n",
       "      <th></th>\n",
       "      <th>count</th>\n",
       "      <th>unique</th>\n",
       "      <th>top</th>\n",
       "      <th>freq</th>\n",
       "      <th>mean</th>\n",
       "      <th>std</th>\n",
       "      <th>min</th>\n",
       "      <th>25%</th>\n",
       "      <th>50%</th>\n",
       "      <th>75%</th>\n",
       "      <th>max</th>\n",
       "    </tr>\n",
       "  </thead>\n",
       "  <tbody>\n",
       "    <tr>\n",
       "      <th>Company_Brand</th>\n",
       "      <td>1055</td>\n",
       "      <td>905</td>\n",
       "      <td>Nykaa</td>\n",
       "      <td>6</td>\n",
       "      <td>NaN</td>\n",
       "      <td>NaN</td>\n",
       "      <td>NaN</td>\n",
       "      <td>NaN</td>\n",
       "      <td>NaN</td>\n",
       "      <td>NaN</td>\n",
       "      <td>NaN</td>\n",
       "    </tr>\n",
       "    <tr>\n",
       "      <th>Founded</th>\n",
       "      <td>842.0</td>\n",
       "      <td>NaN</td>\n",
       "      <td>NaN</td>\n",
       "      <td>NaN</td>\n",
       "      <td>2015.36342</td>\n",
       "      <td>4.097909</td>\n",
       "      <td>1973.0</td>\n",
       "      <td>2014.0</td>\n",
       "      <td>2016.0</td>\n",
       "      <td>2018.0</td>\n",
       "      <td>2020.0</td>\n",
       "    </tr>\n",
       "    <tr>\n",
       "      <th>HeadQuarter</th>\n",
       "      <td>961</td>\n",
       "      <td>77</td>\n",
       "      <td>Bangalore</td>\n",
       "      <td>317</td>\n",
       "      <td>NaN</td>\n",
       "      <td>NaN</td>\n",
       "      <td>NaN</td>\n",
       "      <td>NaN</td>\n",
       "      <td>NaN</td>\n",
       "      <td>NaN</td>\n",
       "      <td>NaN</td>\n",
       "    </tr>\n",
       "    <tr>\n",
       "      <th>Sector</th>\n",
       "      <td>1042</td>\n",
       "      <td>302</td>\n",
       "      <td>Fintech</td>\n",
       "      <td>80</td>\n",
       "      <td>NaN</td>\n",
       "      <td>NaN</td>\n",
       "      <td>NaN</td>\n",
       "      <td>NaN</td>\n",
       "      <td>NaN</td>\n",
       "      <td>NaN</td>\n",
       "      <td>NaN</td>\n",
       "    </tr>\n",
       "    <tr>\n",
       "      <th>What_it_does</th>\n",
       "      <td>1055</td>\n",
       "      <td>990</td>\n",
       "      <td>Provides online learning classes</td>\n",
       "      <td>4</td>\n",
       "      <td>NaN</td>\n",
       "      <td>NaN</td>\n",
       "      <td>NaN</td>\n",
       "      <td>NaN</td>\n",
       "      <td>NaN</td>\n",
       "      <td>NaN</td>\n",
       "      <td>NaN</td>\n",
       "    </tr>\n",
       "    <tr>\n",
       "      <th>Founders</th>\n",
       "      <td>1043</td>\n",
       "      <td>927</td>\n",
       "      <td>Falguni Nayar</td>\n",
       "      <td>6</td>\n",
       "      <td>NaN</td>\n",
       "      <td>NaN</td>\n",
       "      <td>NaN</td>\n",
       "      <td>NaN</td>\n",
       "      <td>NaN</td>\n",
       "      <td>NaN</td>\n",
       "      <td>NaN</td>\n",
       "    </tr>\n",
       "    <tr>\n",
       "      <th>Investor</th>\n",
       "      <td>1017</td>\n",
       "      <td>848</td>\n",
       "      <td>Venture Catalysts</td>\n",
       "      <td>20</td>\n",
       "      <td>NaN</td>\n",
       "      <td>NaN</td>\n",
       "      <td>NaN</td>\n",
       "      <td>NaN</td>\n",
       "      <td>NaN</td>\n",
       "      <td>NaN</td>\n",
       "      <td>NaN</td>\n",
       "    </tr>\n",
       "    <tr>\n",
       "      <th>Amount</th>\n",
       "      <td>801.0</td>\n",
       "      <td>NaN</td>\n",
       "      <td>NaN</td>\n",
       "      <td>NaN</td>\n",
       "      <td>113042969.543071</td>\n",
       "      <td>2476634939.888347</td>\n",
       "      <td>12700.0</td>\n",
       "      <td>1000000.0</td>\n",
       "      <td>3000000.0</td>\n",
       "      <td>11000000.0</td>\n",
       "      <td>70000000000.0</td>\n",
       "    </tr>\n",
       "    <tr>\n",
       "      <th>Stage</th>\n",
       "      <td>591</td>\n",
       "      <td>42</td>\n",
       "      <td>Series A</td>\n",
       "      <td>96</td>\n",
       "      <td>NaN</td>\n",
       "      <td>NaN</td>\n",
       "      <td>NaN</td>\n",
       "      <td>NaN</td>\n",
       "      <td>NaN</td>\n",
       "      <td>NaN</td>\n",
       "      <td>NaN</td>\n",
       "    </tr>\n",
       "    <tr>\n",
       "      <th>column10</th>\n",
       "      <td>2</td>\n",
       "      <td>2</td>\n",
       "      <td>Pre-Seed</td>\n",
       "      <td>1</td>\n",
       "      <td>NaN</td>\n",
       "      <td>NaN</td>\n",
       "      <td>NaN</td>\n",
       "      <td>NaN</td>\n",
       "      <td>NaN</td>\n",
       "      <td>NaN</td>\n",
       "      <td>NaN</td>\n",
       "    </tr>\n",
       "    <tr>\n",
       "      <th>year</th>\n",
       "      <td>1055.0</td>\n",
       "      <td>NaN</td>\n",
       "      <td>NaN</td>\n",
       "      <td>NaN</td>\n",
       "      <td>2020.0</td>\n",
       "      <td>0.0</td>\n",
       "      <td>2020.0</td>\n",
       "      <td>2020.0</td>\n",
       "      <td>2020.0</td>\n",
       "      <td>2020.0</td>\n",
       "      <td>2020.0</td>\n",
       "    </tr>\n",
       "  </tbody>\n",
       "</table>\n",
       "</div>"
      ],
      "text/plain": [
       "                count unique                               top freq  \\\n",
       "Company_Brand    1055    905                             Nykaa    6   \n",
       "Founded         842.0    NaN                               NaN  NaN   \n",
       "HeadQuarter       961     77                         Bangalore  317   \n",
       "Sector           1042    302                           Fintech   80   \n",
       "What_it_does     1055    990  Provides online learning classes    4   \n",
       "Founders         1043    927                     Falguni Nayar    6   \n",
       "Investor         1017    848                 Venture Catalysts   20   \n",
       "Amount          801.0    NaN                               NaN  NaN   \n",
       "Stage             591     42                          Series A   96   \n",
       "column10            2      2                          Pre-Seed    1   \n",
       "year           1055.0    NaN                               NaN  NaN   \n",
       "\n",
       "                           mean                std      min        25%  \\\n",
       "Company_Brand               NaN                NaN      NaN        NaN   \n",
       "Founded              2015.36342           4.097909   1973.0     2014.0   \n",
       "HeadQuarter                 NaN                NaN      NaN        NaN   \n",
       "Sector                      NaN                NaN      NaN        NaN   \n",
       "What_it_does                NaN                NaN      NaN        NaN   \n",
       "Founders                    NaN                NaN      NaN        NaN   \n",
       "Investor                    NaN                NaN      NaN        NaN   \n",
       "Amount         113042969.543071  2476634939.888347  12700.0  1000000.0   \n",
       "Stage                       NaN                NaN      NaN        NaN   \n",
       "column10                    NaN                NaN      NaN        NaN   \n",
       "year                     2020.0                0.0   2020.0     2020.0   \n",
       "\n",
       "                     50%         75%            max  \n",
       "Company_Brand        NaN         NaN            NaN  \n",
       "Founded           2016.0      2018.0         2020.0  \n",
       "HeadQuarter          NaN         NaN            NaN  \n",
       "Sector               NaN         NaN            NaN  \n",
       "What_it_does         NaN         NaN            NaN  \n",
       "Founders             NaN         NaN            NaN  \n",
       "Investor             NaN         NaN            NaN  \n",
       "Amount         3000000.0  11000000.0  70000000000.0  \n",
       "Stage                NaN         NaN            NaN  \n",
       "column10             NaN         NaN            NaN  \n",
       "year              2020.0      2020.0         2020.0  "
      ]
     },
     "execution_count": 28,
     "metadata": {},
     "output_type": "execute_result"
    }
   ],
   "source": [
    "# performing descriptive analysis\n",
    "data_2020.describe(include='all').T"
   ]
  },
  {
   "cell_type": "markdown",
   "metadata": {},
   "source": [
    "### Findings \n",
    "--> Nykaa company was the most common company\n",
    "\n",
    "--> Majority of the companies had their headquarter at Bangalore\n",
    "\n",
    "--> The average Amount invested was 113042969.54"
   ]
  },
  {
   "cell_type": "markdown",
   "metadata": {},
   "source": [
    "###  2.3 E.D.A FOR 2021 DATA"
   ]
  },
  {
   "cell_type": "code",
   "execution_count": 29,
   "metadata": {},
   "outputs": [
    {
     "data": {
      "text/html": [
       "<div>\n",
       "<style scoped>\n",
       "    .dataframe tbody tr th:only-of-type {\n",
       "        vertical-align: middle;\n",
       "    }\n",
       "\n",
       "    .dataframe tbody tr th {\n",
       "        vertical-align: top;\n",
       "    }\n",
       "\n",
       "    .dataframe thead th {\n",
       "        text-align: right;\n",
       "    }\n",
       "</style>\n",
       "<table border=\"1\" class=\"dataframe\">\n",
       "  <thead>\n",
       "    <tr style=\"text-align: right;\">\n",
       "      <th></th>\n",
       "      <th>Company_Brand</th>\n",
       "      <th>Founded</th>\n",
       "      <th>HeadQuarter</th>\n",
       "      <th>Sector</th>\n",
       "      <th>What_it_does</th>\n",
       "      <th>Founders</th>\n",
       "      <th>Investor</th>\n",
       "      <th>Amount</th>\n",
       "      <th>Stage</th>\n",
       "      <th>year</th>\n",
       "    </tr>\n",
       "  </thead>\n",
       "  <tbody>\n",
       "    <tr>\n",
       "      <th>0</th>\n",
       "      <td>Unbox Robotics</td>\n",
       "      <td>2019.0</td>\n",
       "      <td>Bangalore</td>\n",
       "      <td>AI startup</td>\n",
       "      <td>Unbox Robotics builds on-demand AI-driven ware...</td>\n",
       "      <td>Pramod Ghadge, Shahid Memon</td>\n",
       "      <td>BEENEXT, Entrepreneur First</td>\n",
       "      <td>$1,200,000</td>\n",
       "      <td>Pre-series A</td>\n",
       "      <td>2021</td>\n",
       "    </tr>\n",
       "    <tr>\n",
       "      <th>1</th>\n",
       "      <td>upGrad</td>\n",
       "      <td>2015.0</td>\n",
       "      <td>Mumbai</td>\n",
       "      <td>EdTech</td>\n",
       "      <td>UpGrad is an online higher education platform.</td>\n",
       "      <td>Mayank Kumar, Phalgun Kompalli, Ravijot Chugh,...</td>\n",
       "      <td>Unilazer Ventures, IIFL Asset Management</td>\n",
       "      <td>$120,000,000</td>\n",
       "      <td>None</td>\n",
       "      <td>2021</td>\n",
       "    </tr>\n",
       "    <tr>\n",
       "      <th>2</th>\n",
       "      <td>Lead School</td>\n",
       "      <td>2012.0</td>\n",
       "      <td>Mumbai</td>\n",
       "      <td>EdTech</td>\n",
       "      <td>LEAD School offers technology based school tra...</td>\n",
       "      <td>Smita Deorah, Sumeet Mehta</td>\n",
       "      <td>GSV Ventures, Westbridge Capital</td>\n",
       "      <td>$30,000,000</td>\n",
       "      <td>Series D</td>\n",
       "      <td>2021</td>\n",
       "    </tr>\n",
       "    <tr>\n",
       "      <th>3</th>\n",
       "      <td>Bizongo</td>\n",
       "      <td>2015.0</td>\n",
       "      <td>Mumbai</td>\n",
       "      <td>B2B E-commerce</td>\n",
       "      <td>Bizongo is a business-to-business online marke...</td>\n",
       "      <td>Aniket Deb, Ankit Tomar, Sachin Agrawal</td>\n",
       "      <td>CDC Group, IDG Capital</td>\n",
       "      <td>$51,000,000</td>\n",
       "      <td>Series C</td>\n",
       "      <td>2021</td>\n",
       "    </tr>\n",
       "    <tr>\n",
       "      <th>4</th>\n",
       "      <td>FypMoney</td>\n",
       "      <td>2021.0</td>\n",
       "      <td>Gurugram</td>\n",
       "      <td>FinTech</td>\n",
       "      <td>FypMoney is Digital NEO Bank for Teenagers, em...</td>\n",
       "      <td>Kapil Banwari</td>\n",
       "      <td>Liberatha Kallat, Mukesh Yadav, Dinesh Nagpal</td>\n",
       "      <td>$2,000,000</td>\n",
       "      <td>Seed</td>\n",
       "      <td>2021</td>\n",
       "    </tr>\n",
       "  </tbody>\n",
       "</table>\n",
       "</div>"
      ],
      "text/plain": [
       "    Company_Brand  Founded HeadQuarter          Sector  \\\n",
       "0  Unbox Robotics   2019.0   Bangalore      AI startup   \n",
       "1          upGrad   2015.0      Mumbai          EdTech   \n",
       "2     Lead School   2012.0      Mumbai          EdTech   \n",
       "3         Bizongo   2015.0      Mumbai  B2B E-commerce   \n",
       "4        FypMoney   2021.0    Gurugram         FinTech   \n",
       "\n",
       "                                        What_it_does  \\\n",
       "0  Unbox Robotics builds on-demand AI-driven ware...   \n",
       "1     UpGrad is an online higher education platform.   \n",
       "2  LEAD School offers technology based school tra...   \n",
       "3  Bizongo is a business-to-business online marke...   \n",
       "4  FypMoney is Digital NEO Bank for Teenagers, em...   \n",
       "\n",
       "                                            Founders  \\\n",
       "0                        Pramod Ghadge, Shahid Memon   \n",
       "1  Mayank Kumar, Phalgun Kompalli, Ravijot Chugh,...   \n",
       "2                         Smita Deorah, Sumeet Mehta   \n",
       "3            Aniket Deb, Ankit Tomar, Sachin Agrawal   \n",
       "4                                      Kapil Banwari   \n",
       "\n",
       "                                        Investor        Amount         Stage  \\\n",
       "0                    BEENEXT, Entrepreneur First    $1,200,000  Pre-series A   \n",
       "1       Unilazer Ventures, IIFL Asset Management  $120,000,000          None   \n",
       "2               GSV Ventures, Westbridge Capital   $30,000,000      Series D   \n",
       "3                         CDC Group, IDG Capital   $51,000,000      Series C   \n",
       "4  Liberatha Kallat, Mukesh Yadav, Dinesh Nagpal    $2,000,000          Seed   \n",
       "\n",
       "   year  \n",
       "0  2021  \n",
       "1  2021  \n",
       "2  2021  \n",
       "3  2021  \n",
       "4  2021  "
      ]
     },
     "execution_count": 29,
     "metadata": {},
     "output_type": "execute_result"
    }
   ],
   "source": [
    "# preview of the dataset \n",
    "data_2021.head(5)"
   ]
  },
  {
   "cell_type": "code",
   "execution_count": 30,
   "metadata": {},
   "outputs": [
    {
     "name": "stdout",
     "output_type": "stream",
     "text": [
      "(1209, 10)\n",
      "There are 1209 rows, and 10 columns\n"
     ]
    }
   ],
   "source": [
    "## checking for number of columns and rows\n",
    "print (data_2021.shape)\n",
    "print(f\"There are {data_2021.shape[0]} rows, and {data_2021.shape[1]} columns\")"
   ]
  },
  {
   "cell_type": "code",
   "execution_count": 31,
   "metadata": {},
   "outputs": [
    {
     "name": "stdout",
     "output_type": "stream",
     "text": [
      "There are  19 duplicate(s)\n"
     ]
    }
   ],
   "source": [
    "## checking for duplicates\n",
    "print(\"There are \",data_2021.duplicated().sum(),\"duplicate(s)\")"
   ]
  },
  {
   "cell_type": "code",
   "execution_count": 32,
   "metadata": {},
   "outputs": [
    {
     "data": {
      "text/plain": [
       "Company_Brand      0\n",
       "Founded            1\n",
       "HeadQuarter        1\n",
       "Sector             0\n",
       "What_it_does       0\n",
       "Founders           4\n",
       "Investor          62\n",
       "Amount             3\n",
       "Stage            428\n",
       "year               0\n",
       "dtype: int64"
      ]
     },
     "execution_count": 32,
     "metadata": {},
     "output_type": "execute_result"
    }
   ],
   "source": [
    "## Checking for nulls\n",
    "data_2021.isnull().sum()"
   ]
  },
  {
   "cell_type": "code",
   "execution_count": 33,
   "metadata": {},
   "outputs": [
    {
     "name": "stdout",
     "output_type": "stream",
     "text": [
      "<class 'pandas.core.frame.DataFrame'>\n",
      "RangeIndex: 1209 entries, 0 to 1208\n",
      "Data columns (total 10 columns):\n",
      " #   Column         Non-Null Count  Dtype  \n",
      "---  ------         --------------  -----  \n",
      " 0   Company_Brand  1209 non-null   object \n",
      " 1   Founded        1208 non-null   float64\n",
      " 2   HeadQuarter    1208 non-null   object \n",
      " 3   Sector         1209 non-null   object \n",
      " 4   What_it_does   1209 non-null   object \n",
      " 5   Founders       1205 non-null   object \n",
      " 6   Investor       1147 non-null   object \n",
      " 7   Amount         1206 non-null   object \n",
      " 8   Stage          781 non-null    object \n",
      " 9   year           1209 non-null   int64  \n",
      "dtypes: float64(1), int64(1), object(8)\n",
      "memory usage: 94.6+ KB\n"
     ]
    }
   ],
   "source": [
    "## checking for datatypes in the different columns\n",
    "data_2021.info()"
   ]
  },
  {
   "cell_type": "code",
   "execution_count": 34,
   "metadata": {},
   "outputs": [
    {
     "data": {
      "text/html": [
       "<div>\n",
       "<style scoped>\n",
       "    .dataframe tbody tr th:only-of-type {\n",
       "        vertical-align: middle;\n",
       "    }\n",
       "\n",
       "    .dataframe tbody tr th {\n",
       "        vertical-align: top;\n",
       "    }\n",
       "\n",
       "    .dataframe thead th {\n",
       "        text-align: right;\n",
       "    }\n",
       "</style>\n",
       "<table border=\"1\" class=\"dataframe\">\n",
       "  <thead>\n",
       "    <tr style=\"text-align: right;\">\n",
       "      <th></th>\n",
       "      <th>count</th>\n",
       "      <th>unique</th>\n",
       "      <th>top</th>\n",
       "      <th>freq</th>\n",
       "      <th>mean</th>\n",
       "      <th>std</th>\n",
       "      <th>min</th>\n",
       "      <th>25%</th>\n",
       "      <th>50%</th>\n",
       "      <th>75%</th>\n",
       "      <th>max</th>\n",
       "    </tr>\n",
       "  </thead>\n",
       "  <tbody>\n",
       "    <tr>\n",
       "      <th>Company_Brand</th>\n",
       "      <td>1209</td>\n",
       "      <td>1033</td>\n",
       "      <td>BharatPe</td>\n",
       "      <td>8</td>\n",
       "      <td>NaN</td>\n",
       "      <td>NaN</td>\n",
       "      <td>NaN</td>\n",
       "      <td>NaN</td>\n",
       "      <td>NaN</td>\n",
       "      <td>NaN</td>\n",
       "      <td>NaN</td>\n",
       "    </tr>\n",
       "    <tr>\n",
       "      <th>Founded</th>\n",
       "      <td>1208.0</td>\n",
       "      <td>NaN</td>\n",
       "      <td>NaN</td>\n",
       "      <td>NaN</td>\n",
       "      <td>2016.655629</td>\n",
       "      <td>4.517364</td>\n",
       "      <td>1963.0</td>\n",
       "      <td>2015.0</td>\n",
       "      <td>2018.0</td>\n",
       "      <td>2020.0</td>\n",
       "      <td>2021.0</td>\n",
       "    </tr>\n",
       "    <tr>\n",
       "      <th>HeadQuarter</th>\n",
       "      <td>1208</td>\n",
       "      <td>70</td>\n",
       "      <td>Bangalore</td>\n",
       "      <td>426</td>\n",
       "      <td>NaN</td>\n",
       "      <td>NaN</td>\n",
       "      <td>NaN</td>\n",
       "      <td>NaN</td>\n",
       "      <td>NaN</td>\n",
       "      <td>NaN</td>\n",
       "      <td>NaN</td>\n",
       "    </tr>\n",
       "    <tr>\n",
       "      <th>Sector</th>\n",
       "      <td>1209</td>\n",
       "      <td>254</td>\n",
       "      <td>FinTech</td>\n",
       "      <td>122</td>\n",
       "      <td>NaN</td>\n",
       "      <td>NaN</td>\n",
       "      <td>NaN</td>\n",
       "      <td>NaN</td>\n",
       "      <td>NaN</td>\n",
       "      <td>NaN</td>\n",
       "      <td>NaN</td>\n",
       "    </tr>\n",
       "    <tr>\n",
       "      <th>What_it_does</th>\n",
       "      <td>1209</td>\n",
       "      <td>1143</td>\n",
       "      <td>BharatPe develops a QR code-based payment app ...</td>\n",
       "      <td>4</td>\n",
       "      <td>NaN</td>\n",
       "      <td>NaN</td>\n",
       "      <td>NaN</td>\n",
       "      <td>NaN</td>\n",
       "      <td>NaN</td>\n",
       "      <td>NaN</td>\n",
       "      <td>NaN</td>\n",
       "    </tr>\n",
       "    <tr>\n",
       "      <th>Founders</th>\n",
       "      <td>1205</td>\n",
       "      <td>1095</td>\n",
       "      <td>Ashneer Grover, Shashvat Nakrani</td>\n",
       "      <td>7</td>\n",
       "      <td>NaN</td>\n",
       "      <td>NaN</td>\n",
       "      <td>NaN</td>\n",
       "      <td>NaN</td>\n",
       "      <td>NaN</td>\n",
       "      <td>NaN</td>\n",
       "      <td>NaN</td>\n",
       "    </tr>\n",
       "    <tr>\n",
       "      <th>Investor</th>\n",
       "      <td>1147</td>\n",
       "      <td>937</td>\n",
       "      <td>Inflection Point Ventures</td>\n",
       "      <td>24</td>\n",
       "      <td>NaN</td>\n",
       "      <td>NaN</td>\n",
       "      <td>NaN</td>\n",
       "      <td>NaN</td>\n",
       "      <td>NaN</td>\n",
       "      <td>NaN</td>\n",
       "      <td>NaN</td>\n",
       "    </tr>\n",
       "    <tr>\n",
       "      <th>Amount</th>\n",
       "      <td>1206</td>\n",
       "      <td>278</td>\n",
       "      <td>$Undisclosed</td>\n",
       "      <td>73</td>\n",
       "      <td>NaN</td>\n",
       "      <td>NaN</td>\n",
       "      <td>NaN</td>\n",
       "      <td>NaN</td>\n",
       "      <td>NaN</td>\n",
       "      <td>NaN</td>\n",
       "      <td>NaN</td>\n",
       "    </tr>\n",
       "    <tr>\n",
       "      <th>Stage</th>\n",
       "      <td>781</td>\n",
       "      <td>31</td>\n",
       "      <td>Seed</td>\n",
       "      <td>246</td>\n",
       "      <td>NaN</td>\n",
       "      <td>NaN</td>\n",
       "      <td>NaN</td>\n",
       "      <td>NaN</td>\n",
       "      <td>NaN</td>\n",
       "      <td>NaN</td>\n",
       "      <td>NaN</td>\n",
       "    </tr>\n",
       "    <tr>\n",
       "      <th>year</th>\n",
       "      <td>1209.0</td>\n",
       "      <td>NaN</td>\n",
       "      <td>NaN</td>\n",
       "      <td>NaN</td>\n",
       "      <td>2021.0</td>\n",
       "      <td>0.0</td>\n",
       "      <td>2021.0</td>\n",
       "      <td>2021.0</td>\n",
       "      <td>2021.0</td>\n",
       "      <td>2021.0</td>\n",
       "      <td>2021.0</td>\n",
       "    </tr>\n",
       "  </tbody>\n",
       "</table>\n",
       "</div>"
      ],
      "text/plain": [
       "                count unique  \\\n",
       "Company_Brand    1209   1033   \n",
       "Founded        1208.0    NaN   \n",
       "HeadQuarter      1208     70   \n",
       "Sector           1209    254   \n",
       "What_it_does     1209   1143   \n",
       "Founders         1205   1095   \n",
       "Investor         1147    937   \n",
       "Amount           1206    278   \n",
       "Stage             781     31   \n",
       "year           1209.0    NaN   \n",
       "\n",
       "                                                             top freq  \\\n",
       "Company_Brand                                           BharatPe    8   \n",
       "Founded                                                      NaN  NaN   \n",
       "HeadQuarter                                            Bangalore  426   \n",
       "Sector                                                   FinTech  122   \n",
       "What_it_does   BharatPe develops a QR code-based payment app ...    4   \n",
       "Founders                        Ashneer Grover, Shashvat Nakrani    7   \n",
       "Investor                               Inflection Point Ventures   24   \n",
       "Amount                                              $Undisclosed   73   \n",
       "Stage                                                       Seed  246   \n",
       "year                                                         NaN  NaN   \n",
       "\n",
       "                      mean       std     min     25%     50%     75%     max  \n",
       "Company_Brand          NaN       NaN     NaN     NaN     NaN     NaN     NaN  \n",
       "Founded        2016.655629  4.517364  1963.0  2015.0  2018.0  2020.0  2021.0  \n",
       "HeadQuarter            NaN       NaN     NaN     NaN     NaN     NaN     NaN  \n",
       "Sector                 NaN       NaN     NaN     NaN     NaN     NaN     NaN  \n",
       "What_it_does           NaN       NaN     NaN     NaN     NaN     NaN     NaN  \n",
       "Founders               NaN       NaN     NaN     NaN     NaN     NaN     NaN  \n",
       "Investor               NaN       NaN     NaN     NaN     NaN     NaN     NaN  \n",
       "Amount                 NaN       NaN     NaN     NaN     NaN     NaN     NaN  \n",
       "Stage                  NaN       NaN     NaN     NaN     NaN     NaN     NaN  \n",
       "year                2021.0       0.0  2021.0  2021.0  2021.0  2021.0  2021.0  "
      ]
     },
     "execution_count": 34,
     "metadata": {},
     "output_type": "execute_result"
    }
   ],
   "source": [
    "# performing descriptive analysis\n",
    "data_2021.describe(include='all').T"
   ]
  },
  {
   "cell_type": "markdown",
   "metadata": {},
   "source": [
    "### Findings\n",
    "--> BharatPe is the most common company\n",
    "\n",
    "--> most companies invested in the FinTech sector\n",
    "\n",
    "-->Majority of the companies were found in Bangalore"
   ]
  },
  {
   "cell_type": "markdown",
   "metadata": {},
   "source": [
    "## 2.4 CONCATINATE DATA"
   ]
  },
  {
   "cell_type": "code",
   "execution_count": 35,
   "metadata": {},
   "outputs": [],
   "source": [
    "#concatinating the data\n",
    "def concat_dataframes(data_2021,data_2020,data_2019,data_2018):\n",
    "    \"\"\"\n",
    "    Concatenates four dataframes along the row axis.\n",
    " \n",
    "    Parameters:\n",
    "    data (pandas.DataFrame): The first dataframe to concatenate.\n",
    "    data1 (pandas.DataFrame): The second dataframe to concatenate.\n",
    "    data2 (pandas.DataFrame): The third dataframe to concatenate.\n",
    "    data3 (pandas.DataFrame): The fourth dataframe to concatenate.\n",
    " \n",
    "    Returns:\n",
    "    pandas.DataFrame: The concatenated dataframe.\n",
    "    \"\"\"\n",
    "    # Rename columns to make them consistent across dataframes\n",
    "    df1 = data_2021.rename(columns={'Company_Brand': 'company_brand', 'Founded': 'founded','HeadQuarter': 'headquarter','Sector': 'sector','What_it_does': 'about_company','Founders':'founders','Investor':'investor','Amount':'amount','Stage':'series'})\n",
    "    df2 = data_2020.rename(columns={'Company_Brand': 'company_brand', 'Founded': 'founded','HeadQuarter': 'headquarter','Sector': 'sector','What_it_does': 'about_company','Founders':'founders','Investor':'investor','Amount':'amount','Stage':'series'})\n",
    "    df3 = data_2019.rename(columns={'Company/Brand': 'company_brand', 'Founded': 'founded','HeadQuarter': 'headquarter','Sector': 'sector','What it does': 'about_company','Founders':'founders','Investor':'investor','Amount($)':'amount','Stage':'series'})\n",
    "    df4 = data_2018.rename(columns={'Company Name': 'company_brand','Location': 'headquarter','Industry': 'sector','About Company': 'about_company','Amount':'amount','Round/Series':'series'})\n",
    " \n",
    "    # Concatenate dataframes along the row axis\n",
    "    result = pd.concat([df1, df2, df3,df4], axis=0)\n",
    " \n",
    "    return result"
   ]
  },
  {
   "cell_type": "code",
   "execution_count": 36,
   "metadata": {},
   "outputs": [
    {
     "data": {
      "text/html": [
       "<div>\n",
       "<style scoped>\n",
       "    .dataframe tbody tr th:only-of-type {\n",
       "        vertical-align: middle;\n",
       "    }\n",
       "\n",
       "    .dataframe tbody tr th {\n",
       "        vertical-align: top;\n",
       "    }\n",
       "\n",
       "    .dataframe thead th {\n",
       "        text-align: right;\n",
       "    }\n",
       "</style>\n",
       "<table border=\"1\" class=\"dataframe\">\n",
       "  <thead>\n",
       "    <tr style=\"text-align: right;\">\n",
       "      <th></th>\n",
       "      <th>company_brand</th>\n",
       "      <th>founded</th>\n",
       "      <th>headquarter</th>\n",
       "      <th>sector</th>\n",
       "      <th>about_company</th>\n",
       "      <th>founders</th>\n",
       "      <th>investor</th>\n",
       "      <th>amount</th>\n",
       "      <th>series</th>\n",
       "      <th>year</th>\n",
       "      <th>column10</th>\n",
       "    </tr>\n",
       "  </thead>\n",
       "  <tbody>\n",
       "    <tr>\n",
       "      <th>0</th>\n",
       "      <td>Unbox Robotics</td>\n",
       "      <td>2019.0</td>\n",
       "      <td>Bangalore</td>\n",
       "      <td>AI startup</td>\n",
       "      <td>Unbox Robotics builds on-demand AI-driven ware...</td>\n",
       "      <td>Pramod Ghadge, Shahid Memon</td>\n",
       "      <td>BEENEXT, Entrepreneur First</td>\n",
       "      <td>$1,200,000</td>\n",
       "      <td>Pre-series A</td>\n",
       "      <td>2021</td>\n",
       "      <td>NaN</td>\n",
       "    </tr>\n",
       "    <tr>\n",
       "      <th>1</th>\n",
       "      <td>upGrad</td>\n",
       "      <td>2015.0</td>\n",
       "      <td>Mumbai</td>\n",
       "      <td>EdTech</td>\n",
       "      <td>UpGrad is an online higher education platform.</td>\n",
       "      <td>Mayank Kumar, Phalgun Kompalli, Ravijot Chugh,...</td>\n",
       "      <td>Unilazer Ventures, IIFL Asset Management</td>\n",
       "      <td>$120,000,000</td>\n",
       "      <td>None</td>\n",
       "      <td>2021</td>\n",
       "      <td>NaN</td>\n",
       "    </tr>\n",
       "    <tr>\n",
       "      <th>2</th>\n",
       "      <td>Lead School</td>\n",
       "      <td>2012.0</td>\n",
       "      <td>Mumbai</td>\n",
       "      <td>EdTech</td>\n",
       "      <td>LEAD School offers technology based school tra...</td>\n",
       "      <td>Smita Deorah, Sumeet Mehta</td>\n",
       "      <td>GSV Ventures, Westbridge Capital</td>\n",
       "      <td>$30,000,000</td>\n",
       "      <td>Series D</td>\n",
       "      <td>2021</td>\n",
       "      <td>NaN</td>\n",
       "    </tr>\n",
       "    <tr>\n",
       "      <th>3</th>\n",
       "      <td>Bizongo</td>\n",
       "      <td>2015.0</td>\n",
       "      <td>Mumbai</td>\n",
       "      <td>B2B E-commerce</td>\n",
       "      <td>Bizongo is a business-to-business online marke...</td>\n",
       "      <td>Aniket Deb, Ankit Tomar, Sachin Agrawal</td>\n",
       "      <td>CDC Group, IDG Capital</td>\n",
       "      <td>$51,000,000</td>\n",
       "      <td>Series C</td>\n",
       "      <td>2021</td>\n",
       "      <td>NaN</td>\n",
       "    </tr>\n",
       "    <tr>\n",
       "      <th>4</th>\n",
       "      <td>FypMoney</td>\n",
       "      <td>2021.0</td>\n",
       "      <td>Gurugram</td>\n",
       "      <td>FinTech</td>\n",
       "      <td>FypMoney is Digital NEO Bank for Teenagers, em...</td>\n",
       "      <td>Kapil Banwari</td>\n",
       "      <td>Liberatha Kallat, Mukesh Yadav, Dinesh Nagpal</td>\n",
       "      <td>$2,000,000</td>\n",
       "      <td>Seed</td>\n",
       "      <td>2021</td>\n",
       "      <td>NaN</td>\n",
       "    </tr>\n",
       "  </tbody>\n",
       "</table>\n",
       "</div>"
      ],
      "text/plain": [
       "    company_brand  founded headquarter          sector  \\\n",
       "0  Unbox Robotics   2019.0   Bangalore      AI startup   \n",
       "1          upGrad   2015.0      Mumbai          EdTech   \n",
       "2     Lead School   2012.0      Mumbai          EdTech   \n",
       "3         Bizongo   2015.0      Mumbai  B2B E-commerce   \n",
       "4        FypMoney   2021.0    Gurugram         FinTech   \n",
       "\n",
       "                                       about_company  \\\n",
       "0  Unbox Robotics builds on-demand AI-driven ware...   \n",
       "1     UpGrad is an online higher education platform.   \n",
       "2  LEAD School offers technology based school tra...   \n",
       "3  Bizongo is a business-to-business online marke...   \n",
       "4  FypMoney is Digital NEO Bank for Teenagers, em...   \n",
       "\n",
       "                                            founders  \\\n",
       "0                        Pramod Ghadge, Shahid Memon   \n",
       "1  Mayank Kumar, Phalgun Kompalli, Ravijot Chugh,...   \n",
       "2                         Smita Deorah, Sumeet Mehta   \n",
       "3            Aniket Deb, Ankit Tomar, Sachin Agrawal   \n",
       "4                                      Kapil Banwari   \n",
       "\n",
       "                                        investor        amount        series  \\\n",
       "0                    BEENEXT, Entrepreneur First    $1,200,000  Pre-series A   \n",
       "1       Unilazer Ventures, IIFL Asset Management  $120,000,000          None   \n",
       "2               GSV Ventures, Westbridge Capital   $30,000,000      Series D   \n",
       "3                         CDC Group, IDG Capital   $51,000,000      Series C   \n",
       "4  Liberatha Kallat, Mukesh Yadav, Dinesh Nagpal    $2,000,000          Seed   \n",
       "\n",
       "   year column10  \n",
       "0  2021      NaN  \n",
       "1  2021      NaN  \n",
       "2  2021      NaN  \n",
       "3  2021      NaN  \n",
       "4  2021      NaN  "
      ]
     },
     "execution_count": 36,
     "metadata": {},
     "output_type": "execute_result"
    }
   ],
   "source": [
    "df= concat_dataframes(data_2021,data_2020,data_2019,data_2018)\n",
    "df.head()"
   ]
  },
  {
   "cell_type": "code",
   "execution_count": 103,
   "metadata": {},
   "outputs": [
    {
     "name": "stdout",
     "output_type": "stream",
     "text": [
      "Concatenated data saved to concatenated_data.csv\n"
     ]
    }
   ],
   "source": [
    "\n",
    "# Specify the file path for the output CSV file\n",
    "output_csv_file = \"concatenated_data.csv\"\n",
    "\n",
    "# Save the concatenated DataFrame to a CSV file\n",
    "df.to_csv(output_csv_file, index=False)\n",
    "\n",
    "print(f\"Concatenated data saved to {output_csv_file}\")"
   ]
  },
  {
   "cell_type": "code",
   "execution_count": 37,
   "metadata": {},
   "outputs": [
    {
     "name": "stdout",
     "output_type": "stream",
     "text": [
      "<class 'pandas.core.frame.DataFrame'>\n",
      "Index: 2879 entries, 0 to 525\n",
      "Data columns (total 11 columns):\n",
      " #   Column         Non-Null Count  Dtype  \n",
      "---  ------         --------------  -----  \n",
      " 0   company_brand  2879 non-null   object \n",
      " 1   founded        2110 non-null   float64\n",
      " 2   headquarter    2765 non-null   object \n",
      " 3   sector         2861 non-null   object \n",
      " 4   about_company  2879 non-null   object \n",
      " 5   founders       2334 non-null   object \n",
      " 6   investor       2253 non-null   object \n",
      " 7   amount         2622 non-null   object \n",
      " 8   series         1941 non-null   object \n",
      " 9   year           2879 non-null   int64  \n",
      " 10  column10       2 non-null      object \n",
      "dtypes: float64(1), int64(1), object(9)\n",
      "memory usage: 269.9+ KB\n"
     ]
    }
   ],
   "source": [
    "#overview of concatinated data(2018-2021)\n",
    "df.info()\n"
   ]
  },
  {
   "cell_type": "code",
   "execution_count": 38,
   "metadata": {},
   "outputs": [
    {
     "data": {
      "text/plain": [
       "(2879, 11)"
      ]
     },
     "execution_count": 38,
     "metadata": {},
     "output_type": "execute_result"
    }
   ],
   "source": [
    "df.shape"
   ]
  },
  {
   "cell_type": "code",
   "execution_count": 39,
   "metadata": {},
   "outputs": [
    {
     "data": {
      "text/html": [
       "<div>\n",
       "<style scoped>\n",
       "    .dataframe tbody tr th:only-of-type {\n",
       "        vertical-align: middle;\n",
       "    }\n",
       "\n",
       "    .dataframe tbody tr th {\n",
       "        vertical-align: top;\n",
       "    }\n",
       "\n",
       "    .dataframe thead th {\n",
       "        text-align: right;\n",
       "    }\n",
       "</style>\n",
       "<table border=\"1\" class=\"dataframe\">\n",
       "  <thead>\n",
       "    <tr style=\"text-align: right;\">\n",
       "      <th></th>\n",
       "      <th>company_brand</th>\n",
       "      <th>founded</th>\n",
       "      <th>headquarter</th>\n",
       "      <th>sector</th>\n",
       "      <th>about_company</th>\n",
       "      <th>founders</th>\n",
       "      <th>investor</th>\n",
       "      <th>amount</th>\n",
       "      <th>series</th>\n",
       "      <th>year</th>\n",
       "      <th>column10</th>\n",
       "    </tr>\n",
       "  </thead>\n",
       "  <tbody>\n",
       "    <tr>\n",
       "      <th>count</th>\n",
       "      <td>2879</td>\n",
       "      <td>2110.000000</td>\n",
       "      <td>2765</td>\n",
       "      <td>2861</td>\n",
       "      <td>2879</td>\n",
       "      <td>2334</td>\n",
       "      <td>2253</td>\n",
       "      <td>2622</td>\n",
       "      <td>1941</td>\n",
       "      <td>2879.000000</td>\n",
       "      <td>2</td>\n",
       "    </tr>\n",
       "    <tr>\n",
       "      <th>unique</th>\n",
       "      <td>2214</td>\n",
       "      <td>NaN</td>\n",
       "      <td>172</td>\n",
       "      <td>873</td>\n",
       "      <td>2691</td>\n",
       "      <td>1980</td>\n",
       "      <td>1777</td>\n",
       "      <td>774</td>\n",
       "      <td>75</td>\n",
       "      <td>NaN</td>\n",
       "      <td>2</td>\n",
       "    </tr>\n",
       "    <tr>\n",
       "      <th>top</th>\n",
       "      <td>BharatPe</td>\n",
       "      <td>NaN</td>\n",
       "      <td>Bangalore</td>\n",
       "      <td>FinTech</td>\n",
       "      <td>Provides online learning classes</td>\n",
       "      <td>Ashneer Grover, Shashvat Nakrani</td>\n",
       "      <td>Inflection Point Ventures</td>\n",
       "      <td>—</td>\n",
       "      <td>Seed</td>\n",
       "      <td>NaN</td>\n",
       "      <td>Pre-Seed</td>\n",
       "    </tr>\n",
       "    <tr>\n",
       "      <th>freq</th>\n",
       "      <td>10</td>\n",
       "      <td>NaN</td>\n",
       "      <td>764</td>\n",
       "      <td>173</td>\n",
       "      <td>5</td>\n",
       "      <td>7</td>\n",
       "      <td>36</td>\n",
       "      <td>148</td>\n",
       "      <td>606</td>\n",
       "      <td>NaN</td>\n",
       "      <td>1</td>\n",
       "    </tr>\n",
       "    <tr>\n",
       "      <th>mean</th>\n",
       "      <td>NaN</td>\n",
       "      <td>2016.079621</td>\n",
       "      <td>NaN</td>\n",
       "      <td>NaN</td>\n",
       "      <td>NaN</td>\n",
       "      <td>NaN</td>\n",
       "      <td>NaN</td>\n",
       "      <td>NaN</td>\n",
       "      <td>NaN</td>\n",
       "      <td>2020.023619</td>\n",
       "      <td>NaN</td>\n",
       "    </tr>\n",
       "    <tr>\n",
       "      <th>std</th>\n",
       "      <td>NaN</td>\n",
       "      <td>4.368006</td>\n",
       "      <td>NaN</td>\n",
       "      <td>NaN</td>\n",
       "      <td>NaN</td>\n",
       "      <td>NaN</td>\n",
       "      <td>NaN</td>\n",
       "      <td>NaN</td>\n",
       "      <td>NaN</td>\n",
       "      <td>1.086974</td>\n",
       "      <td>NaN</td>\n",
       "    </tr>\n",
       "    <tr>\n",
       "      <th>min</th>\n",
       "      <td>NaN</td>\n",
       "      <td>1963.000000</td>\n",
       "      <td>NaN</td>\n",
       "      <td>NaN</td>\n",
       "      <td>NaN</td>\n",
       "      <td>NaN</td>\n",
       "      <td>NaN</td>\n",
       "      <td>NaN</td>\n",
       "      <td>NaN</td>\n",
       "      <td>2018.000000</td>\n",
       "      <td>NaN</td>\n",
       "    </tr>\n",
       "    <tr>\n",
       "      <th>25%</th>\n",
       "      <td>NaN</td>\n",
       "      <td>2015.000000</td>\n",
       "      <td>NaN</td>\n",
       "      <td>NaN</td>\n",
       "      <td>NaN</td>\n",
       "      <td>NaN</td>\n",
       "      <td>NaN</td>\n",
       "      <td>NaN</td>\n",
       "      <td>NaN</td>\n",
       "      <td>2020.000000</td>\n",
       "      <td>NaN</td>\n",
       "    </tr>\n",
       "    <tr>\n",
       "      <th>50%</th>\n",
       "      <td>NaN</td>\n",
       "      <td>2017.000000</td>\n",
       "      <td>NaN</td>\n",
       "      <td>NaN</td>\n",
       "      <td>NaN</td>\n",
       "      <td>NaN</td>\n",
       "      <td>NaN</td>\n",
       "      <td>NaN</td>\n",
       "      <td>NaN</td>\n",
       "      <td>2020.000000</td>\n",
       "      <td>NaN</td>\n",
       "    </tr>\n",
       "    <tr>\n",
       "      <th>75%</th>\n",
       "      <td>NaN</td>\n",
       "      <td>2019.000000</td>\n",
       "      <td>NaN</td>\n",
       "      <td>NaN</td>\n",
       "      <td>NaN</td>\n",
       "      <td>NaN</td>\n",
       "      <td>NaN</td>\n",
       "      <td>NaN</td>\n",
       "      <td>NaN</td>\n",
       "      <td>2021.000000</td>\n",
       "      <td>NaN</td>\n",
       "    </tr>\n",
       "    <tr>\n",
       "      <th>max</th>\n",
       "      <td>NaN</td>\n",
       "      <td>2021.000000</td>\n",
       "      <td>NaN</td>\n",
       "      <td>NaN</td>\n",
       "      <td>NaN</td>\n",
       "      <td>NaN</td>\n",
       "      <td>NaN</td>\n",
       "      <td>NaN</td>\n",
       "      <td>NaN</td>\n",
       "      <td>2021.000000</td>\n",
       "      <td>NaN</td>\n",
       "    </tr>\n",
       "  </tbody>\n",
       "</table>\n",
       "</div>"
      ],
      "text/plain": [
       "       company_brand      founded headquarter   sector  \\\n",
       "count           2879  2110.000000        2765     2861   \n",
       "unique          2214          NaN         172      873   \n",
       "top         BharatPe          NaN   Bangalore  FinTech   \n",
       "freq              10          NaN         764      173   \n",
       "mean             NaN  2016.079621         NaN      NaN   \n",
       "std              NaN     4.368006         NaN      NaN   \n",
       "min              NaN  1963.000000         NaN      NaN   \n",
       "25%              NaN  2015.000000         NaN      NaN   \n",
       "50%              NaN  2017.000000         NaN      NaN   \n",
       "75%              NaN  2019.000000         NaN      NaN   \n",
       "max              NaN  2021.000000         NaN      NaN   \n",
       "\n",
       "                           about_company                          founders  \\\n",
       "count                               2879                              2334   \n",
       "unique                              2691                              1980   \n",
       "top     Provides online learning classes  Ashneer Grover, Shashvat Nakrani   \n",
       "freq                                   5                                 7   \n",
       "mean                                 NaN                               NaN   \n",
       "std                                  NaN                               NaN   \n",
       "min                                  NaN                               NaN   \n",
       "25%                                  NaN                               NaN   \n",
       "50%                                  NaN                               NaN   \n",
       "75%                                  NaN                               NaN   \n",
       "max                                  NaN                               NaN   \n",
       "\n",
       "                         investor amount series         year  column10  \n",
       "count                        2253   2622   1941  2879.000000         2  \n",
       "unique                       1777    774     75          NaN         2  \n",
       "top     Inflection Point Ventures      —   Seed          NaN  Pre-Seed  \n",
       "freq                           36    148    606          NaN         1  \n",
       "mean                          NaN    NaN    NaN  2020.023619       NaN  \n",
       "std                           NaN    NaN    NaN     1.086974       NaN  \n",
       "min                           NaN    NaN    NaN  2018.000000       NaN  \n",
       "25%                           NaN    NaN    NaN  2020.000000       NaN  \n",
       "50%                           NaN    NaN    NaN  2020.000000       NaN  \n",
       "75%                           NaN    NaN    NaN  2021.000000       NaN  \n",
       "max                           NaN    NaN    NaN  2021.000000       NaN  "
      ]
     },
     "execution_count": 39,
     "metadata": {},
     "output_type": "execute_result"
    }
   ],
   "source": [
    "df.describe(include='all')"
   ]
  },
  {
   "cell_type": "code",
   "execution_count": 40,
   "metadata": {},
   "outputs": [
    {
     "data": {
      "text/plain": [
       "company_brand       0\n",
       "founded           769\n",
       "headquarter       114\n",
       "sector             18\n",
       "about_company       0\n",
       "founders          545\n",
       "investor          626\n",
       "amount            257\n",
       "series            938\n",
       "year                0\n",
       "column10         2877\n",
       "dtype: int64"
      ]
     },
     "execution_count": 40,
     "metadata": {},
     "output_type": "execute_result"
    }
   ],
   "source": [
    "df.isna().sum()"
   ]
  },
  {
   "cell_type": "code",
   "execution_count": 41,
   "metadata": {},
   "outputs": [
    {
     "data": {
      "text/plain": [
       "23"
      ]
     },
     "execution_count": 41,
     "metadata": {},
     "output_type": "execute_result"
    }
   ],
   "source": [
    "df.duplicated().sum()"
   ]
  },
  {
   "cell_type": "code",
   "execution_count": 42,
   "metadata": {},
   "outputs": [
    {
     "data": {
      "text/plain": [
       "company_brand    2214\n",
       "founded            34\n",
       "headquarter       172\n",
       "sector            873\n",
       "about_company    2691\n",
       "founders         1980\n",
       "investor         1777\n",
       "amount            774\n",
       "series             75\n",
       "year                4\n",
       "column10            2\n",
       "dtype: int64"
      ]
     },
     "execution_count": 42,
     "metadata": {},
     "output_type": "execute_result"
    }
   ],
   "source": [
    "df.nunique()"
   ]
  },
  {
   "cell_type": "markdown",
   "metadata": {},
   "source": [
    "## Summary "
   ]
  },
  {
   "cell_type": "markdown",
   "metadata": {},
   "source": [
    "\n",
    "\n",
    "--> The combined dataset has 2879 rows and 10 columns\n",
    "\n",
    "--> There is 10 columns for the 2020 dataset, 9 columns for the 2021 dataset , 9 columns for the 2019 dataset,6 columns for the 2018 dataset\n",
    "\n",
    "--> The column founded is the only one with integer datatype\n",
    "\n",
    "--> The 2020 dataset contains an addition of columns that appears to be extraneous that doesn't seem to serve any meaningfull purpose"
   ]
  },
  {
   "cell_type": "markdown",
   "metadata": {},
   "source": [
    "NOTES\n",
    "1. The data set has missing values which require cleaning.\n",
    "2. We will be dropping column 10 since it is a duplicate of the series.\n",
    "3. There are duplicates in our dataset which need to be dropped.\n",
    "4. The column amount data type needs to be changed to float and also convert currency to USD.\n",
    "5. There is a need of assessing the mean, std , percentile after cleaning.\n",
    "6. conduct another EDA for column amount."
   ]
  },
  {
   "cell_type": "markdown",
   "metadata": {},
   "source": [
    "### Course of Action:\n",
    "\n",
    "Missing Column Engineering for 2018:\n",
    "\n",
    "We will address the absence of certain columns in the 2018 dataset by employing data engineering techniques to create and populate the missing columns, ensuring a comprehensive and consistent dataset.\n",
    "Column Name Standardization:\n",
    "\n",
    "To establish uniformity and coherence across all datasets, we will embark on a column renaming process for the 2018 and 2019 datasets. This action aims to align the naming conventions with those observed in the 2020 and 2021 datasets, facilitating seamless data integration and analysis.\n",
    "Extraneous Column Removal in 2020:\n",
    "\n",
    "The redundant column identified in the 2020 dataset will be removed, streamlining the dataset and eliminating unnecessary elements that do not contribute to the overall analysis objectives.\n",
    "These actions collectively enhance the integrity, consistency, and completeness of the dataset, paving the way for a more robust and coherent analytical process. ical process."
   ]
  },
  {
   "cell_type": "markdown",
   "metadata": {},
   "source": [
    "BUSINESS QUESTIONS\n",
    "1. Which industries/sectors have the largest funding?\n",
    "2. Who are the top ten competitors with the largest funding?\n",
    "3. Who are the top investors?(frequency)\n",
    "4. Which year was funds allocated the most?\n",
    "5. Which is the largest headquaters for startup business in India?\n",
    "6. What is the average funds granted to startups?"
   ]
  },
  {
   "cell_type": "markdown",
   "metadata": {},
   "source": [
    "## 3 DATA PREPARATION AND CLEANING "
   ]
  },
  {
   "cell_type": "markdown",
   "metadata": {},
   "source": [
    "### 3.0 Convert Indian Rupee values in the 2018 data to dollars"
   ]
  },
  {
   "cell_type": "code",
   "execution_count": 49,
   "metadata": {},
   "outputs": [],
   "source": [
    "# Replace '₹', commas, '—', and \"''\" in 'Amount' column\n",
    "data_2018['Amount'] = data_2018['Amount'].str.replace(',', '').str.replace('—', '').str.replace(\"''\",'').replace('', np.nan)\n",
    "\n",
    "# Conditionally apply multiplication only where '₹' is present\n",
    "mask = data_2018['Amount'].str.contains('₹', na=False)\n",
    "data_2018.loc[mask, 'Amount'] = data_2018.loc[mask, 'Amount'].str.replace('₹', '').astype(float) * 0.0146"
   ]
  },
  {
   "cell_type": "code",
   "execution_count": 43,
   "metadata": {},
   "outputs": [],
   "source": [
    "pd.set_option(\"display.max_rows\", None)\n",
    "pd.set_option('display.max_colwidth', None)"
   ]
  },
  {
   "cell_type": "code",
   "execution_count": 44,
   "metadata": {},
   "outputs": [],
   "source": [
    "df= df.reset_index(drop=True)"
   ]
  },
  {
   "cell_type": "code",
   "execution_count": 45,
   "metadata": {},
   "outputs": [
    {
     "data": {
      "text/html": [
       "<div>\n",
       "<style scoped>\n",
       "    .dataframe tbody tr th:only-of-type {\n",
       "        vertical-align: middle;\n",
       "    }\n",
       "\n",
       "    .dataframe tbody tr th {\n",
       "        vertical-align: top;\n",
       "    }\n",
       "\n",
       "    .dataframe thead th {\n",
       "        text-align: right;\n",
       "    }\n",
       "</style>\n",
       "<table border=\"1\" class=\"dataframe\">\n",
       "  <thead>\n",
       "    <tr style=\"text-align: right;\">\n",
       "      <th></th>\n",
       "      <th>company_brand</th>\n",
       "      <th>founded</th>\n",
       "      <th>headquarter</th>\n",
       "      <th>sector</th>\n",
       "      <th>about_company</th>\n",
       "      <th>founders</th>\n",
       "      <th>investor</th>\n",
       "      <th>amount</th>\n",
       "      <th>series</th>\n",
       "      <th>year</th>\n",
       "      <th>column10</th>\n",
       "    </tr>\n",
       "  </thead>\n",
       "  <tbody>\n",
       "    <tr>\n",
       "      <th>2874</th>\n",
       "      <td>Udaan</td>\n",
       "      <td>NaN</td>\n",
       "      <td>Bangalore, Karnataka, India</td>\n",
       "      <td>B2B, Business Development, Internet, Marketplace</td>\n",
       "      <td>Udaan is a B2B trade platform, designed specifically for small and medium businesses in India.</td>\n",
       "      <td>NaN</td>\n",
       "      <td>NaN</td>\n",
       "      <td>225000000</td>\n",
       "      <td>Series C</td>\n",
       "      <td>2018</td>\n",
       "      <td>NaN</td>\n",
       "    </tr>\n",
       "    <tr>\n",
       "      <th>2875</th>\n",
       "      <td>Happyeasygo Group</td>\n",
       "      <td>NaN</td>\n",
       "      <td>Haryana, Haryana, India</td>\n",
       "      <td>Tourism, Travel</td>\n",
       "      <td>HappyEasyGo is an online travel domain.</td>\n",
       "      <td>NaN</td>\n",
       "      <td>NaN</td>\n",
       "      <td>—</td>\n",
       "      <td>Series A</td>\n",
       "      <td>2018</td>\n",
       "      <td>NaN</td>\n",
       "    </tr>\n",
       "    <tr>\n",
       "      <th>2876</th>\n",
       "      <td>Mombay</td>\n",
       "      <td>NaN</td>\n",
       "      <td>Mumbai, Maharashtra, India</td>\n",
       "      <td>Food and Beverage, Food Delivery, Internet</td>\n",
       "      <td>Mombay is a unique opportunity for housewives to start household food business and avail everyone with their homemade healthy dishes.</td>\n",
       "      <td>NaN</td>\n",
       "      <td>NaN</td>\n",
       "      <td>7500</td>\n",
       "      <td>Seed</td>\n",
       "      <td>2018</td>\n",
       "      <td>NaN</td>\n",
       "    </tr>\n",
       "    <tr>\n",
       "      <th>2877</th>\n",
       "      <td>Droni Tech</td>\n",
       "      <td>NaN</td>\n",
       "      <td>Mumbai, Maharashtra, India</td>\n",
       "      <td>Information Technology</td>\n",
       "      <td>Droni Tech manufacture UAVs and develop software to service a range of industry requirements.</td>\n",
       "      <td>NaN</td>\n",
       "      <td>NaN</td>\n",
       "      <td>₹35,000,000</td>\n",
       "      <td>Seed</td>\n",
       "      <td>2018</td>\n",
       "      <td>NaN</td>\n",
       "    </tr>\n",
       "    <tr>\n",
       "      <th>2878</th>\n",
       "      <td>Netmeds</td>\n",
       "      <td>NaN</td>\n",
       "      <td>Chennai, Tamil Nadu, India</td>\n",
       "      <td>Biotechnology, Health Care, Pharmaceutical</td>\n",
       "      <td>Welcome to India's most convenient pharmacy!</td>\n",
       "      <td>NaN</td>\n",
       "      <td>NaN</td>\n",
       "      <td>35000000</td>\n",
       "      <td>Series C</td>\n",
       "      <td>2018</td>\n",
       "      <td>NaN</td>\n",
       "    </tr>\n",
       "  </tbody>\n",
       "</table>\n",
       "</div>"
      ],
      "text/plain": [
       "          company_brand  founded                  headquarter  \\\n",
       "2874              Udaan      NaN  Bangalore, Karnataka, India   \n",
       "2875  Happyeasygo Group      NaN      Haryana, Haryana, India   \n",
       "2876             Mombay      NaN   Mumbai, Maharashtra, India   \n",
       "2877         Droni Tech      NaN   Mumbai, Maharashtra, India   \n",
       "2878            Netmeds      NaN   Chennai, Tamil Nadu, India   \n",
       "\n",
       "                                                sector  \\\n",
       "2874  B2B, Business Development, Internet, Marketplace   \n",
       "2875                                   Tourism, Travel   \n",
       "2876        Food and Beverage, Food Delivery, Internet   \n",
       "2877                            Information Technology   \n",
       "2878        Biotechnology, Health Care, Pharmaceutical   \n",
       "\n",
       "                                                                                                                              about_company  \\\n",
       "2874                                         Udaan is a B2B trade platform, designed specifically for small and medium businesses in India.   \n",
       "2875                                                                                                HappyEasyGo is an online travel domain.   \n",
       "2876  Mombay is a unique opportunity for housewives to start household food business and avail everyone with their homemade healthy dishes.   \n",
       "2877                                          Droni Tech manufacture UAVs and develop software to service a range of industry requirements.   \n",
       "2878                                                                                           Welcome to India's most convenient pharmacy!   \n",
       "\n",
       "     founders investor       amount    series  year column10  \n",
       "2874      NaN      NaN    225000000  Series C  2018      NaN  \n",
       "2875      NaN      NaN            —  Series A  2018      NaN  \n",
       "2876      NaN      NaN         7500      Seed  2018      NaN  \n",
       "2877      NaN      NaN  ₹35,000,000      Seed  2018      NaN  \n",
       "2878      NaN      NaN     35000000  Series C  2018      NaN  "
      ]
     },
     "execution_count": 45,
     "metadata": {},
     "output_type": "execute_result"
    }
   ],
   "source": [
    "df.tail()"
   ]
  },
  {
   "cell_type": "code",
   "execution_count": 46,
   "metadata": {},
   "outputs": [],
   "source": [
    "#Drop the extreneous column 10\n",
    "df.drop('column10', axis=1, inplace= True)"
   ]
  },
  {
   "cell_type": "markdown",
   "metadata": {},
   "source": [
    "### 3.1 CLEANING AMOUNT COLUMN"
   ]
  },
  {
   "cell_type": "markdown",
   "metadata": {},
   "source": [
    "Notes\n",
    "\n",
    "Remove all currency signs\n",
    "\n",
    "Remove all other umwanted characters, words and symbols\n",
    "\n",
    "Fill the nulls uning interpolate method\n",
    "\n",
    "Convert the column from object to float"
   ]
  },
  {
   "cell_type": "code",
   "execution_count": 56,
   "metadata": {},
   "outputs": [],
   "source": [
    "df['amount']=df['amount'].replace('\\$','',regex=True)\n",
    "df['amount']=df['amount'].replace(['Undisclosed','undisclosed',None],np.NAN)\n",
    "df['headquarter']=df['headquarter'].str.strip('\\t#REF!')\n",
    "df['amount']=df['amount'].replace('\\,','',regex=True)\n",
    "df['amount']=df['amount'].replace(\",\",\"\")"
   ]
  },
  {
   "cell_type": "code",
   "execution_count": 54,
   "metadata": {},
   "outputs": [],
   "source": [
    "# fix index 242\n",
    "df.at[242, 'headquarter'] = None\n",
    "df.at[242, 'sector'] = 'Pharmaceuticals'\n",
    "df.at[242, 'founders'] = 'Varun Khanna'\n",
    "df.at[242, 'investor'] = 'Morgan Stanley Private Equity Asia'\n",
    "df.at[242, 'amount'] = '22000000'\n",
    "df.at[242, 'series'] = 'Series C'\n",
    "df.at[242, 'about_company'] = 'Development and Manufacturing'\n",
    "\n",
    "# drop the duplicate row\n",
    "df = df.drop(256, axis=0, errors='ignore')\n",
    "\n",
    "# fix index 1148\n",
    "df.at[1148, 'sector'] = 'Logistics'\n",
    "df.at[1148, 'founders'] ='Basant Kumar' \n",
    "df.at[1148, 'investor'] =None\n",
    "df.at[1148, 'amount'] = 1000000\n",
    "df.at[1148, 'series'] = 'Seed'\n",
    " \n",
    "# fix index 257\n",
    "df.at[257, 'sector'] = 'Transport'\n",
    "df.at[257, 'founders'] ='Anshuman Maheshwary'\n",
    "df.at[257, 'investor'] =None\n",
    "df.at[257, 'amount'] = 5000000\n",
    "df.at[257, 'series'] = 'Seed'\n",
    "\n",
    "# fix index 98\n",
    "df.at[98, 'sector'] = 'Computer Games'\n",
    "df.at[98, 'founders'] ='Pritesh Kumar'\n",
    "df.at[98, 'investor'] =None\n",
    "df.at[98, 'amount'] = 1200000\n",
    "df.at[98, 'series'] = 'Seed'\n",
    "\n",
    "# drop the duplicate column\n",
    "df = df.drop(111, axis=0, errors='ignore')\n",
    "\n",
    "# fix index 677\n",
    "df.at[677, 'amount'] = 1000000\n",
    "df.at[677, 'series'] = 'Angel'\n",
    "\n",
    "# fix index 545\n",
    "df.at[545, 'investor'] =None\n",
    "df.at[545, 'amount'] = 1000000\n",
    "df.at[545, 'series'] = 'Pre-series A'\n",
    "\n",
    "# fix index 538\n",
    "df.at[538, 'investor'] =None\n",
    "df.at[538, 'amount'] = 300000\n",
    "df.at[538, 'series'] = 'Pre-Seed'\n",
    "\n",
    "# fix index 551\n",
    "df.at[551,'amount']=300000\n",
    "df.at[551,'series']=None\n",
    "\n",
    "# fix index 674\n",
    "df.at[674,'amount']=6000000\n",
    "df.at[674,'series']=None\n",
    "\n",
    "# fix index 2531\n",
    "df.at[2531,'amount']=None\n",
    "df.at[2531,'series']=None"
   ]
  },
  {
   "cell_type": "code",
   "execution_count": 58,
   "metadata": {},
   "outputs": [],
   "source": [
    "# fill nulll values with 0\n",
    "df['amount'].fillna(0, inplace=True)"
   ]
  },
  {
   "cell_type": "code",
   "execution_count": 59,
   "metadata": {},
   "outputs": [
    {
     "data": {
      "text/plain": [
       "0"
      ]
     },
     "execution_count": 59,
     "metadata": {},
     "output_type": "execute_result"
    }
   ],
   "source": [
    "df['amount'].isna().sum()"
   ]
  },
  {
   "cell_type": "markdown",
   "metadata": {},
   "source": [
    "### 3.2 **Cleaning year column** "
   ]
  },
  {
   "cell_type": "markdown",
   "metadata": {},
   "source": [
    "**Notes**  \n",
    "\n",
    "\n",
    "- Convert data type to period"
   ]
  },
  {
   "cell_type": "code",
   "execution_count": 61,
   "metadata": {},
   "outputs": [],
   "source": [
    "# Convert the data_year column to date\n",
    "df['year']=pd.to_datetime(df['year'], format='%Y')\n",
    "# df['year']=df['year'].dt.to_period('y')\n",
    "df['founded']=pd.to_datetime(df['founded']).dt.year"
   ]
  },
  {
   "cell_type": "code",
   "execution_count": 62,
   "metadata": {},
   "outputs": [
    {
     "name": "stdout",
     "output_type": "stream",
     "text": [
      "There are 0 Null values in the 'year' column\n"
     ]
    }
   ],
   "source": [
    "# check for nulls and duplicated\n",
    "print(f\"There are {df['year'].isna().sum()} Null values in the 'year' column\")"
   ]
  },
  {
   "cell_type": "code",
   "execution_count": 63,
   "metadata": {},
   "outputs": [
    {
     "name": "stdout",
     "output_type": "stream",
     "text": [
      "<class 'pandas.core.series.Series'>\n",
      "Index: 2877 entries, 0 to 2878\n",
      "Series name: year\n",
      "Non-Null Count  Dtype         \n",
      "--------------  -----         \n",
      "2877 non-null   datetime64[ns]\n",
      "dtypes: datetime64[ns](1)\n",
      "memory usage: 109.5 KB\n"
     ]
    }
   ],
   "source": [
    "df['year'].info()"
   ]
  },
  {
   "cell_type": "markdown",
   "metadata": {},
   "source": [
    "##  3.3 **Cleaning 'founded' column**"
   ]
  },
  {
   "cell_type": "markdown",
   "metadata": {},
   "source": [
    "**Notes**  \n",
    "- There are 769 null values in the 'founded' column.  \n",
    "\n",
    "- Since dropping the nulls will lead to a significant loss of our data, Backward fill will be used to fill the null values"
   ]
  },
  {
   "cell_type": "markdown",
   "metadata": {},
   "source": [
    "**COURSE OF ACTION**\n",
    "\n",
    "- We will be cleaning the missing values by fill them using interpolate method which is suitable for time series data  \n",
    "\n",
    "- We will also be converting the data type from float to datetime for purpose of our analysis."
   ]
  },
  {
   "cell_type": "code",
   "execution_count": 64,
   "metadata": {},
   "outputs": [
    {
     "name": "stdout",
     "output_type": "stream",
     "text": [
      "There are 0 missing values\n"
     ]
    }
   ],
   "source": [
    "# Fill the nulls\n",
    "df[\"founded\"].interpolate(method='linear',inplace= True)\n",
    "\n",
    "print(f\"There are {df['founded'].isna().sum()} missing values\")"
   ]
  },
  {
   "cell_type": "code",
   "execution_count": 65,
   "metadata": {},
   "outputs": [],
   "source": [
    "# Convert to datetime\n",
    "df['founded'] = pd.to_datetime(df['founded'], format='%Y')\n",
    "\n",
    "# Convert to period\n",
    "df['founded'] = df['founded'].dt.to_period('Y')"
   ]
  },
  {
   "cell_type": "code",
   "execution_count": 66,
   "metadata": {},
   "outputs": [
    {
     "name": "stdout",
     "output_type": "stream",
     "text": [
      "<class 'pandas.core.series.Series'>\n",
      "Index: 2877 entries, 0 to 2878\n",
      "Series name: founded\n",
      "Non-Null Count  Dtype        \n",
      "--------------  -----        \n",
      "2877 non-null   period[A-DEC]\n",
      "dtypes: period[A-DEC](1)\n",
      "memory usage: 109.5 KB\n"
     ]
    }
   ],
   "source": [
    "df['founded'].info()"
   ]
  },
  {
   "cell_type": "code",
   "execution_count": 67,
   "metadata": {},
   "outputs": [
    {
     "name": "stdout",
     "output_type": "stream",
     "text": [
      "<class 'pandas.core.frame.DataFrame'>\n",
      "Index: 2877 entries, 0 to 2878\n",
      "Data columns (total 10 columns):\n",
      " #   Column         Non-Null Count  Dtype         \n",
      "---  ------         --------------  -----         \n",
      " 0   company_brand  2877 non-null   object        \n",
      " 1   founded        2877 non-null   period[A-DEC] \n",
      " 2   headquarter    2762 non-null   object        \n",
      " 3   sector         2859 non-null   object        \n",
      " 4   about_company  2877 non-null   object        \n",
      " 5   founders       2332 non-null   object        \n",
      " 6   investor       2246 non-null   object        \n",
      " 7   amount         2877 non-null   object        \n",
      " 8   series         1941 non-null   object        \n",
      " 9   year           2877 non-null   datetime64[ns]\n",
      "dtypes: datetime64[ns](1), object(8), period[A-DEC](1)\n",
      "memory usage: 311.8+ KB\n"
     ]
    }
   ],
   "source": [
    "df.info()"
   ]
  },
  {
   "cell_type": "markdown",
   "metadata": {},
   "source": [
    "##  3.4 **Cleaning the 'founders' column**"
   ]
  },
  {
   "cell_type": "code",
   "execution_count": 68,
   "metadata": {},
   "outputs": [
    {
     "name": "stdout",
     "output_type": "stream",
     "text": [
      "545\n"
     ]
    }
   ],
   "source": [
    "# Remove unwanted characters\n",
    "df['founders'] = df['founders'].replace(['...', np.nan], np.NaN)\n",
    "\n",
    "# Check the number of NaN values in the 'founders' column\n",
    "nan_count = df['founders'].isna().sum()\n",
    "\n",
    "print(nan_count)"
   ]
  },
  {
   "cell_type": "code",
   "execution_count": 69,
   "metadata": {},
   "outputs": [
    {
     "name": "stdout",
     "output_type": "stream",
     "text": [
      "<class 'pandas.core.series.Series'>\n",
      "Index: 2877 entries, 0 to 2878\n",
      "Series name: founders\n",
      "Non-Null Count  Dtype \n",
      "--------------  ----- \n",
      "2332 non-null   object\n",
      "dtypes: object(1)\n",
      "memory usage: 109.5+ KB\n"
     ]
    }
   ],
   "source": [
    "df['founders'].info()"
   ]
  },
  {
   "cell_type": "markdown",
   "metadata": {},
   "source": [
    "## 3.5  **Cleaning Stage column**"
   ]
  },
  {
   "cell_type": "markdown",
   "metadata": {},
   "source": [
    "Startups start with pre-seed, progress through seed, Series A, Series B, etc., securing resources for development and strategies. Additional rounds like Series C or D may follow. External funding at each stage fuels growth toward the venture's full potential"
   ]
  },
  {
   "cell_type": "markdown",
   "metadata": {},
   "source": [
    "link: https://www.startupindia.gov.in/content/sih/en/funding.html"
   ]
  },
  {
   "cell_type": "markdown",
   "metadata": {},
   "source": [
    "| Stages          | Description                                                           |\n",
    "|-----------------|-----------------------------------------------------------------------|\n",
    "| Others          | Miscellaneous phases or unique development activities.                 |\n",
    "| Early Traction  | Gaining initial traction, attracting early adopters, and refining based on feedback. |\n",
    "| Validation      | Validating the business model, product-market fit, and scalability through research and feedback. |\n",
    "| Ideation        | Brainstorming and developing business concepts, defining value propositions, and outlining plans. |\n",
    "| Scaling         | Expanding operations, customer base, and market reach for rapid growth. |\n",
    "| Exit Option     | Considering exit strategies such as mergers, acquisitions, or IPOs.     |"
   ]
  },
  {
   "cell_type": "code",
   "execution_count": 70,
   "metadata": {},
   "outputs": [
    {
     "name": "stdout",
     "output_type": "stream",
     "text": [
      "['early traction' 'others' 'validation' 'scaling' 'exit option']\n"
     ]
    }
   ],
   "source": [
    "def categorize_series(df):\n",
    "    # Convert 'series' column to lowercase for case-insensitive operations\n",
    "    df['series'] = df['series'].astype(str).str.lower()\n",
    "\n",
    "    # Step 1: Replace Exit Option stages\n",
    "    df.loc[df['series'].str.contains('post ipo|post series a', regex=True, case=False), 'series'] = 'exit option'\n",
    "\n",
    "    # Step 2: Replace Scaling stages\n",
    "    df.loc[df['series'].str.contains('mid series|series b\\+|private equity|venture - series unknown', regex=True, case=False), 'series'] = 'scaling'\n",
    "\n",
    "    # Step 3: Replace Early Traction stages\n",
    "    df.loc[df['series'].str.contains('series [abcdefghi]|early seed', regex=True, case=False), 'series'] = 'early traction'\n",
    "\n",
    "    # Step 4: Replace Validation stages\n",
    "    df.loc[df['series'].str.contains('seed|angel', regex=True, case=False), 'series'] = 'validation'\n",
    "\n",
    "    # Step 5: Replace Ideation stages\n",
    "    df.loc[df['series'].str.contains('pre[ -]?seed', regex=True, case=False), 'series'] = 'ideation'\n",
    "\n",
    "    # Step 6: Replace Others\n",
    "    df.loc[df['series'].str.contains('pre[ -]?series|bridge|corporate round|debt|undisclosed|secondary market|non-equity assistance|grant|funding round|nan', na=False, regex=True, case=False), 'series'] = 'others'\n",
    "\n",
    "    # Step 7: Catch-all replacement for any remaining uncategorized values\n",
    "    df.loc[~df['series'].isin(['others', 'early traction', 'validation', 'ideation', 'scaling', 'exit option']), 'series'] = 'others'\n",
    "\n",
    "    return df\n",
    "\n",
    "# Apply the categorization function to your existing DataFrame\n",
    "df = categorize_series(df)\n",
    "\n",
    "# Print the unique values after categorization\n",
    "print(df['series'].unique())"
   ]
  },
  {
   "cell_type": "code",
   "execution_count": 71,
   "metadata": {},
   "outputs": [
    {
     "name": "stdout",
     "output_type": "stream",
     "text": [
      "<class 'pandas.core.frame.DataFrame'>\n",
      "Index: 2877 entries, 0 to 2878\n",
      "Data columns (total 10 columns):\n",
      " #   Column         Non-Null Count  Dtype         \n",
      "---  ------         --------------  -----         \n",
      " 0   company_brand  2877 non-null   object        \n",
      " 1   founded        2877 non-null   period[A-DEC] \n",
      " 2   headquarter    2762 non-null   object        \n",
      " 3   sector         2859 non-null   object        \n",
      " 4   about_company  2877 non-null   object        \n",
      " 5   founders       2332 non-null   object        \n",
      " 6   investor       2246 non-null   object        \n",
      " 7   amount         2877 non-null   object        \n",
      " 8   series         2877 non-null   object        \n",
      " 9   year           2877 non-null   datetime64[ns]\n",
      "dtypes: datetime64[ns](1), object(8), period[A-DEC](1)\n",
      "memory usage: 311.8+ KB\n"
     ]
    }
   ],
   "source": [
    "df.info()"
   ]
  },
  {
   "cell_type": "code",
   "execution_count": 73,
   "metadata": {},
   "outputs": [],
   "source": [
    "# fix index 551\n",
    "df.at[551,'amount']=300000\n",
    "df.at[551,'series']=None\n",
    "\n",
    "# fix index 674\n",
    "df.at[674,'amount']=6000000\n",
    "df.at[674,'series']=None\n",
    "\n",
    "# fix index 2531\n",
    "df.at[2531,'amount']=None\n",
    "df.at[2531,'series']=None"
   ]
  },
  {
   "cell_type": "code",
   "execution_count": 74,
   "metadata": {},
   "outputs": [],
   "source": [
    "# strip off characters \n",
    "df['series'] = df['series'].str.strip('\\t#REF!')"
   ]
  },
  {
   "cell_type": "markdown",
   "metadata": {},
   "source": [
    "## 3.6  **Cleaning the Sector Column**"
   ]
  },
  {
   "cell_type": "code",
   "execution_count": 75,
   "metadata": {},
   "outputs": [],
   "source": [
    "# Get the first sentence of every list\n",
    "df['sector']=df['sector'].str.split(\",\").str[0]"
   ]
  },
  {
   "cell_type": "code",
   "execution_count": 76,
   "metadata": {},
   "outputs": [],
   "source": [
    "def categorize_sector(df):\n",
    "    # Replace Artificial Intelligence sectors\n",
    "    df['sector'] = df['sector'].replace(['AI startup', 'AI Chatbot', 'AI Company', 'AI platform', 'AI Platform', 'AI Startup', 'Artificial Intelligence'], 'Artificial Intelligence')\n",
    "    \n",
    "    # Replace Education Technology sectors\n",
    "    df['sector'] = df['sector'].replace(['EdTech', 'EdTech Startup', 'EdtTech', 'Edtech'], 'Education Technology')\n",
    "    \n",
    "    # Replace Business-to-Business E-commerce sectors\n",
    "    df['sector'] = df['sector'].replace(['B2B E-commerce', 'E-commerce', 'B2B Ecommerce', 'Commerce', 'B2B marketplace', 'B2B Marketplace'], 'Business-to-Business E-commerce')\n",
    "    \n",
    "    # Replace Fintech sector\n",
    "    df['sector'] = df['sector'].replace(['FinTech'], 'Fintech')\n",
    "    \n",
    "    # Replace Home Services sector\n",
    "    df['sector'] = df['sector'].replace(['Home services'], 'Home Services')\n",
    "    \n",
    "    # Replace Healthcare sectors\n",
    "    df['sector'] = df['sector'].replace(['HealthTech', 'Healthtech', 'Healtcare', 'HeathTech', 'Alternative Medicine', 'Health care', 'Helathcare', 'Healthcare', 'Health', 'Hospital & Health Care', 'Heathcare'], 'Healthcare')\n",
    "    \n",
    "    # Replace Technology Startup sector\n",
    "    df['sector'] = df['sector'].replace(['Tech Startup', 'Tech startup', 'IT startup', 'Technology Startup'], 'Technology Startup')\n",
    "    \n",
    "    # Replace Business-to-Business Services sector\n",
    "    df['sector'] = df['sector'].replace(['B2B service'], 'Business-to-Business Services')\n",
    "    \n",
    "    # Replace Renewable Energy sector\n",
    "    df['sector'] = df['sector'].replace(['Renewable Energy'], 'Renewable Energy')\n",
    "    \n",
    "    # Replace Electronics sector\n",
    "    df['sector'] = df['sector'].replace(['Electronics'], 'Electronics')\n",
    "    \n",
    "    # Replace Food and Beverages sectors\n",
    "    df['sector'] = df['sector'].replace(['Food & Beverages', 'Food and Beverages', 'Food', 'Food Production', 'Food Industry', 'Food tech', 'Foodtech', 'FoodTech', 'Food Startup', 'Food & tech', 'Food diet', 'Food Processing', 'Food and Beverage', 'Food delivery', 'Food Delivery', 'Food & Logistics', 'Food devlivery', 'QSR startup'], 'Food and Beverages')\n",
    "    \n",
    "    # Replace Aerospace sectors\n",
    "    df['sector'] = df['sector'].replace(['Aeorspace', 'Aerospace', 'Aviation', 'Aviation & Aerospace', 'Aero company'], 'Aerospace')\n",
    "    \n",
    "    # Replace Deep Technology sector\n",
    "    df['sector'] = df['sector'].replace(['Deep Tech', 'Deeptech'], 'Deep Technology')\n",
    "    \n",
    "    # Replace Dating Services sector\n",
    "    df['sector'] = df['sector'].replace(['Dating', 'Dating app'], 'Dating Services')\n",
    "    \n",
    "    # Replace Gaming sector\n",
    "    df['sector'] = df['sector'].replace(['Gaming', 'Computer Games', 'Mobile Games', 'Games', 'E-Sports', 'Gaming startup'], 'Gaming')\n",
    "    \n",
    "    # Replace Robotics sector\n",
    "    df['sector'] = df['sector'].replace(['Robotics', 'Robotics & AI'], 'Robotics')\n",
    "    \n",
    "    # Replace Retail sector\n",
    "    df['sector'] = df['sector'].replace(['Retail', 'Reatil startup', 'Retail Startup', 'Retail Tech'], 'Retail')\n",
    "    \n",
    "    # Replace Oil and Energy sector\n",
    "    df['sector'] = df['sector'].replace(['Oil and Energy', 'Oil & Energy'], 'Oil and Energy')\n",
    "    \n",
    "    # Replace Agricultural Technology sectors\n",
    "    df['sector'] = df['sector'].replace(['AgriTech', 'Agritech', 'Agritech startup', 'AgTech', 'Agri tech', 'B2B Agritech', 'Agricultural Technology'], 'Agricultural Technology')\n",
    "    \n",
    "    # Replace Telecommunications sector\n",
    "    df['sector'] = df['sector'].replace(['Telecommuncation', 'Telecommunication', 'Telecommunications'], 'Telecommunications')\n",
    "    \n",
    "    # Replace Dairy sector\n",
    "    df['sector'] = df['sector'].replace(['Milk startup', 'Dairy startup', 'Dairy'], 'Dairy')\n",
    "    \n",
    "    # Replace Information Technology sectors\n",
    "    df['sector'] = df['sector'].replace(['IT', 'Information Technology', 'Information Technology & Services', 'Information Technology Company', 'Information Technology and Services', 'IT company'], 'Information Technology')\n",
    "    \n",
    "    # Replace Logistics and Supply Chain sector\n",
    "    df['sector'] = df['sector'].replace(['Logistics', 'Logistics & Supply Chain', 'Logistics and Supply Chain'], 'Logistics and Supply Chain')\n",
    "    \n",
    "    # Replace Hospitality sector\n",
    "    df['sector'] = df['sector'].replace(['Hospitality'], 'Hospitality')\n",
    "    \n",
    "    # Replace Fashion and Lifestyle sectors\n",
    "    df['sector'] = df['sector'].replace(['Fashion', 'Fashion & Lifestyle', 'Fashion and lifestyle', 'Fashion startup', 'Fashion Tech', 'Apparel & Fashion', 'Apparel and Fashion', 'Clothing', 'D2C Fashion', 'D2C jewellery'], 'Fashion and Lifestyle')\n",
    "    \n",
    "    # Replace Marketing and Advertising sectors\n",
    "    df['sector'] = df['sector'].replace(['Marketing', 'Marketing & Advertising', 'Marketing and Advertising', 'MarTech', 'Marketing Technology', 'Advertisement', 'Advertising', 'Marketing company', 'Marketing startup'], 'Marketing and Advertising')\n",
    "    \n",
    "    # Replace Transportation and Mobility sectors\n",
    "    df['sector'] = df['sector'].replace(['Transportation', 'Transport', 'Mobility', 'Mobility/Transport', 'Mobility tech', 'Auto-tech', 'Logitech', 'Transport & Rentals', 'Transport Automation', 'Transportation-as-a-Service Startup', 'TaaS startup', 'Automotive and Rentals', 'IoT/Automobile', 'Automobile Technology', 'Mobility', 'Last Mile Transportation', 'Micro-mobiity'], 'Transportation and Mobility')\n",
    "    \n",
    "    # Replace Legal Technology sector\n",
    "    df['sector'] = df['sector'].replace(['LegalTech', 'Legaltech', 'Legal Services', 'Legal tech', 'Legaltech'], 'Legal Technology')\n",
    "    \n",
    "    # Replace Automotive sectors\n",
    "    df['sector'] = df['sector'].replace(['Automotive', 'Automobile', 'Automotive Startup', 'Automotive company', 'Car Trade', 'Automotive tech', 'Vehicle repair startup', 'Car Service', 'Luxury car startup'], 'Automotive')\n",
    "    \n",
    "    # Replace Software-as-a-Service sectors\n",
    "    df['sector'] = df['sector'].replace(['SaaS startup', 'SaaS', 'SaaS platform', 'Software-as-a-Service', 'Software-as-a-Service Platform', 'Software-as-a-Service Startup', 'SaaS\\xa0\\xa0startup'], 'Software-as-a-Service')\n",
    "    \n",
    "    # Replace Fantasy Sports sector\n",
    "    df['sector'] = df['sector'].replace(['Fantasy sports', 'Fantasy Sports'], 'Fantasy Sports')\n",
    "    \n",
    "    # Replace Video sectors\n",
    "    df['sector'] = df['sector'].replace(['Video communication', 'Video platform', 'Video', 'Video sharing platform', 'Video streaming platform', 'Video personalization'], 'Video')\n",
    "    \n",
    "    # Replace Social Media sectors\n",
    "    df['sector'] = df['sector'].replace(['Social Media', 'Social network', 'Social Networking', 'Social commerce', 'Social community', 'Social Network', 'Social e-commerce', 'Social media', 'Social platform', 'Social audio'], 'Social Media')\n",
    "    \n",
    "    # Replace Skills Development and Professional Training sectors\n",
    "    df['sector'] = df['sector'].replace(['Skill development', 'Skills Development', 'Professional Training & Coaching', 'Professional Training and Coaching'], 'Skills Development and Professional Training')\n",
    "    \n",
    "    # Replace Rental Services sectors\n",
    "    df['sector'] = df['sector'].replace(['Rental', 'Rental Services', 'Rental space', 'Bike Rental', 'Furniture Rental'], 'Rental Services')\n",
    "    \n",
    "    # Replace Recruitment and Staffing sectors\n",
    "    df['sector'] = df['sector'].replace(['Recruitment', 'Job discovery platform', 'Job portal', 'Staffing & Recruiting', 'Staffing and Recruiting', 'Recruitment startup'], 'Recruitment and Staffing')\n",
    "    \n",
    "    # Replace Sports and Sports Technology sectors\n",
    "    df['sector'] = df['sector'].replace(['Sports', 'SportsTech', 'Sports Technology', 'sports', 'Sports startup'], 'Sports and Sports Technology')\n",
    "    \n",
    "    # Replace Consumer Goods and Services sectors\n",
    "    df['sector'] = df['sector'].replace(['Consumer Goods', 'Consumer goods', 'Consumer software', 'Consumer service', 'Consumer Services', 'Consumer', 'Consumer Applications', 'Consumer appliances', 'Consumer Electronics'], 'Consumer Goods and Services')\n",
    "    \n",
    "    # Replace Human Resources and HR Technology sectors\n",
    "    df['sector'] = df['sector'].replace(['HRTech', 'HR Tech', 'HR Tech startup', 'Human Resources', 'Human Resources Technology', 'HRTech', 'HR tech', 'HR'], 'Human Resources and HR Technology')\n",
    "    \n",
    "    # Replace Wine and Spirits sector\n",
    "    df['sector'] = df['sector'].replace(['Wine & Spirits'], 'Wine and Spirits')\n",
    "    \n",
    "    # Replace Mechanical and Industrial Engineering sector\n",
    "    df['sector'] = df['sector'].replace(['Mechanical & Industrial Engineering', 'Mechanical and Industrial Engineering', 'Mechanical Or Industrial Engineering'], 'Mechanical and Industrial Engineering')\n",
    "    \n",
    "    # Replace Spirituality sector\n",
    "    df['sector'] = df['sector'].replace(['Spiritual', 'Linguistic Spiritual'], 'Spirituality')\n",
    "    \n",
    "    # Replace Financial Services sectors\n",
    "    df['sector'] = df['sector'].replace(['Financial Services', 'Banking', 'Capital Markets', 'Finance', 'Finance company', 'Investment Banking', 'Investment Management', 'Finance', 'Finance company', 'Financial Technology', 'FinTech', 'Digital mortgage', 'Online financial service', 'Online credit management startup', 'Trading platform', 'Virtual Banking'], 'Financial Services')\n",
    "    \n",
    "    # Replace Industrial Automation sector\n",
    "    df['sector'] = df['sector'].replace(['Industrial Automation'], 'Industrial Automation')\n",
    "    \n",
    "    # Replace Internet of Things sectors\n",
    "    df['sector'] = df['sector'].replace(['IoT', 'Internet of Things', 'IoT platform', 'IoT startup', 'Internet of Things Platform', 'Internet of Things Startup'], 'Internet of Things')\n",
    "    \n",
    "    # Replace Computer Software sectors\n",
    "    df['sector'] = df['sector'].replace(['Computer software', 'Computer Software', 'Software', 'Software company', 'Software Startup'], 'Computer Software')\n",
    "    \n",
    "    # Replace Furniture and Home Decor sectors\n",
    "    df['sector'] = df['sector'].replace(['Furniture', 'Home Decor', 'Interior Design'], 'Furniture and Home Decor')\n",
    "    \n",
    "    # Replace Location Analytics sector\n",
    "    df['sector'] = df['sector'].replace(['Location Analytics'], 'Location Analytics')\n",
    "    \n",
    "    # Replace Media and Entertainment sectors\n",
    "    df['sector'] = df['sector'].replace(['Media', 'Online Media', 'Podcast', 'Podcasting', 'Content publishing', 'Publication', 'Digital Media', 'Media and Entertainment', 'Broadcasting', 'News', 'Digital Entertainment', 'Media Tech', 'Visual Media', 'Online Portals', 'Content creation', 'Content Management', 'Content Marktplace'], 'Media and Entertainment')\n",
    "    \n",
    "    # Replace Consumer Electronics sector\n",
    "    df['sector'] = df['sector'].replace(['Consumer Electronics'], 'Consumer Electronics')\n",
    "    \n",
    "    # Replace Tobacco sector\n",
    "    df['sector'] = df['sector'].replace(['Tobacco'], 'Tobacco')\n",
    "    \n",
    "    # Replace Insurance sectors\n",
    "    df['sector'] = df['sector'].replace(['Insuretech', 'Insurance Technology', 'Insurtech', 'InsureTech', 'Insurance'], 'Insurance')\n",
    "    \n",
    "    # Replace Machine Learning Operations sector\n",
    "    df['sector'] = df['sector'].replace(['MLOps platform'], 'Machine Learning Operations')\n",
    "    \n",
    "    # Replace Venture Capital sectors\n",
    "    df['sector'] = df['sector'].replace(['Venture Capital', 'Venture Capital & Private Equity', 'Venture Capital and Private Equity', 'Venture capitalist'], 'Venture Capital')\n",
    "    \n",
    "    # Replace Pet Care and Veterinary Services sectors\n",
    "    df['sector'] = df['sector'].replace(['Pet care', 'Veterinary', 'Veterinary Services'], 'Pet Care and Veterinary Services')\n",
    "    \n",
    "    # Replace Drone Technology sectors\n",
    "    df['sector'] = df['sector'].replace(['Drone', 'Drone Technology'], 'Drone Technology')\n",
    "    \n",
    "    # Replace Wholesale sector\n",
    "    df['sector'] = df['sector'].replace(['Wholesale'], 'Wholesale')\n",
    "    \n",
    "    # Replace Construction and Construction Technology sectors\n",
    "    df['sector'] = df['sector'].replace(['Construction', 'Construction tech'], 'Construction and Construction Technology')\n",
    "    \n",
    "    # Replace E-learning and Education Management sectors\n",
    "    df['sector'] = df['sector'].replace(['E-learning', 'E-learning', 'Education Management'], 'E-learning and Education Management')\n",
    "    \n",
    "    # Replace Over-the-Top Media Services sector\n",
    "    df['sector'] = df['sector'].replace(['OTT', 'Over-the-Top Media Services'], 'Over-the-Top Media Services')\n",
    "    \n",
    "    # Replace Computer and Network Security sectors\n",
    "    df['sector'] = df['sector'].replace(['Computer & Network Security', 'Computer and Network Security', 'Cybersecurity'], 'Computer and Network Security')\n",
    "    \n",
    "    # Replace Social Networking and Community Platforms sectors\n",
    "    df['sector'] = df['sector'].replace(['Social network', 'Social Networking', 'Social Network', 'Social community', 'Social platform'], 'Social Networking and Community Platforms')\n",
    "    \n",
    "    # Replace Music and Music Streaming sectors\n",
    "    df['sector'] = df['sector'].replace(['Music', 'Music Streaming'], 'Music and Music Streaming')\n",
    "    \n",
    "    # Replace Hauz Khas sector\n",
    "    df['sector'] = df['sector'].replace(['Hauz Khas'], 'Hauz Khas')\n",
    "    \n",
    "    # Replace Pharmaceuticals sectors\n",
    "    df['sector'] = df['sector'].replace(['Pharmaceuticals', 'Pharmaceutical', 'Pharma', 'Biopharma', 'Pharmaceuticals'], 'Pharmaceuticals')\n",
    "    \n",
    "    # Replace Cosmetics, Personal Care, and Beauty Products sectors\n",
    "    df['sector'] = df['sector'].replace(['Cosmetics', 'Beauty products', 'Personal Care', 'Beauty & wellness', 'Personal care startup', 'Skincare startup'], 'Cosmetics, Personal Care, and Beauty Products')\n",
    "    \n",
    "    # Replace Real Estate and Property Technology sectors\n",
    "    df['sector'] = df['sector'].replace(['Real Estate', 'Real estate', 'Commercial Real Estate', 'Housing Marketplace', 'Proptech', 'Property Technology'], 'Real Estate and Property Technology')\n",
    "    \n",
    "    # Replace Digital Platforms sector\n",
    "    df['sector'] = df['sector'].replace(['Digital platform', 'Digital Platform'], 'Digital Platforms')\n",
    "    \n",
    "    # Replace NFT and Non-Fungible Tokens sectors\n",
    "    df['sector'] = df['sector'].replace(['NFT Marketplace', 'Non-Fungible Token Marketplace', 'NFT', 'Non-Fungible Tokens'], 'NFT and Non-Fungible Tokens')\n",
    "    \n",
    "    # Replace Space Technology and Defense sectors\n",
    "    df['sector'] = df['sector'].replace(['SpaceTech', 'Spacetech', 'Space Technology', 'Defense & Space'], 'Space Technology and Defense')\n",
    "    \n",
    "    # Replace Fishery sector\n",
    "    df['sector'] = df['sector'].replace(['Fishery'], 'Fishery')\n",
    "            \n",
    "    # Replace Renewable Energy, Environmental Services, and Clean Technology sectors\n",
    "    df['sector'] = df['sector'].replace(['Renewables & Environment', 'Renewable Energy and Environmental Services', 'Environmental Services', 'Environmental service', 'Clean Technology', 'CleanTech', 'Pollution control equiptment'], 'Renewable Energy, Environmental Services, and Clean Technology')\n",
    "    \n",
    "    # Replace Online Storytelling sector\n",
    "    df['sector'] = df['sector'].replace(['Online storytelling'], 'Online Storytelling')\n",
    "    \n",
    "    # Replace Customer Relationship Management sector\n",
    "    df['sector'] = df['sector'].replace(['CRM', 'Customer Relationship Management'], 'Customer Relationship Management')\n",
    "    \n",
    "    # Replace Nutrition and Nutrition Technology sectors\n",
    "    df['sector'] = df['sector'].replace(['Nutrition', 'Nutrition sector', 'Nutrition tech', 'Nutrition Tech', 'Food & Nutrition'], 'Nutrition and Nutrition Technology')\n",
    "    \n",
    "    # Replace Direct-to-Consumer sectors\n",
    "    df['sector'] = df['sector'].replace(['D2C', 'Direct-to-Consumer', 'D2C Business', 'D2C startup', 'D2C Fashion', 'D2C jewellery'], 'Direct-to-Consumer')\n",
    "    \n",
    "    # Replace Innovation Management sector\n",
    "    df['sector'] = df['sector'].replace(['Innovation Management', 'Innovation management'], 'Innovation Management')\n",
    "    \n",
    "    # Replace Community Platforms and Communities sectors\n",
    "    df['sector'] = df['sector'].replace(['Community platform', 'Community', 'Communities'], 'Community Platforms and Communities')\n",
    "    \n",
    "    # Replace Networking and Networking Platforms sectors\n",
    "    df['sector'] = df['sector'].replace(['Networking', 'Networking platform'], 'Networking and Networking Platforms')\n",
    "    \n",
    "    # Replace Augmented Reality and AR/VR sectors\n",
    "    df['sector'] = df['sector'].replace(['AR startup', 'Augmented Reality Startup', 'AR platform', 'Augmented reality', 'Augmented Reality', 'AR/VR', 'AR/VR startup'], 'Augmented Reality and AR/VR')\n",
    "    \n",
    "    # Replace Content sectors\n",
    "    df['sector'] = df['sector'].replace(['Content publishing', 'Content commerce', 'Content creation', 'Content Management', 'Content Marktplace'], 'Content')\n",
    "    \n",
    "    # Replace Rental Space sector\n",
    "    df['sector'] = df['sector'].replace(['Rental space'], 'Rental Space')\n",
    "    \n",
    "    # Replace Tourism sector\n",
    "    df['sector'] = df['sector'].replace(['Tourism'], 'Tourism')\n",
    "    \n",
    "    # Replace Femtech sector\n",
    "    df['sector'] = df['sector'].replace(['FemTech', 'Femtech'], 'Femtech')\n",
    "    \n",
    "    # Replace Cultural sector\n",
    "    df['sector'] = df['sector'].replace(['Cultural'], 'Cultural')\n",
    "    \n",
    "    # Replace Co-working sectors\n",
    "    df['sector'] = df['sector'].replace(['Co-working', 'Co-working Startup', 'Coworking'], 'Co-working')\n",
    "    \n",
    "    # Replace Supply Chain and Logistics sectors\n",
    "    df['sector'] = df['sector'].replace(['Supply chain platform', 'Supply Chain Platform', 'Logistics & Supply Chain', 'Logistics and Supply Chain', 'B2B Supply Chain'], 'Supply Chain and Logistics')\n",
    "    \n",
    "    # Replace Cryptocurrency sectors\n",
    "    df['sector'] = df['sector'].replace(['Crypto', 'Cryptocurrency'], 'Cryptocurrency')\n",
    "    \n",
    "    # Replace Clothing sector\n",
    "    df['sector'] = df['sector'].replace(['Clothing'], 'Clothing')\n",
    "    \n",
    "    # Replace Analytics and Data Science sectors\n",
    "    df['sector'] = df['sector'].replace(['Analytics', 'Location Analytics', 'Data Analytics', 'Data Science', 'Data Intelligence'], 'Analytics and Data Science')\n",
    "    \n",
    "    # Replace Internet of Things Platform sector\n",
    "    df['sector'] = df['sector'].replace(['IoT platform', 'Internet of Things Platform'], 'Internet of Things Platform')\n",
    "    \n",
    "    # Replace Defense and Space sectors\n",
    "    df['sector'] = df['sector'].replace(['Defense & Space', 'Defense and Space'], 'Defense and Space')\n",
    "    \n",
    "    return df"
   ]
  },
  {
   "cell_type": "code",
   "execution_count": 77,
   "metadata": {},
   "outputs": [
    {
     "data": {
      "text/plain": [
       "18"
      ]
     },
     "execution_count": 77,
     "metadata": {},
     "output_type": "execute_result"
    }
   ],
   "source": [
    "df['sector'].isna().sum()"
   ]
  },
  {
   "cell_type": "code",
   "execution_count": 78,
   "metadata": {},
   "outputs": [],
   "source": [
    "# apply function\n",
    "df=categorize_sector(df)"
   ]
  },
  {
   "cell_type": "code",
   "execution_count": 79,
   "metadata": {},
   "outputs": [],
   "source": [
    "df['sector'].fillna(df['sector'].mode()[0], inplace=True)"
   ]
  },
  {
   "cell_type": "code",
   "execution_count": 80,
   "metadata": {},
   "outputs": [
    {
     "name": "stdout",
     "output_type": "stream",
     "text": [
      "<class 'pandas.core.frame.DataFrame'>\n",
      "Index: 2877 entries, 0 to 2878\n",
      "Data columns (total 10 columns):\n",
      " #   Column         Non-Null Count  Dtype         \n",
      "---  ------         --------------  -----         \n",
      " 0   company_brand  2877 non-null   object        \n",
      " 1   founded        2877 non-null   period[A-DEC] \n",
      " 2   headquarter    2762 non-null   object        \n",
      " 3   sector         2877 non-null   object        \n",
      " 4   about_company  2877 non-null   object        \n",
      " 5   founders       2332 non-null   object        \n",
      " 6   investor       2246 non-null   object        \n",
      " 7   amount         2876 non-null   object        \n",
      " 8   series         2874 non-null   object        \n",
      " 9   year           2877 non-null   datetime64[ns]\n",
      "dtypes: datetime64[ns](1), object(8), period[A-DEC](1)\n",
      "memory usage: 311.8+ KB\n"
     ]
    }
   ],
   "source": [
    "df.info()"
   ]
  },
  {
   "cell_type": "markdown",
   "metadata": {},
   "source": [
    "## 3.7 **Cleaning HeadQuater Column**"
   ]
  },
  {
   "cell_type": "code",
   "execution_count": 81,
   "metadata": {},
   "outputs": [],
   "source": [
    "# Get the first location from every list\n",
    "df['headquarter']=df['headquarter'].str.split(\",\").str[0]"
   ]
  },
  {
   "cell_type": "code",
   "execution_count": 83,
   "metadata": {},
   "outputs": [],
   "source": [
    "def fix_headquarters(row):\n",
    "    replacements = {'Bengaluru': 'Bangalore', 'Banglore': 'Bangalore', 'Gurugram': 'Gurgaon', 'Hyderebad': 'Hyderabad',\n",
    "                    'New Delhi': 'Delhi', 'Ahmadabad': 'Ahmedabad', 'Ernakulam': 'Cochin', 'Telugana': 'Telangana',\n",
    "                    'Rajastan': 'Rajasthan', 'San Franciscao': 'San Francisco', 'Samsitpur': 'Samastipur', 'Santra': 'Samtra',\n",
    "                    'Rajsamand': 'Rajasthan', 'Kerala': 'Kochi', 'The Nilgiris': 'Nilgiris', 'Gurugram\\t#REF!': 'Gurgaon',\n",
    "                    'California': 'San Francisco', 'San Francisco Bay Area': 'San Francisco', 'Hyderebad': 'Hyderabad',\n",
    "                    'Online Media\\t#REF!': 'Unknown', 'Pharmaceuticals\\t#REF!': 'Unknown',\n",
    "                    'Information Technology & Services': 'Unknown', 'Small Towns': 'Unknown', 'Orissia': 'Odisha',\n",
    "                    'Santra': 'Samtra', 'Vadodara': 'Vadodara', 'Food & Beverages': 'Unknown', 'Bangaldesh': 'Bangladesh'}\n",
    "\n",
    "    return replacements.get(row, row)\n",
    "\n",
    "# Apply the fix_headquarters function to the 'headquarter' column\n",
    "df['headquarter'] = df['headquarter'].apply(fix_headquarters)"
   ]
  },
  {
   "cell_type": "code",
   "execution_count": 84,
   "metadata": {},
   "outputs": [
    {
     "data": {
      "text/html": [
       "<div>\n",
       "<style scoped>\n",
       "    .dataframe tbody tr th:only-of-type {\n",
       "        vertical-align: middle;\n",
       "    }\n",
       "\n",
       "    .dataframe tbody tr th {\n",
       "        vertical-align: top;\n",
       "    }\n",
       "\n",
       "    .dataframe thead th {\n",
       "        text-align: right;\n",
       "    }\n",
       "</style>\n",
       "<table border=\"1\" class=\"dataframe\">\n",
       "  <thead>\n",
       "    <tr style=\"text-align: right;\">\n",
       "      <th></th>\n",
       "      <th>company_brand</th>\n",
       "      <th>founded</th>\n",
       "      <th>headquarter</th>\n",
       "      <th>sector</th>\n",
       "      <th>about_company</th>\n",
       "      <th>founders</th>\n",
       "      <th>investor</th>\n",
       "      <th>amount</th>\n",
       "      <th>series</th>\n",
       "      <th>year</th>\n",
       "    </tr>\n",
       "  </thead>\n",
       "  <tbody>\n",
       "    <tr>\n",
       "      <th>0</th>\n",
       "      <td>Unbox Robotics</td>\n",
       "      <td>1970</td>\n",
       "      <td>Bangalore</td>\n",
       "      <td>Artificial Intelligence</td>\n",
       "      <td>Unbox Robotics builds on-demand AI-driven warehouse robotics solutions, which can be deployed using limited foot-print, time, and capital.</td>\n",
       "      <td>Pramod Ghadge, Shahid Memon</td>\n",
       "      <td>BEENEXT, Entrepreneur First</td>\n",
       "      <td>1200000</td>\n",
       "      <td>early traction</td>\n",
       "      <td>2021-01-01</td>\n",
       "    </tr>\n",
       "    <tr>\n",
       "      <th>1</th>\n",
       "      <td>upGrad</td>\n",
       "      <td>1970</td>\n",
       "      <td>Mumbai</td>\n",
       "      <td>Education Technology</td>\n",
       "      <td>UpGrad is an online higher education platform.</td>\n",
       "      <td>Mayank Kumar, Phalgun Kompalli, Ravijot Chugh, Ronnie Screwvala</td>\n",
       "      <td>Unilazer Ventures, IIFL Asset Management</td>\n",
       "      <td>120000000</td>\n",
       "      <td>others</td>\n",
       "      <td>2021-01-01</td>\n",
       "    </tr>\n",
       "    <tr>\n",
       "      <th>2</th>\n",
       "      <td>Lead School</td>\n",
       "      <td>1970</td>\n",
       "      <td>Mumbai</td>\n",
       "      <td>Education Technology</td>\n",
       "      <td>LEAD School offers technology based school transformation system that assures excellent learning for every child.</td>\n",
       "      <td>Smita Deorah, Sumeet Mehta</td>\n",
       "      <td>GSV Ventures, Westbridge Capital</td>\n",
       "      <td>30000000</td>\n",
       "      <td>early traction</td>\n",
       "      <td>2021-01-01</td>\n",
       "    </tr>\n",
       "    <tr>\n",
       "      <th>3</th>\n",
       "      <td>Bizongo</td>\n",
       "      <td>1970</td>\n",
       "      <td>Mumbai</td>\n",
       "      <td>Business-to-Business E-commerce</td>\n",
       "      <td>Bizongo is a business-to-business online marketplace for packaging products.</td>\n",
       "      <td>Aniket Deb, Ankit Tomar, Sachin Agrawal</td>\n",
       "      <td>CDC Group, IDG Capital</td>\n",
       "      <td>51000000</td>\n",
       "      <td>early traction</td>\n",
       "      <td>2021-01-01</td>\n",
       "    </tr>\n",
       "    <tr>\n",
       "      <th>4</th>\n",
       "      <td>FypMoney</td>\n",
       "      <td>1970</td>\n",
       "      <td>Gurgaon</td>\n",
       "      <td>Fintech</td>\n",
       "      <td>FypMoney is Digital NEO Bank for Teenagers, empowering them with financial literacy and ease of secured financial transactions.</td>\n",
       "      <td>Kapil Banwari</td>\n",
       "      <td>Liberatha Kallat, Mukesh Yadav, Dinesh Nagpal</td>\n",
       "      <td>2000000</td>\n",
       "      <td>validation</td>\n",
       "      <td>2021-01-01</td>\n",
       "    </tr>\n",
       "  </tbody>\n",
       "</table>\n",
       "</div>"
      ],
      "text/plain": [
       "    company_brand founded headquarter                           sector  \\\n",
       "0  Unbox Robotics    1970   Bangalore          Artificial Intelligence   \n",
       "1          upGrad    1970      Mumbai             Education Technology   \n",
       "2     Lead School    1970      Mumbai             Education Technology   \n",
       "3         Bizongo    1970      Mumbai  Business-to-Business E-commerce   \n",
       "4        FypMoney    1970     Gurgaon                          Fintech   \n",
       "\n",
       "                                                                                                                                about_company  \\\n",
       "0  Unbox Robotics builds on-demand AI-driven warehouse robotics solutions, which can be deployed using limited foot-print, time, and capital.   \n",
       "1                                                                                              UpGrad is an online higher education platform.   \n",
       "2                           LEAD School offers technology based school transformation system that assures excellent learning for every child.   \n",
       "3                                                                Bizongo is a business-to-business online marketplace for packaging products.   \n",
       "4             FypMoney is Digital NEO Bank for Teenagers, empowering them with financial literacy and ease of secured financial transactions.   \n",
       "\n",
       "                                                          founders  \\\n",
       "0                                      Pramod Ghadge, Shahid Memon   \n",
       "1  Mayank Kumar, Phalgun Kompalli, Ravijot Chugh, Ronnie Screwvala   \n",
       "2                                       Smita Deorah, Sumeet Mehta   \n",
       "3                          Aniket Deb, Ankit Tomar, Sachin Agrawal   \n",
       "4                                                    Kapil Banwari   \n",
       "\n",
       "                                        investor     amount          series  \\\n",
       "0                    BEENEXT, Entrepreneur First    1200000  early traction   \n",
       "1       Unilazer Ventures, IIFL Asset Management  120000000          others   \n",
       "2               GSV Ventures, Westbridge Capital   30000000  early traction   \n",
       "3                         CDC Group, IDG Capital   51000000  early traction   \n",
       "4  Liberatha Kallat, Mukesh Yadav, Dinesh Nagpal    2000000      validation   \n",
       "\n",
       "        year  \n",
       "0 2021-01-01  \n",
       "1 2021-01-01  \n",
       "2 2021-01-01  \n",
       "3 2021-01-01  \n",
       "4 2021-01-01  "
      ]
     },
     "execution_count": 84,
     "metadata": {},
     "output_type": "execute_result"
    }
   ],
   "source": [
    "df.head()"
   ]
  },
  {
   "cell_type": "code",
   "execution_count": 85,
   "metadata": {},
   "outputs": [
    {
     "data": {
      "text/html": [
       "<div>\n",
       "<style scoped>\n",
       "    .dataframe tbody tr th:only-of-type {\n",
       "        vertical-align: middle;\n",
       "    }\n",
       "\n",
       "    .dataframe tbody tr th {\n",
       "        vertical-align: top;\n",
       "    }\n",
       "\n",
       "    .dataframe thead th {\n",
       "        text-align: right;\n",
       "    }\n",
       "</style>\n",
       "<table border=\"1\" class=\"dataframe\">\n",
       "  <thead>\n",
       "    <tr style=\"text-align: right;\">\n",
       "      <th></th>\n",
       "      <th>company_brand</th>\n",
       "      <th>founded</th>\n",
       "      <th>headquarter</th>\n",
       "      <th>sector</th>\n",
       "      <th>about_company</th>\n",
       "      <th>founders</th>\n",
       "      <th>investor</th>\n",
       "      <th>amount</th>\n",
       "      <th>series</th>\n",
       "      <th>year</th>\n",
       "    </tr>\n",
       "  </thead>\n",
       "  <tbody>\n",
       "    <tr>\n",
       "      <th>107</th>\n",
       "      <td>Curefoods</td>\n",
       "      <td>1970</td>\n",
       "      <td>Bangalore</td>\n",
       "      <td>Food and Beverages</td>\n",
       "      <td>Healthy &amp; nutritious foods and cold pressed juices produced in Edinburgh. Currently distributing wholesale within the Edinburgh region.</td>\n",
       "      <td>Ankit Nagori</td>\n",
       "      <td>Iron Pillar, Nordstar, Binny Bansal</td>\n",
       "      <td>13000000</td>\n",
       "      <td>others</td>\n",
       "      <td>2021-01-01</td>\n",
       "    </tr>\n",
       "    <tr>\n",
       "      <th>109</th>\n",
       "      <td>Bewakoof</td>\n",
       "      <td>1970</td>\n",
       "      <td>Mumbai</td>\n",
       "      <td>Fashion and Lifestyle</td>\n",
       "      <td>Bewakoof is a lifestyle fashion brand that makes creative, distinctive fashion for the trendy, contemporary Indian.</td>\n",
       "      <td>Prabhkiran Singh</td>\n",
       "      <td>InvestCorp</td>\n",
       "      <td>8000000</td>\n",
       "      <td>others</td>\n",
       "      <td>2021-01-01</td>\n",
       "    </tr>\n",
       "    <tr>\n",
       "      <th>117</th>\n",
       "      <td>Advantage Club</td>\n",
       "      <td>1970</td>\n",
       "      <td>Mumbai</td>\n",
       "      <td>Human Resources and HR Technology</td>\n",
       "      <td>Advantage Club is India's largest employee engagement platform, Provide end to end employee benefit management with state of the art products like:</td>\n",
       "      <td>Sourabh Deorah, Smiti Bhatt Deorah</td>\n",
       "      <td>Y Combinator, Broom Ventures, Kunal Shah</td>\n",
       "      <td>1700000</td>\n",
       "      <td>others</td>\n",
       "      <td>2021-01-01</td>\n",
       "    </tr>\n",
       "    <tr>\n",
       "      <th>119</th>\n",
       "      <td>Ruptok</td>\n",
       "      <td>1970</td>\n",
       "      <td>Delhi</td>\n",
       "      <td>Fintech</td>\n",
       "      <td>Ruptok fintech Pvt. Ltd. is an online gold loan service provider , with attractive interests rate .</td>\n",
       "      <td>Ankur Gupta</td>\n",
       "      <td>Eclear Leasing</td>\n",
       "      <td>1000000</td>\n",
       "      <td>others</td>\n",
       "      <td>2021-01-01</td>\n",
       "    </tr>\n",
       "    <tr>\n",
       "      <th>243</th>\n",
       "      <td>Trinkerr</td>\n",
       "      <td>1970</td>\n",
       "      <td>Bangalore</td>\n",
       "      <td>Financial Services</td>\n",
       "      <td>Trinkerr is India's first social trading platform.</td>\n",
       "      <td>Manvendra Singh, Gaurav Agarwal</td>\n",
       "      <td>Accel India</td>\n",
       "      <td>6600000</td>\n",
       "      <td>early traction</td>\n",
       "      <td>2021-01-01</td>\n",
       "    </tr>\n",
       "    <tr>\n",
       "      <th>244</th>\n",
       "      <td>Zorro</td>\n",
       "      <td>1970</td>\n",
       "      <td>Gurgaon</td>\n",
       "      <td>Social Media</td>\n",
       "      <td>Pseudonymous social network platform</td>\n",
       "      <td>Jasveer Singh, Abhishek Asthana, Deepak Kumar</td>\n",
       "      <td>Vijay Shekhar Sharma, Ritesh Agarwal, Ankiti Bose</td>\n",
       "      <td>32000000</td>\n",
       "      <td>validation</td>\n",
       "      <td>2021-01-01</td>\n",
       "    </tr>\n",
       "    <tr>\n",
       "      <th>245</th>\n",
       "      <td>Ultraviolette</td>\n",
       "      <td>1970</td>\n",
       "      <td>Bangalore</td>\n",
       "      <td>Automotive</td>\n",
       "      <td>Create and Inspire the future of sustainable urban transportation through Accelerated Innovation.</td>\n",
       "      <td>Subramaniam Narayan, Niraj Rajmohan</td>\n",
       "      <td>TVS Motor, Zoho</td>\n",
       "      <td>150000000</td>\n",
       "      <td>early traction</td>\n",
       "      <td>2021-01-01</td>\n",
       "    </tr>\n",
       "    <tr>\n",
       "      <th>246</th>\n",
       "      <td>NephroPlus</td>\n",
       "      <td>1970</td>\n",
       "      <td>Hyderabad</td>\n",
       "      <td>Healthcare</td>\n",
       "      <td>A vision and passion of redefining healthcare delivery in India in 2010, NephroPlus today is India’s largest network of dialysis centres.</td>\n",
       "      <td>Vikram Vuppala</td>\n",
       "      <td>IIFL Asset Management</td>\n",
       "      <td>24000000</td>\n",
       "      <td>early traction</td>\n",
       "      <td>2021-01-01</td>\n",
       "    </tr>\n",
       "    <tr>\n",
       "      <th>247</th>\n",
       "      <td>Unremot</td>\n",
       "      <td>1970</td>\n",
       "      <td>Bangalore</td>\n",
       "      <td>Information Technology</td>\n",
       "      <td>Unremot is a personal office for consultants!</td>\n",
       "      <td>Shiju Radhakrishnan</td>\n",
       "      <td>Inflection Point Ventures</td>\n",
       "      <td>700000</td>\n",
       "      <td>validation</td>\n",
       "      <td>2021-01-01</td>\n",
       "    </tr>\n",
       "    <tr>\n",
       "      <th>248</th>\n",
       "      <td>FanAnywhere</td>\n",
       "      <td>1970</td>\n",
       "      <td>Bangalore</td>\n",
       "      <td>Financial Services</td>\n",
       "      <td>Celebrity NFT platform</td>\n",
       "      <td>Varun Chaudhary, Amit Kumar</td>\n",
       "      <td>Oasis Capital, Scorpio VC, DeltaHub Capital</td>\n",
       "      <td>0</td>\n",
       "      <td>validation</td>\n",
       "      <td>2021-01-01</td>\n",
       "    </tr>\n",
       "    <tr>\n",
       "      <th>249</th>\n",
       "      <td>PingoLearn</td>\n",
       "      <td>1970</td>\n",
       "      <td>Pune</td>\n",
       "      <td>E-learning and Education Management</td>\n",
       "      <td>PingoLearn offers language learning courses with snackable videos.</td>\n",
       "      <td>Mohit Menghani, Shubham Maheshwari</td>\n",
       "      <td>Titan Capital, Haresh Chawla, AngelList Syndicate</td>\n",
       "      <td>200000</td>\n",
       "      <td>others</td>\n",
       "      <td>2021-01-01</td>\n",
       "    </tr>\n",
       "    <tr>\n",
       "      <th>250</th>\n",
       "      <td>Spry</td>\n",
       "      <td>1970</td>\n",
       "      <td>Mumbai</td>\n",
       "      <td>Music and Music Streaming</td>\n",
       "      <td>THE BEST ROYALTY-FREE MUSIC TO CREATE TRENDING VIDEOS</td>\n",
       "      <td>Gaurav Dagaonkar, Meghna Mittal</td>\n",
       "      <td>9Unicorns, Ashneer Grover</td>\n",
       "      <td>1500000</td>\n",
       "      <td>validation</td>\n",
       "      <td>2021-01-01</td>\n",
       "    </tr>\n",
       "    <tr>\n",
       "      <th>251</th>\n",
       "      <td>Enmovil</td>\n",
       "      <td>1970</td>\n",
       "      <td>Hyderabad</td>\n",
       "      <td>Information Technology</td>\n",
       "      <td>Enmovil delivers a Business Intelligence Platform driven by a connected asset ecosystem that enables organizations to maximise their operational efficiency.</td>\n",
       "      <td>Ravi Bulusu, Nanda Kishore, Venkat Moganty</td>\n",
       "      <td>Anicut Angel Fund</td>\n",
       "      <td>1300000</td>\n",
       "      <td>early traction</td>\n",
       "      <td>2021-01-01</td>\n",
       "    </tr>\n",
       "    <tr>\n",
       "      <th>252</th>\n",
       "      <td>ASQI Advisors</td>\n",
       "      <td>1970</td>\n",
       "      <td>Mumbai</td>\n",
       "      <td>Financial Services</td>\n",
       "      <td>Bringing Blockchain technology intro mainstream finance!</td>\n",
       "      <td>Swapnil Pawar</td>\n",
       "      <td>Founders Room Capital</td>\n",
       "      <td>1000000</td>\n",
       "      <td>early traction</td>\n",
       "      <td>2021-01-01</td>\n",
       "    </tr>\n",
       "    <tr>\n",
       "      <th>253</th>\n",
       "      <td>Insurance Samadhan</td>\n",
       "      <td>1970</td>\n",
       "      <td>Delhi</td>\n",
       "      <td>Insurance</td>\n",
       "      <td>The insurance industry will help in representation with the insurance companies and will help to find adequate redressal for grievances.</td>\n",
       "      <td>Deepak Bhuvenshwari Uniyal</td>\n",
       "      <td>9Unicorns, ZNL</td>\n",
       "      <td>725000</td>\n",
       "      <td>early traction</td>\n",
       "      <td>2021-01-01</td>\n",
       "    </tr>\n",
       "    <tr>\n",
       "      <th>254</th>\n",
       "      <td>Evenflow Brands</td>\n",
       "      <td>1970</td>\n",
       "      <td>Mumbai</td>\n",
       "      <td>Consumer Goods and Services</td>\n",
       "      <td>Identify and partner with the upcoming eCommerce-1st brands that sell on marketplaces and have a successful track record of positive reviews &amp; ratings</td>\n",
       "      <td>Utsav Agarwal, Pulkit Chhabra</td>\n",
       "      <td>None</td>\n",
       "      <td>500000</td>\n",
       "      <td>others</td>\n",
       "      <td>2021-01-01</td>\n",
       "    </tr>\n",
       "    <tr>\n",
       "      <th>255</th>\n",
       "      <td>MasterChow</td>\n",
       "      <td>1970</td>\n",
       "      <td>ood &amp; Beverages</td>\n",
       "      <td>Hauz Khas</td>\n",
       "      <td>A ready-to-cook Asian cuisine brand</td>\n",
       "      <td>Vidur Kataria, Sidhanth Madan</td>\n",
       "      <td>WEH Ventures</td>\n",
       "      <td>461000</td>\n",
       "      <td>validation</td>\n",
       "      <td>2021-01-01</td>\n",
       "    </tr>\n",
       "    <tr>\n",
       "      <th>1354</th>\n",
       "      <td>Krimanshi</td>\n",
       "      <td>1970</td>\n",
       "      <td>Jodhpur</td>\n",
       "      <td>Biotechnology company</td>\n",
       "      <td>Krimanshi aims to increase rural income by improving the productivity of Indian cattle with better quality feed.</td>\n",
       "      <td>Nikhil Bohra</td>\n",
       "      <td>Rajasthan Venture Capital Fund, AIM Smart City</td>\n",
       "      <td>600000.0</td>\n",
       "      <td>validation</td>\n",
       "      <td>2020-01-01</td>\n",
       "    </tr>\n",
       "    <tr>\n",
       "      <th>1414</th>\n",
       "      <td>Nykaa</td>\n",
       "      <td>1970</td>\n",
       "      <td>Mumbai</td>\n",
       "      <td>Cosmetics, Personal Care, and Beauty Products</td>\n",
       "      <td>Nykaa is an online marketplace for different beauty and wellness products.</td>\n",
       "      <td>Falguni Nayar</td>\n",
       "      <td>Alia Bhatt, Katrina Kaif</td>\n",
       "      <td>0</td>\n",
       "      <td>others</td>\n",
       "      <td>2020-01-01</td>\n",
       "    </tr>\n",
       "    <tr>\n",
       "      <th>1571</th>\n",
       "      <td>Byju’s</td>\n",
       "      <td>1970</td>\n",
       "      <td>Bangalore</td>\n",
       "      <td>Education Technology</td>\n",
       "      <td>An Indian educational technology and online tutoring firm</td>\n",
       "      <td>Byju Raveendran</td>\n",
       "      <td>Owl Ventures, Tiger Global Management</td>\n",
       "      <td>500000000.0</td>\n",
       "      <td>others</td>\n",
       "      <td>2020-01-01</td>\n",
       "    </tr>\n",
       "    <tr>\n",
       "      <th>2701</th>\n",
       "      <td>TheCollegeFever</td>\n",
       "      <td>1970</td>\n",
       "      <td>Bangalore</td>\n",
       "      <td>Brand Marketing</td>\n",
       "      <td>TheCollegeFever is a hub for fun, fiesta and frolic of Colleges.</td>\n",
       "      <td>NaN</td>\n",
       "      <td>NaN</td>\n",
       "      <td>250000</td>\n",
       "      <td>validation</td>\n",
       "      <td>2018-01-01</td>\n",
       "    </tr>\n",
       "  </tbody>\n",
       "</table>\n",
       "</div>"
      ],
      "text/plain": [
       "           company_brand founded      headquarter  \\\n",
       "107            Curefoods    1970        Bangalore   \n",
       "109             Bewakoof    1970           Mumbai   \n",
       "117       Advantage Club    1970           Mumbai   \n",
       "119               Ruptok    1970            Delhi   \n",
       "243             Trinkerr    1970        Bangalore   \n",
       "244                Zorro    1970          Gurgaon   \n",
       "245        Ultraviolette    1970        Bangalore   \n",
       "246           NephroPlus    1970        Hyderabad   \n",
       "247              Unremot    1970        Bangalore   \n",
       "248          FanAnywhere    1970        Bangalore   \n",
       "249           PingoLearn    1970             Pune   \n",
       "250                 Spry    1970           Mumbai   \n",
       "251              Enmovil    1970        Hyderabad   \n",
       "252        ASQI Advisors    1970           Mumbai   \n",
       "253   Insurance Samadhan    1970            Delhi   \n",
       "254      Evenflow Brands    1970           Mumbai   \n",
       "255           MasterChow    1970  ood & Beverages   \n",
       "1354           Krimanshi    1970          Jodhpur   \n",
       "1414               Nykaa    1970           Mumbai   \n",
       "1571              Byju’s    1970        Bangalore   \n",
       "2701     TheCollegeFever    1970        Bangalore   \n",
       "\n",
       "                                             sector  \\\n",
       "107                              Food and Beverages   \n",
       "109                           Fashion and Lifestyle   \n",
       "117               Human Resources and HR Technology   \n",
       "119                                         Fintech   \n",
       "243                              Financial Services   \n",
       "244                                    Social Media   \n",
       "245                                      Automotive   \n",
       "246                                      Healthcare   \n",
       "247                          Information Technology   \n",
       "248                              Financial Services   \n",
       "249             E-learning and Education Management   \n",
       "250                       Music and Music Streaming   \n",
       "251                          Information Technology   \n",
       "252                              Financial Services   \n",
       "253                                       Insurance   \n",
       "254                     Consumer Goods and Services   \n",
       "255                                       Hauz Khas   \n",
       "1354                          Biotechnology company   \n",
       "1414  Cosmetics, Personal Care, and Beauty Products   \n",
       "1571                           Education Technology   \n",
       "2701                                Brand Marketing   \n",
       "\n",
       "                                                                                                                                                     about_company  \\\n",
       "107                        Healthy & nutritious foods and cold pressed juices produced in Edinburgh. Currently distributing wholesale within the Edinburgh region.   \n",
       "109                                            Bewakoof is a lifestyle fashion brand that makes creative, distinctive fashion for the trendy, contemporary Indian.   \n",
       "117            Advantage Club is India's largest employee engagement platform, Provide end to end employee benefit management with state of the art products like:   \n",
       "119                                                            Ruptok fintech Pvt. Ltd. is an online gold loan service provider , with attractive interests rate .   \n",
       "243                                                                                                             Trinkerr is India's first social trading platform.   \n",
       "244                                                                                                                           Pseudonymous social network platform   \n",
       "245                                                              Create and Inspire the future of sustainable urban transportation through Accelerated Innovation.   \n",
       "246                      A vision and passion of redefining healthcare delivery in India in 2010, NephroPlus today is India’s largest network of dialysis centres.   \n",
       "247                                                                                                                  Unremot is a personal office for consultants!   \n",
       "248                                                                                                                                         Celebrity NFT platform   \n",
       "249                                                                                             PingoLearn offers language learning courses with snackable videos.   \n",
       "250                                                                                                          THE BEST ROYALTY-FREE MUSIC TO CREATE TRENDING VIDEOS   \n",
       "251   Enmovil delivers a Business Intelligence Platform driven by a connected asset ecosystem that enables organizations to maximise their operational efficiency.   \n",
       "252                                                                                                       Bringing Blockchain technology intro mainstream finance!   \n",
       "253                       The insurance industry will help in representation with the insurance companies and will help to find adequate redressal for grievances.   \n",
       "254         Identify and partner with the upcoming eCommerce-1st brands that sell on marketplaces and have a successful track record of positive reviews & ratings   \n",
       "255                                                                                                                            A ready-to-cook Asian cuisine brand   \n",
       "1354                                              Krimanshi aims to increase rural income by improving the productivity of Indian cattle with better quality feed.   \n",
       "1414                                                                                    Nykaa is an online marketplace for different beauty and wellness products.   \n",
       "1571                                                                                                     An Indian educational technology and online tutoring firm   \n",
       "2701                                                                                              TheCollegeFever is a hub for fun, fiesta and frolic of Colleges.   \n",
       "\n",
       "                                           founders  \\\n",
       "107                                    Ankit Nagori   \n",
       "109                                Prabhkiran Singh   \n",
       "117              Sourabh Deorah, Smiti Bhatt Deorah   \n",
       "119                                     Ankur Gupta   \n",
       "243                 Manvendra Singh, Gaurav Agarwal   \n",
       "244   Jasveer Singh, Abhishek Asthana, Deepak Kumar   \n",
       "245             Subramaniam Narayan, Niraj Rajmohan   \n",
       "246                                  Vikram Vuppala   \n",
       "247                             Shiju Radhakrishnan   \n",
       "248                     Varun Chaudhary, Amit Kumar   \n",
       "249              Mohit Menghani, Shubham Maheshwari   \n",
       "250                 Gaurav Dagaonkar, Meghna Mittal   \n",
       "251      Ravi Bulusu, Nanda Kishore, Venkat Moganty   \n",
       "252                                   Swapnil Pawar   \n",
       "253                      Deepak Bhuvenshwari Uniyal   \n",
       "254                   Utsav Agarwal, Pulkit Chhabra   \n",
       "255                   Vidur Kataria, Sidhanth Madan   \n",
       "1354                                   Nikhil Bohra   \n",
       "1414                                  Falguni Nayar   \n",
       "1571                                Byju Raveendran   \n",
       "2701                                            NaN   \n",
       "\n",
       "                                               investor       amount  \\\n",
       "107                 Iron Pillar, Nordstar, Binny Bansal     13000000   \n",
       "109                                          InvestCorp      8000000   \n",
       "117            Y Combinator, Broom Ventures, Kunal Shah      1700000   \n",
       "119                                      Eclear Leasing      1000000   \n",
       "243                                         Accel India      6600000   \n",
       "244   Vijay Shekhar Sharma, Ritesh Agarwal, Ankiti Bose     32000000   \n",
       "245                                     TVS Motor, Zoho    150000000   \n",
       "246                               IIFL Asset Management     24000000   \n",
       "247                           Inflection Point Ventures       700000   \n",
       "248         Oasis Capital, Scorpio VC, DeltaHub Capital            0   \n",
       "249   Titan Capital, Haresh Chawla, AngelList Syndicate       200000   \n",
       "250                           9Unicorns, Ashneer Grover      1500000   \n",
       "251                                   Anicut Angel Fund      1300000   \n",
       "252                               Founders Room Capital      1000000   \n",
       "253                                      9Unicorns, ZNL       725000   \n",
       "254                                                None       500000   \n",
       "255                                        WEH Ventures       461000   \n",
       "1354     Rajasthan Venture Capital Fund, AIM Smart City     600000.0   \n",
       "1414                           Alia Bhatt, Katrina Kaif            0   \n",
       "1571              Owl Ventures, Tiger Global Management  500000000.0   \n",
       "2701                                                NaN       250000   \n",
       "\n",
       "              series       year  \n",
       "107           others 2021-01-01  \n",
       "109           others 2021-01-01  \n",
       "117           others 2021-01-01  \n",
       "119           others 2021-01-01  \n",
       "243   early traction 2021-01-01  \n",
       "244       validation 2021-01-01  \n",
       "245   early traction 2021-01-01  \n",
       "246   early traction 2021-01-01  \n",
       "247       validation 2021-01-01  \n",
       "248       validation 2021-01-01  \n",
       "249           others 2021-01-01  \n",
       "250       validation 2021-01-01  \n",
       "251   early traction 2021-01-01  \n",
       "252   early traction 2021-01-01  \n",
       "253   early traction 2021-01-01  \n",
       "254           others 2021-01-01  \n",
       "255       validation 2021-01-01  \n",
       "1354      validation 2020-01-01  \n",
       "1414          others 2020-01-01  \n",
       "1571          others 2020-01-01  \n",
       "2701      validation 2018-01-01  "
      ]
     },
     "execution_count": 85,
     "metadata": {},
     "output_type": "execute_result"
    }
   ],
   "source": [
    "# check for duplicates\n",
    "df[df.duplicated()]"
   ]
  },
  {
   "cell_type": "code",
   "execution_count": 86,
   "metadata": {},
   "outputs": [],
   "source": [
    "# drop duplicates\n",
    "df.drop_duplicates(keep='first', inplace=True)"
   ]
  },
  {
   "cell_type": "code",
   "execution_count": 87,
   "metadata": {},
   "outputs": [
    {
     "name": "stdout",
     "output_type": "stream",
     "text": [
      " There are 0 duplicates\n"
     ]
    }
   ],
   "source": [
    "# check for duplicates\n",
    "print(f\" There are {df.duplicated().sum()} duplicates\")"
   ]
  },
  {
   "cell_type": "code",
   "execution_count": 88,
   "metadata": {},
   "outputs": [
    {
     "name": "stdout",
     "output_type": "stream",
     "text": [
      "<class 'pandas.core.frame.DataFrame'>\n",
      "Index: 2856 entries, 0 to 2878\n",
      "Data columns (total 10 columns):\n",
      " #   Column         Non-Null Count  Dtype         \n",
      "---  ------         --------------  -----         \n",
      " 0   company_brand  2856 non-null   object        \n",
      " 1   founded        2856 non-null   period[A-DEC] \n",
      " 2   headquarter    2741 non-null   object        \n",
      " 3   sector         2856 non-null   object        \n",
      " 4   about_company  2856 non-null   object        \n",
      " 5   founders       2312 non-null   object        \n",
      " 6   investor       2227 non-null   object        \n",
      " 7   amount         2855 non-null   object        \n",
      " 8   series         2853 non-null   object        \n",
      " 9   year           2856 non-null   datetime64[ns]\n",
      "dtypes: datetime64[ns](1), object(8), period[A-DEC](1)\n",
      "memory usage: 245.4+ KB\n"
     ]
    }
   ],
   "source": [
    "df.info()"
   ]
  },
  {
   "cell_type": "markdown",
   "metadata": {},
   "source": [
    "# **4. Hypothesis**"
   ]
  },
  {
   "cell_type": "markdown",
   "metadata": {},
   "source": [
    "**Null Hypothesis (H0)**: There is no significant relationship between funding and the sector  \n",
    "\n",
    "**Alternative Hypothesis (H1)**: There is a significant relationship between funding and the sector"
   ]
  },
  {
   "cell_type": "code",
   "execution_count": 92,
   "metadata": {},
   "outputs": [
    {
     "name": "stdout",
     "output_type": "stream",
     "text": [
      "Fail to reject the null hypothesis. There is no significant relationship between funding and the sector.\n",
      "The p_value is 0.9999999999999999\n",
      "The f_statistic is 0.0632020405538769\n"
     ]
    }
   ],
   "source": [
    "\n",
    "\n",
    "# Replace non-numeric values in 'amount' column with NaN\n",
    "df['amount'] = pd.to_numeric(df['amount'], errors='coerce')\n",
    "\n",
    "# Drop rows with missing or NaN values in 'amount' column\n",
    "df.dropna(subset=['amount'], inplace=True)\n",
    "\n",
    "# Create a subset of the DataFrame with only the 'sector' and 'amount' columns\n",
    "sector_funding = df[['sector', 'amount']]\n",
    "\n",
    "# Perform one-way ANOVA\n",
    "sector_groups = [group[1]['amount'] for group in sector_funding.groupby('sector')]\n",
    "f_statistic, p_value = stats.f_oneway(*sector_groups)\n",
    "\n",
    "# Define the significance level (alpha)\n",
    "alpha = 0.05\n",
    "\n",
    "# Interpret the results\n",
    "if p_value < alpha:\n",
    "    print(\"Reject the null hypothesis. There is a significant relationship between funding and the sector.\")\n",
    "else:\n",
    "    print(\"Fail to reject the null hypothesis. There is no significant relationship between funding and the sector.\")\n",
    "print(f'The p_value is {p_value}')\n",
    "print(f'The f_statistic is {f_statistic}')\n"
   ]
  },
  {
   "cell_type": "markdown",
   "metadata": {},
   "source": [
    "# **5. Analytical Questions**"
   ]
  },
  {
   "cell_type": "markdown",
   "metadata": {},
   "source": [
    "## Questions \n",
    "1. How have funding trends evolved between 2018 and 2021?\n",
    "2. What is the relationship between the amount of funding and the stage of the company?\n",
    "3. How does funding vary with the location of the start-ups\n",
    "4. What are the most attractive sectors for investors?\n",
    "5. Does the location of the company influence its sector?"
   ]
  },
  {
   "cell_type": "markdown",
   "metadata": {},
   "source": [
    "## **1. How have funding trends evolved between 2018 and 2021?**"
   ]
  },
  {
   "cell_type": "markdown",
   "metadata": {},
   "source": [
    "### **1.1 Funding Trend over the Years**"
   ]
  },
  {
   "cell_type": "code",
   "execution_count": 93,
   "metadata": {},
   "outputs": [
    {
     "data": {
      "image/png": "[encoded data removed]",
      "text/plain": [
       "<Figure size 1200x600 with 1 Axes>"
      ]
     },
     "metadata": {},
     "output_type": "display_data"
    }
   ],
   "source": [
    "# Plot a line graph to display the trend over the year\n",
    "funding_trend = df.groupby('year')['amount'].sum()\n",
    "funding_trend = pd.DataFrame(funding_trend).reset_index()\n",
    "funding_trend = funding_trend.reset_index()\n",
    "# Create a line plot using Seaborn\n",
    "plt.figure(figsize=(12, 6))  # Adjust the figure size if needed\n",
    "ax = sns.lineplot(data=funding_trend, x='year', marker='o',markersize=5, y='amount',)\n",
    "plt.title('Funding Trend Over the Years\\n2018-2021\\n')\n",
    "plt.xlabel('Year')\n",
    "plt.ylabel('Total Funded Amount (in Billion Dollars)')\n",
    "plt.xticks(rotation=5)\n",
    "ax.xaxis.set_major_locator(YearLocator())\n",
    "ax.yaxis.set_major_formatter(FuncFormatter(lambda x, _: '{:,}'.format(int(x))))\n",
    "ax.yaxis.set_major_formatter(FuncFormatter(lambda x, _: f'{int(x / 1e9)}B'))\n",
    "for i, label in enumerate(funding_trend['amount']):\n",
    "    year = funding_trend['year'].iloc[i]\n",
    "    y_value = funding_trend['amount'].iloc[i]\n",
    "    label_text = f'{label / 1e9:.1f}B' if not pd.isna(label) else 'N/A'\n",
    "    plt.text(year, y_value, label_text, ha='left', va='top', color='black', fontsize=10)\n",
    "plt.show()"
   ]
  },
  {
   "cell_type": "markdown",
   "metadata": {},
   "source": [
    "### **Observations**  \n",
    "- There was a modest decline in funding amounts between 2018 and 2019. However, from 2019 to 2021, there was a remarkable and abrupt increase, with a substantial difference of over 176 billion between the funding levels in 2019 and 2021. \n",
    "- 2021 is by far the best funded year with over 179B in funding"
   ]
  },
  {
   "cell_type": "markdown",
   "metadata": {},
   "source": [
    "### **1.2 Evolution of Funding Trends Across Top Locations Over the Years**"
   ]
  },
  {
   "cell_type": "code",
   "execution_count": 94,
   "metadata": {},
   "outputs": [
    {
     "data": {
      "image/png": "[encoded data removed]",
      "text/plain": [
       "<Figure size 1200x600 with 1 Axes>"
      ]
     },
     "metadata": {},
     "output_type": "display_data"
    }
   ],
   "source": [
    "# plot a line graph for the top four funded locations\n",
    "df['year'] = pd.to_datetime(df['year'], format='%Y')\n",
    "location_trend = df.groupby(['headquarter', 'year'])['amount'].sum().sort_values(ascending=False)\n",
    "top_locations = location_trend.groupby('headquarter').sum().nlargest(4).index\n",
    "# Filter the original DataFrame for the top 5 locations\n",
    "location_trend_top4 = location_trend[location_trend.index.get_level_values('headquarter').isin(top_locations)].reset_index()\n",
    "location_trend_top4_reset = location_trend_top4.reset_index()\n",
    "# Create a line plot using Seaborn\n",
    "plt.figure(figsize=(12, 6))  # Adjust the figure size if needed\n",
    "ax = sns.lineplot(data=location_trend_top4_reset, x='year', y='amount', hue='headquarter', marker='o', markersize=8)\n",
    "plt.title('Funding Trend across Top Locations Over the Years\\n2018-2021\\n')\n",
    "plt.xlabel('Year')\n",
    "plt.ylabel('Total Funded Amount')\n",
    "ax.yaxis.set_major_formatter(FuncFormatter(lambda x, _: f'{int(x / 1e9)}B'))\n",
    "ax.xaxis.set_major_locator(YearLocator())\n",
    "plt.show()"
   ]
  },
  {
   "cell_type": "markdown",
   "metadata": {},
   "source": [
    "### **Observations**  \n",
    "- Mumbai stands out as the most well-funded location, exhibiting a funding trend that closely mirrors the overall funding pattern. In contrast, Bangalore, Gurgaon, Delhi and all other cities follow at a considerable distance."
   ]
  },
  {
   "cell_type": "markdown",
   "metadata": {},
   "source": [
    "### **1.3 Evolution of Funding Trends Across Top Sectors Over the Years**"
   ]
  },
  {
   "cell_type": "code",
   "execution_count": 95,
   "metadata": {},
   "outputs": [
    {
     "data": {
      "image/png": "[encoded data removed]",
      "text/plain": [
       "<Figure size 1200x600 with 1 Axes>"
      ]
     },
     "metadata": {},
     "output_type": "display_data"
    }
   ],
   "source": [
    "# Plot a line graph to visualize trend of funding across top top_sectors\n",
    "df['year'] = pd.to_datetime(df['year'], format='%Y')\n",
    "sector_trend = df.groupby(['sector', 'year'])['amount'].sum().sort_values(ascending=False)\n",
    "top_sectors = sector_trend.groupby('sector').sum().nlargest(4).index\n",
    "sector_trend_top4 = sector_trend[sector_trend.index.get_level_values('sector').isin(top_sectors)].reset_index()\n",
    "plt.figure(figsize=(12, 6))\n",
    "ax = sns.lineplot(data=sector_trend_top4, x='year', y='amount', hue='sector', marker='o', markersize=8)\n",
    "plt.title('Funding Trends across Top Sectors Over the Years\\n2018-2021\\n')\n",
    "plt.xlabel('Year')\n",
    "plt.ylabel('Total Funded Amount (in billions)')\n",
    "ax.yaxis.set_major_formatter(FuncFormatter(lambda x, _: f'{int(x / 1e9)}B'))\n",
    "ax.xaxis.set_major_locator(YearLocator())\n",
    "plt.show()"
   ]
  },
  {
   "cell_type": "markdown",
   "metadata": {},
   "source": [
    "### **Observations**  \n",
    "- Retail has undergone a notable evolution in its funding trend. Initially, it exhibited a steep upward trajectory until 2020, followed by a sudden decline between 2020 and 2021.\n",
    "\n",
    "- In contrast, fintech consistently lagged significantly behind retail until 2020, only to experience a sudden upward trajectory thereafter, ultimately emerging as the best-funded sector."
   ]
  },
  {
   "cell_type": "markdown",
   "metadata": {},
   "source": [
    "### **1.4 Evolution of Funding Trends Across Startup Stages Over the Years**\n"
   ]
  },
  {
   "cell_type": "code",
   "execution_count": 96,
   "metadata": {},
   "outputs": [
    {
     "data": {
      "image/png": "[encoded data removed]",
      "text/plain": [
       "<Figure size 1200x600 with 1 Axes>"
      ]
     },
     "metadata": {},
     "output_type": "display_data"
    }
   ],
   "source": [
    "# plot a line graph for the top four funded series\n",
    "df['year'] = pd.to_datetime(df['year'], format='%Y')\n",
    "series_trend = df.groupby(['series', 'year'])['amount'].sum().sort_values(ascending=False)\n",
    "top_series = series_trend.groupby('series').sum().index\n",
    "# Filter the original DataFrame for the top 4 series\n",
    "series_trend_top4 = series_trend[series_trend.index.get_level_values('series').isin(top_series)].reset_index()\n",
    "series_trend_top4_reset = series_trend_top4.reset_index()\n",
    "# Create a line plot using Seaborn\n",
    "plt.figure(figsize=(12, 6))  # Adjust the figure size if needed\n",
    "ax = sns.lineplot(data=series_trend_top4_reset, x='year', y='amount', hue='series', marker='o', markersize=8)\n",
    "plt.title('Funding Trends across All stages Over the Years\\n2018-2021\\n')\n",
    "plt.xlabel('Year')\n",
    "plt.ylabel('Total Funded Amount')\n",
    "ax.yaxis.set_major_formatter(FuncFormatter(lambda x, _: f'{int(x / 1e9)}B'))\n",
    "ax.xaxis.set_major_locator(YearLocator())\n",
    "plt.show()"
   ]
  },
  {
   "cell_type": "markdown",
   "metadata": {},
   "source": [
    "### **Observations**\n",
    "- From the Graph above, Over the years, \"Other\" category which includes Private Equity, Corporate Round, Undisclosed, Non-equity Assistance, Debt, Bridge, and Edge has seen a tremendous growth in the amount of funding  received. These types of funding are often associated with more mature startups. As the startup ecosystem has matured, investors have become more comfortable investing in later-stage startups that are closer to profitability."
   ]
  },
  {
   "cell_type": "markdown",
   "metadata": {},
   "source": [
    "### **Conclusion**\n",
    "**Startup Funding Trends**\n",
    "\n",
    "Startup funding is experiencing a significant surge, especially in the financial technology (Fintech) sector. Among various locations, Mumbai stands out as the epicenter of this growth.\n",
    "\n",
    "**Key Points:**\n",
    "- **Rising Trends:** Startup funding is on a tremendous rise.\n",
    "- **Location Spotlight:** Mumbai leads the charts as the location with the most substantial rise in startup funding.\n",
    "- **Industry Focus:** Fintech emerges as the industry experiencing the most significant surge in funding."
   ]
  },
  {
   "cell_type": "markdown",
   "metadata": {},
   "source": [
    "## **2. What is the relationship between the amount of funding and the stage of the company?**"
   ]
  },
  {
   "cell_type": "markdown",
   "metadata": {},
   "source": [
    "### **2.1 Total Funding Recieved in Different Stages**"
   ]
  },
  {
   "cell_type": "code",
   "execution_count": 97,
   "metadata": {},
   "outputs": [
    {
     "data": {
      "image/png": "[encoded data removed]",
      "text/plain": [
       "<Figure size 1000x600 with 1 Axes>"
      ]
     },
     "metadata": {},
     "output_type": "display_data"
    }
   ],
   "source": [
    "stage_funding_dist = df.groupby('series')['amount'].sum().sort_values(ascending=False)\n",
    "# Plot the data\n",
    "fig, ax = plt.subplots(figsize=(10, 6))\n",
    "stage_funding_dist.plot(kind='barh', ax=ax)\n",
    "ax.set_title('Total Funding Amounts Per Series\\n2018-2021', fontsize=14)\n",
    "ax.set_xlabel('Amount of Funding in Billion Dollars', fontsize=12)\n",
    "ax.set_ylabel('Series', fontsize=12)\n",
    "\n",
    "# Annotate the bars\n",
    "for i, (series, amount) in enumerate(stage_funding_dist.items()):\n",
    "    ax.annotate(f'{amount / 1e9:.1f}B', xy=(amount, i), ha='left', va='center', fontsize=10)\n",
    "\n",
    "plt.tight_layout()\n",
    "plt.show()"
   ]
  },
  {
   "cell_type": "markdown",
   "metadata": {},
   "source": [
    "### **Observations**  \n",
    "- Category 'Others' being the best funded stage received 251B in total\n",
    "- Exit option is the worst funded with about a Billion in funding  \n",
    "- **A clear trend emerges – the more mature the startup, the more likely it is to attract substantial funding**"
   ]
  },
  {
   "cell_type": "markdown",
   "metadata": {},
   "source": [
    "### **2.2 Average Funding Received in Different Stages**"
   ]
  },
  {
   "cell_type": "code",
   "execution_count": 98,
   "metadata": {},
   "outputs": [
    {
     "data": {
      "image/png": "[encoded data removed]",
      "text/plain": [
       "<Figure size 1000x600 with 1 Axes>"
      ]
     },
     "metadata": {},
     "output_type": "display_data"
    }
   ],
   "source": [
    "# Average funding received by startups in different stages\n",
    "stage_funding_dist_avg = df.groupby('series')['amount'].mean().sort_values(ascending=False)\n",
    "stage_funding_dist_avg = pd.DataFrame(stage_funding_dist_avg)\n",
    "\n",
    "# Limiting the number of categories to plot\n",
    "num_categories = 10  # You can adjust this value according to your preference\n",
    "top_categories = stage_funding_dist_avg.head(num_categories)\n",
    "\n",
    "plt.figure(figsize=(10, 6))  # Reduced figure size\n",
    "\n",
    "# Plot horizontal bar chart\n",
    "bars=plt.barh(top_categories.index, top_categories['amount'])\n",
    "\n",
    "plt.title('Average Funding Amounts Per Series\\n2018-2021')\n",
    "plt.xlabel('Average Amount of Funding in Miilion Dollars')\n",
    "plt.ylabel('Series')\n",
    "for bar in bars:\n",
    "    width = bar.get_width()\n",
    "    plt.annotate(f'{int(width / 1e6)}M',\n",
    "                 xy=(width, bar.get_y() + bar.get_height() / 2),\n",
    "                 xytext=(3, 0),  # 3 points horizontal offset\n",
    "                 textcoords='offset points',\n",
    "                 ha='left', va='center', fontsize=10)\n",
    "\n",
    "\n",
    "plt.show()"
   ]
  },
  {
   "cell_type": "markdown",
   "metadata": {},
   "source": [
    "### **Conclusion**\n",
    "- We can comfortably infer that startups that are more muture get more funding on average"
   ]
  },
  {
   "cell_type": "markdown",
   "metadata": {},
   "source": [
    "## **3. How does funding vary with the location of the start-ups**"
   ]
  },
  {
   "cell_type": "code",
   "execution_count": 99,
   "metadata": {},
   "outputs": [
    {
     "data": {
      "image/png": "[encoded data removed]",
      "text/plain": [
       "<Figure size 1000x600 with 1 Axes>"
      ]
     },
     "metadata": {},
     "output_type": "display_data"
    }
   ],
   "source": [
    "# Group by 'headquarter' and calculate the mean amount\n",
    "location_funding = df.groupby('headquarter')['amount'].mean().reset_index()\n",
    "\n",
    "# Sort by mean funding amount and select the top 10 cities\n",
    "top_10_cities = location_funding.sort_values('amount', ascending=False).head(10)\n",
    "\n",
    "# Create a bar plot\n",
    "fig, ax = plt.subplots(figsize=(10, 6))\n",
    "bars = ax.bar(top_10_cities['headquarter'], top_10_cities['amount'])\n",
    "\n",
    "# Add labels and title\n",
    "plt.xlabel('City', fontsize=12)\n",
    "plt.ylabel('Average Funding Amount', fontsize=12)\n",
    "plt.title('Top 10 Cities by Average Funding Amount\\n2018-2021', fontsize=14)\n",
    "\n",
    "# Rotate x-axis labels for better readability\n",
    "plt.xticks(rotation=45, ha='right')\n",
    "\n",
    "# Annotate the bars with the mean funding amount\n",
    "for bar in bars:\n",
    "    height = bar.get_height()\n",
    "    ax.annotate(f'{height / 1e9:.1f}B',\n",
    "                xy=(bar.get_x() + bar.get_width() / 2, height),\n",
    "                xytext=(0, 3),\n",
    "                textcoords='offset points',\n",
    "                ha='center', va='bottom', fontsize=10)\n",
    "\n",
    "plt.tight_layout()\n",
    "plt.show()"
   ]
  },
  {
   "cell_type": "markdown",
   "metadata": {},
   "source": [
    "### **Observations**  \n",
    "- Mumbai's startups get the most money on average. Shanghai gets less, quite a bit behind. It's like a funding showdown between the two cities.\n",
    "- There's clear variation in funding across different cities. Mumbai, Shanghai, San Francisco, Kalpakkan, and Beijing startups are more likely to secure over $0.2 billion on average."
   ]
  },
  {
   "cell_type": "markdown",
   "metadata": {},
   "source": [
    "### **Conclusion**\n",
    "- Startups located in Mumbai and San Francisco receive more funding on average than startups in other locations.\n"
   ]
  },
  {
   "cell_type": "markdown",
   "metadata": {},
   "source": [
    "## **4. What are the most attractive sectors for investors?**"
   ]
  },
  {
   "cell_type": "markdown",
   "metadata": {},
   "source": [
    "### **4.1 __Total Funding per Sector__**"
   ]
  },
  {
   "cell_type": "code",
   "execution_count": 100,
   "metadata": {},
   "outputs": [
    {
     "data": {
      "image/png": "[encoded data removed]",
      "text/plain": [
       "<Figure size 1000x600 with 1 Axes>"
      ]
     },
     "metadata": {},
     "output_type": "display_data"
    }
   ],
   "source": [
    "# Sort sectors by funding amount\n",
    "sectors_by_funding = df.groupby('sector')['amount'].sum().sort_values(ascending=False)\n",
    "\n",
    "# Select top ten sectors\n",
    "top_ten_sectors_by_funding = sectors_by_funding.head(10)\n",
    "\n",
    "# Set Seaborn style\n",
    "sns.set_style(\"darkgrid\")\n",
    "\n",
    "# Plotting using Pandas\n",
    "fig, ax = plt.subplots(figsize=(10, 6))\n",
    "top_ten_sectors_by_funding.plot(kind='barh', ax=ax)\n",
    "ax.set_title('Top Ten Sectors by Total Funding (in $B)\\n2018-2021', fontsize=14)\n",
    "ax.set_xlabel('Amount in Billion $', fontsize=12)\n",
    "ax.set_ylabel('Sector', fontsize=12)\n",
    "\n",
    "# Annotate the bars\n",
    "for i, (sector, amount) in enumerate(top_ten_sectors_by_funding.items()):\n",
    "    ax.annotate(f'{amount / 1e9:.1f}B', xy=(amount, i), ha='left', va='center', fontsize=10)\n",
    "\n",
    "plt.tight_layout()\n",
    "plt.show()"
   ]
  },
  {
   "cell_type": "markdown",
   "metadata": {},
   "source": [
    "### **Observations**\n",
    "- Fintech and retail sectors stand out as the most attractive for investors.\n",
    "- The two sectors have received the most funding over the year\n",
    "- These sectors have received significant funding, making them key players in the startup investment landscape."
   ]
  },
  {
   "cell_type": "markdown",
   "metadata": {},
   "source": [
    "### **4.2 __Average Funding per Sector__**"
   ]
  },
  {
   "cell_type": "code",
   "execution_count": 101,
   "metadata": {},
   "outputs": [
    {
     "data": {
      "image/png": "[encoded data removed]",
      "text/plain": [
       "<Figure size 1000x600 with 1 Axes>"
      ]
     },
     "metadata": {},
     "output_type": "display_data"
    }
   ],
   "source": [
    "# Find the average funding amount for each sector\n",
    "avg_sectors_funding = df.groupby('sector')['amount'].mean().reset_index()\n",
    "\n",
    "# Convert the amount to billion dollars\n",
    "avg_sectors_funding['amount_in_billion'] = avg_sectors_funding['amount'] / 1e9\n",
    "\n",
    "# Sort sectors by average funding amount and select the top 10\n",
    "top_ten_sectors = avg_sectors_funding.sort_values('amount_in_billion', ascending=False).head(10)\n",
    "\n",
    "# Set Seaborn style\n",
    "sns.set_style(\"darkgrid\")\n",
    "\n",
    "# Create a bar plot\n",
    "fig, ax = plt.subplots(figsize=(10, 6))\n",
    "bars = ax.bar(top_ten_sectors['sector'], top_ten_sectors['amount_in_billion'])\n",
    "\n",
    "# Add labels and title\n",
    "plt.xlabel('Sector', fontsize=12)\n",
    "plt.ylabel('Average Funding Amount (in $B)', fontsize=12)\n",
    "plt.title('Top 10 Sectors by Average Funding Amount\\n2018-2021', fontsize=14)\n",
    "\n",
    "# Rotate x-axis labels for better readability\n",
    "plt.xticks(rotation=45, ha='right')\n",
    "\n",
    "# Annotate the bars with the average funding amount\n",
    "for bar in bars:\n",
    "    height = bar.get_height()\n",
    "    ax.annotate(f'{height:.1f}B',\n",
    "                xy=(bar.get_x() + bar.get_width() / 2, height),\n",
    "                xytext=(0, 3),\n",
    "                textcoords='offset points',\n",
    "                ha='center', va='bottom', fontsize=10)\n",
    "\n",
    "plt.tight_layout()\n",
    "plt.show()"
   ]
  },
  {
   "cell_type": "markdown",
   "metadata": {},
   "source": [
    "### **Observations**\n",
    "\n",
    "1. **Retail Dominance:**\n",
    "   - On average, retail startups secured the highest funding from 2018 to 2021, indicating strong investor interest.\n",
    "\n",
    "2. **Fintech Discrepancy:**\n",
    "   - While fintech received the most funds in total, the average funding per startup was significantly lower at $0.55 billion. \n",
    "   - In contrast, retail startups averaged a substantial $2.4 billion, highlighting a considerable difference in individual funding amounts."
   ]
  },
  {
   "cell_type": "markdown",
   "metadata": {},
   "source": [
    "### **Conclusion**\n",
    "   - The most attractive sectors for investors are Retail and Fintech"
   ]
  },
  {
   "cell_type": "markdown",
   "metadata": {},
   "source": [
    "## **5. Does the location of the company influence its sector?**"
   ]
  },
  {
   "cell_type": "code",
   "execution_count": 102,
   "metadata": {},
   "outputs": [
    {
     "data": {
      "application/vnd.plotly.v1+json": {
       "config": {
        "plotlyServerURL": "https://plot.ly"
       },
       "data": [
        {
         "coloraxis": "coloraxis",
         "hovertemplate": "Headquarter Location=%{x}<br>Sector=%{y}<br>count=%{z}<extra></extra>",
         "name": "",
         "type": "histogram2d",
         "x": [
          "Mumbai",
          "Mumbai",
          "Mumbai",
          "Gurgaon",
          "Mumbai",
          "Delhi",
          "Bangalore",
          "Bangalore",
          "Bangalore",
          "Delhi",
          "Chennai",
          "Bangalore",
          "Gurgaon",
          "Mumbai",
          "Mumbai",
          "Delhi",
          "Bangalore",
          "Bangalore",
          "Bangalore",
          "Bangalore",
          "Mumbai",
          "Delhi",
          "Bangalore",
          "Bangalore",
          "Pune",
          "Gurgaon",
          "Gurgaon",
          "Mumbai",
          "Bangalore",
          "Bangalore",
          "Bangalore",
          "Bangalore",
          "Pune",
          "Bangalore",
          "Bangalore",
          "Mumbai",
          "Gurgaon",
          "Bangalore",
          "Gurgaon",
          "Delhi",
          "Gurgaon",
          "Bangalore",
          "Bangalore",
          "Bangalore",
          "Delhi",
          "Mumbai",
          "Delhi",
          "Delhi",
          "Gurgaon",
          "Gurgaon",
          "Gurgaon",
          "Mumbai",
          "Delhi",
          "Bangalore",
          "Gurgaon",
          "Delhi",
          "Bangalore",
          "Mumbai",
          "Bangalore",
          "Delhi",
          "Gurgaon",
          "Delhi",
          "Delhi",
          "Bangalore",
          "Bangalore",
          "Bangalore",
          "Gurgaon",
          "Gurgaon",
          "Mumbai",
          "Mumbai",
          "Bangalore",
          "Mumbai",
          "Bangalore",
          "Bangalore",
          "Mumbai",
          "Bangalore",
          "Bangalore",
          "Bangalore",
          "Gurgaon",
          "Mumbai",
          "Bangalore",
          "Bangalore",
          "Gurgaon",
          "Gurgaon",
          "Mumbai",
          "Delhi",
          "Pune",
          "Gurgaon",
          "Bangalore",
          "Delhi",
          "Bangalore",
          "Mumbai",
          "Bangalore",
          "Bangalore",
          "Bangalore",
          "Pune",
          "Gurgaon",
          "Bangalore",
          "Bangalore",
          "Delhi",
          "Delhi",
          "Mumbai",
          "Bangalore",
          "Chennai",
          "Bangalore",
          "Mumbai",
          "Gurgaon",
          "Mumbai",
          "Gurgaon",
          "Delhi",
          "Gurgaon",
          "Bangalore",
          "Gurgaon",
          "Delhi",
          "Delhi",
          "Gurgaon",
          "Bangalore",
          "Mumbai",
          "Delhi",
          "Delhi",
          "Delhi",
          "Bangalore",
          "Mumbai",
          "Delhi",
          "Delhi",
          "Bangalore",
          "Delhi",
          "Gurgaon",
          "Pune",
          "Bangalore",
          "Mumbai",
          "Mumbai",
          "Bangalore",
          "Bangalore",
          "Bangalore",
          "Pune",
          "Bangalore",
          "Pune",
          "Bangalore",
          "Gurgaon",
          "Bangalore",
          "Delhi",
          "Mumbai",
          "Mumbai",
          "Delhi",
          "Mumbai",
          "Chennai",
          "Chennai",
          "Bangalore",
          "Bangalore",
          "Bangalore",
          "Mumbai",
          "Gurgaon",
          "Gurgaon",
          "Chennai",
          "Delhi",
          "Gurgaon",
          "Bangalore",
          "Mumbai",
          "Bangalore",
          "Delhi",
          "Bangalore",
          "Bangalore",
          "Delhi",
          "Mumbai",
          "Bangalore",
          "Bangalore",
          "Bangalore",
          "Bangalore",
          "Bangalore",
          "Mumbai",
          "Bangalore",
          "Bangalore",
          "Delhi",
          "Bangalore",
          "Bangalore",
          "Bangalore",
          "Pune",
          "Mumbai",
          "Gurgaon",
          "Bangalore",
          "Mumbai",
          "Delhi",
          "Delhi",
          "Bangalore",
          "Bangalore",
          "Delhi",
          "Delhi",
          "Bangalore",
          "Bangalore",
          "Delhi",
          "Mumbai",
          "Bangalore",
          "Mumbai",
          "Mumbai",
          "Gurgaon",
          "Gurgaon",
          "Bangalore",
          "Mumbai",
          "Mumbai",
          "Gurgaon",
          "Bangalore",
          "Delhi",
          "Bangalore",
          "Bangalore",
          "Bangalore",
          "Bangalore",
          "Delhi",
          "Bangalore",
          "Mumbai",
          "Gurgaon",
          "Gurgaon",
          "Chennai",
          "Bangalore",
          "Bangalore",
          "Delhi",
          "Bangalore",
          "Gurgaon",
          "Bangalore",
          "Mumbai",
          "Mumbai",
          "Gurgaon",
          "Mumbai",
          "Mumbai",
          "Chennai",
          "Bangalore",
          "Mumbai",
          "Delhi",
          "Bangalore",
          "Bangalore",
          "Delhi",
          "Chennai",
          "Gurgaon",
          "Gurgaon",
          "Gurgaon",
          "Mumbai",
          "Pune",
          "Gurgaon",
          "Chennai",
          "Gurgaon",
          "Delhi",
          "Bangalore",
          "Bangalore",
          "Delhi",
          "Gurgaon",
          "Chennai",
          "Bangalore",
          "Mumbai",
          "Mumbai",
          "Mumbai",
          "Mumbai",
          "Bangalore",
          "Delhi",
          "Delhi",
          "Mumbai",
          "Mumbai",
          "Bangalore",
          "Bangalore",
          "Pune",
          "Bangalore",
          "Mumbai",
          "Mumbai",
          "Bangalore",
          "Gurgaon",
          "Delhi",
          "Bangalore",
          "Bangalore",
          "Bangalore",
          "Delhi",
          "Pune",
          "Gurgaon",
          "Bangalore",
          "Gurgaon",
          "Bangalore",
          "Delhi",
          "Bangalore",
          "Gurgaon",
          "Gurgaon",
          "Bangalore",
          "Bangalore",
          "Delhi",
          "Gurgaon",
          "Bangalore",
          "Bangalore",
          "Gurgaon",
          "Delhi",
          "Bangalore",
          "Pune",
          "Chennai",
          "Bangalore",
          "Bangalore",
          "Mumbai",
          "Bangalore",
          "Mumbai",
          "Mumbai",
          "Delhi",
          "Gurgaon",
          "Delhi",
          "Gurgaon",
          "Mumbai",
          "Bangalore",
          "Delhi",
          "Gurgaon",
          "Bangalore",
          "Delhi",
          "Bangalore",
          "Bangalore",
          "Mumbai",
          "Bangalore",
          "Mumbai",
          "Mumbai",
          "Chennai",
          "Gurgaon",
          "Bangalore",
          "Bangalore",
          "Bangalore",
          "Mumbai",
          "Bangalore",
          "Mumbai",
          "Bangalore",
          "Gurgaon",
          "Mumbai",
          "Bangalore",
          "Pune",
          "Bangalore",
          "Bangalore",
          "Mumbai",
          "Mumbai",
          "Gurgaon",
          "Mumbai",
          "Delhi",
          "Pune",
          "Mumbai",
          "Bangalore",
          "Gurgaon",
          "Bangalore",
          "Bangalore",
          "Mumbai",
          "Bangalore",
          "Bangalore",
          "Gurgaon",
          "Bangalore",
          "Bangalore",
          "Pune",
          "Delhi",
          "Bangalore",
          "Gurgaon",
          "Bangalore",
          "Bangalore",
          "Bangalore",
          "Gurgaon",
          "Delhi",
          "Delhi",
          "Mumbai",
          "Gurgaon",
          "Mumbai",
          "Bangalore",
          "Gurgaon",
          "Bangalore",
          "Chennai",
          "Gurgaon",
          "Bangalore",
          "Gurgaon",
          "Bangalore",
          "Delhi",
          "Gurgaon",
          "Pune",
          "Delhi",
          "Pune",
          "Bangalore",
          "Bangalore",
          "Bangalore",
          "Bangalore",
          "Bangalore",
          "Bangalore",
          "Bangalore",
          "Bangalore",
          "Bangalore",
          "Delhi",
          "Mumbai",
          "Gurgaon",
          "Gurgaon",
          "Mumbai",
          "Gurgaon",
          "Bangalore",
          "Gurgaon",
          "Bangalore",
          "Bangalore",
          "Bangalore",
          "Bangalore",
          "Bangalore",
          "Delhi",
          "Gurgaon",
          "Mumbai",
          "Bangalore",
          "Bangalore",
          "Mumbai",
          "Pune",
          "Gurgaon",
          "Bangalore",
          "Bangalore",
          "Mumbai",
          "Delhi",
          "Mumbai",
          "Gurgaon",
          "San Francisco",
          "Bangalore",
          "Mumbai",
          "Mumbai",
          "Mumbai",
          "Bangalore",
          "Mumbai",
          "Bangalore",
          "Mumbai",
          "Gurgaon",
          "Bangalore",
          "Bangalore",
          "Bangalore",
          "Mumbai",
          "Bangalore",
          "Mumbai",
          "Mumbai",
          "Bangalore",
          "San Francisco",
          "Gurgaon",
          "Bangalore",
          "Chennai",
          "Mumbai",
          "Mumbai",
          "Gurgaon",
          "Bangalore",
          "Bangalore",
          "Bangalore",
          "Chennai",
          "Mumbai",
          "Mumbai",
          "Mumbai",
          "Bangalore",
          "Delhi",
          "Mumbai",
          "Mumbai",
          "Mumbai",
          "Delhi",
          "Mumbai",
          "San Francisco",
          "Bangalore",
          "Chennai",
          "Bangalore",
          "Mumbai",
          "Pune",
          "Mumbai",
          "Mumbai",
          "Bangalore",
          "Chennai",
          "Chennai",
          "Mumbai",
          "Bangalore",
          "Delhi",
          "San Francisco",
          "Mumbai",
          "Gurgaon",
          "Bangalore",
          "Bangalore",
          "Gurgaon",
          "Delhi",
          "Bangalore",
          "Bangalore",
          "Gurgaon",
          "Pune",
          "Pune",
          "Gurgaon",
          "Bangalore",
          "Mumbai",
          "Mumbai",
          "Mumbai",
          "Mumbai",
          "Delhi",
          "Chennai",
          "Chennai",
          "Mumbai",
          "Bangalore",
          "Mumbai",
          "Gurgaon",
          "Gurgaon",
          "Delhi",
          "Mumbai",
          "Bangalore",
          "Bangalore",
          "Bangalore",
          "Mumbai",
          "Bangalore",
          "Bangalore",
          "Bangalore",
          "Pune",
          "Bangalore",
          "Bangalore",
          "Mumbai",
          "Mumbai",
          "Bangalore",
          "Mumbai",
          "Delhi",
          "Mumbai",
          "Mumbai",
          "Bangalore",
          "Delhi",
          "Mumbai",
          "Bangalore",
          "Bangalore",
          "Bangalore",
          "Gurgaon",
          "Bangalore",
          "Pune",
          "Bangalore",
          "Mumbai",
          "Bangalore",
          "Bangalore",
          "Gurgaon",
          "Gurgaon",
          "Bangalore",
          "Delhi",
          "Gurgaon",
          "Chennai",
          "Bangalore",
          "Mumbai",
          "Bangalore",
          "Bangalore",
          "Bangalore",
          "Gurgaon",
          "Bangalore",
          "Mumbai",
          "Bangalore",
          "Mumbai",
          "Bangalore",
          "Chennai",
          "Delhi",
          "Bangalore",
          "Gurgaon",
          "Mumbai",
          "Gurgaon",
          "Chennai",
          "Gurgaon",
          "Bangalore",
          "Bangalore",
          "Gurgaon",
          "Mumbai",
          "Bangalore",
          "Delhi",
          "Mumbai",
          "Delhi",
          "Bangalore",
          "Pune",
          "Chennai",
          "Bangalore",
          "Delhi",
          "Bangalore",
          "Chennai",
          "Pune",
          "Mumbai",
          "Bangalore",
          "Chennai",
          "Bangalore",
          "Bangalore",
          "Mumbai",
          "Gurgaon",
          "Bangalore",
          "Gurgaon",
          "Bangalore",
          "Mumbai",
          "Delhi",
          "Gurgaon",
          "Mumbai",
          "Bangalore",
          "Mumbai",
          "Chennai",
          "Bangalore",
          "Bangalore",
          "Bangalore",
          "Gurgaon",
          "Mumbai",
          "Bangalore",
          "Bangalore",
          "Gurgaon",
          "Mumbai",
          "Bangalore",
          "Delhi",
          "Bangalore",
          "Delhi",
          "Chennai",
          "Delhi",
          "Bangalore",
          "Bangalore",
          "Gurgaon",
          "Bangalore",
          "Bangalore",
          "Bangalore",
          "Chennai",
          "Delhi",
          "Bangalore",
          "Delhi",
          "Gurgaon",
          "Mumbai",
          "Mumbai",
          "Bangalore",
          "Mumbai",
          "Bangalore",
          "Gurgaon",
          "Delhi",
          "Bangalore",
          "Pune",
          "Gurgaon",
          "Mumbai",
          "Bangalore",
          "Delhi",
          "Mumbai",
          "Bangalore",
          "Pune",
          "Bangalore",
          "Bangalore",
          "Bangalore",
          "Delhi",
          "Gurgaon",
          "Delhi",
          "Mumbai",
          "Mumbai",
          "Delhi",
          "Chennai",
          "Delhi",
          "Bangalore",
          "Bangalore",
          "Bangalore",
          "Mumbai",
          "Mumbai",
          "Bangalore",
          "Bangalore",
          "Bangalore",
          "Mumbai",
          "Delhi",
          "Delhi",
          "Bangalore",
          "Bangalore",
          "Bangalore",
          "Mumbai",
          "Mumbai",
          "Mumbai",
          "Mumbai",
          "Chennai",
          "Bangalore",
          "Delhi",
          "Bangalore",
          "Mumbai",
          "Chennai",
          "Mumbai",
          "Delhi",
          "Bangalore",
          "Bangalore",
          "Mumbai",
          "Bangalore",
          "Mumbai",
          "Bangalore",
          "Bangalore",
          "Mumbai",
          "Delhi",
          "Bangalore",
          "Bangalore",
          "Mumbai",
          "Mumbai",
          "Bangalore",
          "Gurgaon",
          "Gurgaon",
          "Mumbai",
          "Delhi",
          "Mumbai",
          "Chennai",
          "Bangalore",
          "Mumbai"
         ],
         "xaxis": "x",
         "xbingroup": "x",
         "y": [
          "Education Technology",
          "Education Technology",
          "Business-to-Business E-commerce",
          "Fintech",
          "Business-to-Business E-commerce",
          "Education Technology",
          "Fintech",
          "Fintech",
          "Education Technology",
          "Food and Beverages",
          "Fintech",
          "Food and Beverages",
          "Fintech",
          "Food and Beverages",
          "Business-to-Business E-commerce",
          "Fintech",
          "Food and Beverages",
          "Education Technology",
          "Education Technology",
          "Fintech",
          "Fintech",
          "Food and Beverages",
          "Fintech",
          "Fintech",
          "Fintech",
          "Fintech",
          "Retail",
          "Fintech",
          "Fintech",
          "Business-to-Business E-commerce",
          "Education Technology",
          "Education Technology",
          "Business-to-Business E-commerce",
          "Retail",
          "Fintech",
          "Fintech",
          "Fintech",
          "Food and Beverages",
          "Education Technology",
          "Fintech",
          "Education Technology",
          "Financial Services",
          "Fintech",
          "Fintech",
          "Financial Services",
          "Food and Beverages",
          "Fintech",
          "Financial Services",
          "Business-to-Business E-commerce",
          "Education Technology",
          "Business-to-Business E-commerce",
          "Education Technology",
          "Food and Beverages",
          "Financial Services",
          "Retail",
          "Education Technology",
          "Education Technology",
          "Education Technology",
          "Education Technology",
          "Financial Services",
          "Financial Services",
          "Food and Beverages",
          "Fintech",
          "Fintech",
          "Fintech",
          "Education Technology",
          "Education Technology",
          "Fintech",
          "Financial Services",
          "Food and Beverages",
          "Financial Services",
          "Financial Services",
          "Financial Services",
          "Financial Services",
          "Financial Services",
          "Financial Services",
          "Fintech",
          "Financial Services",
          "Financial Services",
          "Business-to-Business E-commerce",
          "Business-to-Business E-commerce",
          "Business-to-Business E-commerce",
          "Food and Beverages",
          "Food and Beverages",
          "Financial Services",
          "Business-to-Business E-commerce",
          "Financial Services",
          "Education Technology",
          "Education Technology",
          "Education Technology",
          "Fintech",
          "Fintech",
          "Education Technology",
          "Fintech",
          "Education Technology",
          "Education Technology",
          "Business-to-Business E-commerce",
          "Fintech",
          "Education Technology",
          "Fintech",
          "Education Technology",
          "Business-to-Business E-commerce",
          "Education Technology",
          "Food and Beverages",
          "Fintech",
          "Fintech",
          "Financial Services",
          "Fintech",
          "Business-to-Business E-commerce",
          "Fintech",
          "Education Technology",
          "Business-to-Business E-commerce",
          "Education Technology",
          "Fintech",
          "Fintech",
          "Fintech",
          "Business-to-Business E-commerce",
          "Business-to-Business E-commerce",
          "Fintech",
          "Fintech",
          "Education Technology",
          "Fintech",
          "Education Technology",
          "Education Technology",
          "Fintech",
          "Fintech",
          "Fintech",
          "Education Technology",
          "Food and Beverages",
          "Fintech",
          "Education Technology",
          "Fintech",
          "Business-to-Business E-commerce",
          "Business-to-Business E-commerce",
          "Education Technology",
          "Education Technology",
          "Food and Beverages",
          "Fintech",
          "Fintech",
          "Fintech",
          "Education Technology",
          "Fintech",
          "Fintech",
          "Education Technology",
          "Education Technology",
          "Business-to-Business E-commerce",
          "Education Technology",
          "Food and Beverages",
          "Financial Services",
          "Education Technology",
          "Business-to-Business E-commerce",
          "Food and Beverages",
          "Education Technology",
          "Food and Beverages",
          "Education Technology",
          "Fintech",
          "Fintech",
          "Fintech",
          "Education Technology",
          "Education Technology",
          "Education Technology",
          "Food and Beverages",
          "Education Technology",
          "Business-to-Business E-commerce",
          "Food and Beverages",
          "Food and Beverages",
          "Fintech",
          "Education Technology",
          "Fintech",
          "Food and Beverages",
          "Education Technology",
          "Retail",
          "Education Technology",
          "Education Technology",
          "Education Technology",
          "Education Technology",
          "Fintech",
          "Education Technology",
          "Fintech",
          "Education Technology",
          "Fintech",
          "Business-to-Business E-commerce",
          "Business-to-Business E-commerce",
          "Food and Beverages",
          "Fintech",
          "Fintech",
          "Education Technology",
          "Fintech",
          "Business-to-Business E-commerce",
          "Education Technology",
          "Fintech",
          "Fintech",
          "Fintech",
          "Fintech",
          "Education Technology",
          "Fintech",
          "Business-to-Business E-commerce",
          "Education Technology",
          "Fintech",
          "Fintech",
          "Food and Beverages",
          "Business-to-Business E-commerce",
          "Fintech",
          "Education Technology",
          "Fintech",
          "Education Technology",
          "Fintech",
          "Food and Beverages",
          "Fintech",
          "Fintech",
          "Business-to-Business E-commerce",
          "Fintech",
          "Fintech",
          "Education Technology",
          "Education Technology",
          "Fintech",
          "Fintech",
          "Fintech",
          "Fintech",
          "Fintech",
          "Fintech",
          "Fintech",
          "Fintech",
          "Fintech",
          "Fintech",
          "Fintech",
          "Fintech",
          "Education Technology",
          "Fintech",
          "Education Technology",
          "Business-to-Business E-commerce",
          "Fintech",
          "Business-to-Business E-commerce",
          "Business-to-Business E-commerce",
          "Education Technology",
          "Fintech",
          "Education Technology",
          "Education Technology",
          "Fintech",
          "Education Technology",
          "Fintech",
          "Education Technology",
          "Fintech",
          "Fintech",
          "Education Technology",
          "Fintech",
          "Fintech",
          "Education Technology",
          "Fintech",
          "Fintech",
          "Education Technology",
          "Fintech",
          "Education Technology",
          "Fintech",
          "Fintech",
          "Retail",
          "Education Technology",
          "Education Technology",
          "Business-to-Business E-commerce",
          "Fintech",
          "Fintech",
          "Business-to-Business E-commerce",
          "Financial Services",
          "Business-to-Business E-commerce",
          "Financial Services",
          "Retail",
          "Food and Beverages",
          "Financial Services",
          "Retail",
          "Financial Services",
          "Food and Beverages",
          "Financial Services",
          "Financial Services",
          "Financial Services",
          "Financial Services",
          "Financial Services",
          "Financial Services",
          "Financial Services",
          "Financial Services",
          "Financial Services",
          "Fintech",
          "Business-to-Business E-commerce",
          "Education Technology",
          "Food and Beverages",
          "Education Technology",
          "Retail",
          "Financial Services",
          "Financial Services",
          "Financial Services",
          "Financial Services",
          "Financial Services",
          "Food and Beverages",
          "Financial Services",
          "Financial Services",
          "Financial Services",
          "Financial Services",
          "Food and Beverages",
          "Financial Services",
          "Education Technology",
          "Food and Beverages",
          "Financial Services",
          "Financial Services",
          "Financial Services",
          "Financial Services",
          "Financial Services",
          "Retail",
          "Financial Services",
          "Retail",
          "Financial Services",
          "Business-to-Business E-commerce",
          "Food and Beverages",
          "Fintech",
          "Fintech",
          "Financial Services",
          "Fintech",
          "Food and Beverages",
          "Financial Services",
          "Financial Services",
          "Financial Services",
          "Financial Services",
          "Fintech",
          "Retail",
          "Financial Services",
          "Financial Services",
          "Financial Services",
          "Fintech",
          "Food and Beverages",
          "Financial Services",
          "Retail",
          "Fintech",
          "Financial Services",
          "Financial Services",
          "Education Technology",
          "Food and Beverages",
          "Education Technology",
          "Fintech",
          "Education Technology",
          "Financial Services",
          "Education Technology",
          "Retail",
          "Education Technology",
          "Food and Beverages",
          "Fintech",
          "Food and Beverages",
          "Food and Beverages",
          "Financial Services",
          "Education Technology",
          "Financial Services",
          "Education Technology",
          "Fintech",
          "Food and Beverages",
          "Business-to-Business E-commerce",
          "Fintech",
          "Fintech",
          "Fintech",
          "Fintech",
          "Food and Beverages",
          "Business-to-Business E-commerce",
          "Education Technology",
          "Business-to-Business E-commerce",
          "Business-to-Business E-commerce",
          "Retail",
          "Fintech",
          "Fintech",
          "Fintech",
          "Fintech",
          "Education Technology",
          "Financial Services",
          "Fintech",
          "Tech company",
          "Business-to-Business E-commerce",
          "Fintech",
          "Education Technology",
          "Education Technology",
          "Financial Services",
          "Financial Services",
          "Education Technology",
          "Fintech",
          "Fintech",
          "Financial Services",
          "Fintech",
          "Fintech",
          "Tech company",
          "Fintech",
          "Education Technology",
          "Education Technology",
          "Fintech",
          "Education Technology",
          "Business-to-Business E-commerce",
          "Education Technology",
          "Fintech",
          "Business-to-Business E-commerce",
          "Fintech",
          "Food and Beverages",
          "Fintech",
          "Business-to-Business E-commerce",
          "Fintech",
          "Business-to-Business E-commerce",
          "Fintech",
          "Education Technology",
          "Education Technology",
          "Business-to-Business E-commerce",
          "Fintech",
          "Education Technology",
          "Education Technology",
          "Education Technology",
          "Business-to-Business E-commerce",
          "Food and Beverages",
          "Education Technology",
          "Fintech",
          "Business-to-Business E-commerce",
          "Fintech",
          "Education Technology",
          "Business-to-Business E-commerce",
          "Fintech",
          "Business-to-Business E-commerce",
          "Business-to-Business E-commerce",
          "Retail",
          "Business-to-Business E-commerce",
          "Food and Beverages",
          "Education Technology",
          "Fintech",
          "Retail",
          "Tech company",
          "Fintech",
          "Fintech",
          "Education Technology",
          "Education Technology",
          "Education Technology",
          "Food and Beverages",
          "Food and Beverages",
          "Fintech",
          "Food and Beverages",
          "Education Technology",
          "Fintech",
          "Fintech",
          "Retail",
          "Education Technology",
          "Education Technology",
          "Business-to-Business E-commerce",
          "Tech company",
          "Fintech",
          "Business-to-Business E-commerce",
          "Business-to-Business E-commerce",
          "Tech company",
          "Business-to-Business E-commerce",
          "Fintech",
          "Education Technology",
          "Fintech",
          "Food and Beverages",
          "Financial Services",
          "Financial Services",
          "Education Technology",
          "Financial Services",
          "Financial Services",
          "Business-to-Business E-commerce",
          "Education Technology",
          "Business-to-Business E-commerce",
          "Tech company",
          "Education Technology",
          "Business-to-Business E-commerce",
          "Education Technology",
          "Education Technology",
          "Education Technology",
          "Business-to-Business E-commerce",
          "Fintech",
          "Business-to-Business E-commerce",
          "Food and Beverages",
          "Fintech",
          "Education Technology",
          "Business-to-Business E-commerce",
          "Education Technology",
          "Financial Services",
          "Education Technology",
          "Education Technology",
          "Education Technology",
          "Financial Services",
          "Education Technology",
          "Education Technology",
          "Fintech",
          "Fintech",
          "Education Technology",
          "Education Technology",
          "Financial Services",
          "Business-to-Business E-commerce",
          "Business-to-Business E-commerce",
          "Education Technology",
          "Education Technology",
          "Fintech",
          "Education Technology",
          "Food and Beverages",
          "Education Technology",
          "Fintech",
          "Fintech",
          "Education Technology",
          "Fintech",
          "Education Technology",
          "Fintech",
          "Food and Beverages",
          "Fintech",
          "Fintech",
          "Food and Beverages",
          "Education Technology",
          "Fintech",
          "Fintech",
          "Food and Beverages",
          "Fintech",
          "Education Technology",
          "Education Technology",
          "Fintech",
          "Education Technology",
          "Education Technology",
          "Education Technology",
          "Food and Beverages",
          "Education Technology",
          "Fintech",
          "Fintech",
          "Food and Beverages",
          "Education Technology",
          "Food and Beverages",
          "Retail",
          "Education Technology",
          "Fintech",
          "Fintech",
          "Food and Beverages",
          "Education Technology",
          "Fintech",
          "Fintech",
          "Fintech",
          "Fintech",
          "Education Technology",
          "Food and Beverages",
          "Food and Beverages",
          "Fintech",
          "Food and Beverages",
          "Fintech",
          "Education Technology",
          "Fintech",
          "Fintech",
          "Fintech",
          "Fintech",
          "Fintech",
          "Education Technology",
          "Fintech",
          "Fintech",
          "Fintech",
          "Food and Beverages",
          "Fintech",
          "Education Technology",
          "Fintech",
          "Fintech",
          "Education Technology",
          "Education Technology",
          "Financial Services",
          "Fintech",
          "Fintech",
          "Education Technology",
          "Food and Beverages",
          "Fintech",
          "Fintech",
          "Fintech",
          "Education Technology",
          "Education Technology",
          "Fintech",
          "Food and Beverages",
          "Food and Beverages",
          "Fintech",
          "Fintech",
          "Fintech",
          "Education Technology",
          "Education Technology",
          "Fintech",
          "Food and Beverages",
          "Fintech",
          "Fintech",
          "Fintech",
          "Fintech",
          "Food and Beverages",
          "Education Technology",
          "Food and Beverages",
          "Fintech",
          "Fintech",
          "Fintech",
          "Education Technology",
          "Fintech",
          "Fintech",
          "Fintech",
          "Fintech",
          "Food and Beverages",
          "Food and Beverages",
          "Education Technology",
          "Education Technology",
          "Fintech",
          "Fintech",
          "Education Technology",
          "Fintech",
          "Education Technology",
          "Fintech",
          "Education Technology",
          "Fintech",
          "Fintech",
          "Education Technology",
          "Education Technology",
          "Food and Beverages",
          "Fintech",
          "Education Technology",
          "Fintech",
          "Education Technology",
          "Education Technology",
          "Fintech",
          "Fintech",
          "Food and Beverages",
          "Education Technology",
          "Fintech",
          "Business-to-Business E-commerce",
          "Education Technology",
          "Fintech",
          "Fintech",
          "Fintech",
          "Education Technology",
          "Fintech",
          "Education Technology",
          "Education Technology",
          "Education Technology",
          "Business-to-Business E-commerce",
          "Fintech",
          "Fintech",
          "Fintech",
          "Food and Beverages",
          "Food and Beverages",
          "Business-to-Business E-commerce",
          "Food and Beverages",
          "Fintech",
          "Fintech",
          "Fintech",
          "Fintech",
          "Food and Beverages",
          "Business-to-Business E-commerce",
          "Education Technology",
          "Food and Beverages",
          "Financial Services",
          "Financial Services",
          "Financial Services",
          "Financial Services",
          "Food and Beverages",
          "Financial Services",
          "Financial Services",
          "Education Technology",
          "Food and Beverages",
          "Education Technology",
          "Financial Services",
          "Financial Services",
          "Financial Services",
          "Education Technology",
          "Food and Beverages",
          "Financial Services",
          "Financial Services",
          "Financial Services",
          "Financial Services",
          "Financial Services",
          "Food and Beverages",
          "Financial Services",
          "Financial Services",
          "Financial Services",
          "Financial Services",
          "Financial Services",
          "Education Technology",
          "Retail",
          "Food and Beverages",
          "Fintech",
          "Financial Services",
          "Financial Services",
          "Financial Services",
          "Fintech",
          "Food and Beverages"
         ],
         "yaxis": "y",
         "ybingroup": "y"
        }
       ],
       "layout": {
        "coloraxis": {
         "colorbar": {
          "title": {
           "text": "count"
          }
         },
         "colorscale": [
          [
           0,
           "#0d0887"
          ],
          [
           0.1111111111111111,
           "#46039f"
          ],
          [
           0.2222222222222222,
           "#7201a8"
          ],
          [
           0.3333333333333333,
           "#9c179e"
          ],
          [
           0.4444444444444444,
           "#bd3786"
          ],
          [
           0.5555555555555556,
           "#d8576b"
          ],
          [
           0.6666666666666666,
           "#ed7953"
          ],
          [
           0.7777777777777778,
           "#fb9f3a"
          ],
          [
           0.8888888888888888,
           "#fdca26"
          ],
          [
           1,
           "#f0f921"
          ]
         ]
        },
        "legend": {
         "tracegroupgap": 0
        },
        "template": {
         "data": {
          "bar": [
           {
            "error_x": {
             "color": "#2a3f5f"
            },
            "error_y": {
             "color": "#2a3f5f"
            },
            "marker": {
             "line": {
              "color": "#E5ECF6",
              "width": 0.5
             },
             "pattern": {
              "fillmode": "overlay",
              "size": 10,
              "solidity": 0.2
             }
            },
            "type": "bar"
           }
          ],
          "barpolar": [
           {
            "marker": {
             "line": {
              "color": "#E5ECF6",
              "width": 0.5
             },
             "pattern": {
              "fillmode": "overlay",
              "size": 10,
              "solidity": 0.2
             }
            },
            "type": "barpolar"
           }
          ],
          "carpet": [
           {
            "aaxis": {
             "endlinecolor": "#2a3f5f",
             "gridcolor": "white",
             "linecolor": "white",
             "minorgridcolor": "white",
             "startlinecolor": "#2a3f5f"
            },
            "baxis": {
             "endlinecolor": "#2a3f5f",
             "gridcolor": "white",
             "linecolor": "white",
             "minorgridcolor": "white",
             "startlinecolor": "#2a3f5f"
            },
            "type": "carpet"
           }
          ],
          "choropleth": [
           {
            "colorbar": {
             "outlinewidth": 0,
             "ticks": ""
            },
            "type": "choropleth"
           }
          ],
          "contour": [
           {
            "colorbar": {
             "outlinewidth": 0,
             "ticks": ""
            },
            "colorscale": [
             [
              0,
              "#0d0887"
             ],
             [
              0.1111111111111111,
              "#46039f"
             ],
             [
              0.2222222222222222,
              "#7201a8"
             ],
             [
              0.3333333333333333,
              "#9c179e"
             ],
             [
              0.4444444444444444,
              "#bd3786"
             ],
             [
              0.5555555555555556,
              "#d8576b"
             ],
             [
              0.6666666666666666,
              "#ed7953"
             ],
             [
              0.7777777777777778,
              "#fb9f3a"
             ],
             [
              0.8888888888888888,
              "#fdca26"
             ],
             [
              1,
              "#f0f921"
             ]
            ],
            "type": "contour"
           }
          ],
          "contourcarpet": [
           {
            "colorbar": {
             "outlinewidth": 0,
             "ticks": ""
            },
            "type": "contourcarpet"
           }
          ],
          "heatmap": [
           {
            "colorbar": {
             "outlinewidth": 0,
             "ticks": ""
            },
            "colorscale": [
             [
              0,
              "#0d0887"
             ],
             [
              0.1111111111111111,
              "#46039f"
             ],
             [
              0.2222222222222222,
              "#7201a8"
             ],
             [
              0.3333333333333333,
              "#9c179e"
             ],
             [
              0.4444444444444444,
              "#bd3786"
             ],
             [
              0.5555555555555556,
              "#d8576b"
             ],
             [
              0.6666666666666666,
              "#ed7953"
             ],
             [
              0.7777777777777778,
              "#fb9f3a"
             ],
             [
              0.8888888888888888,
              "#fdca26"
             ],
             [
              1,
              "#f0f921"
             ]
            ],
            "type": "heatmap"
           }
          ],
          "heatmapgl": [
           {
            "colorbar": {
             "outlinewidth": 0,
             "ticks": ""
            },
            "colorscale": [
             [
              0,
              "#0d0887"
             ],
             [
              0.1111111111111111,
              "#46039f"
             ],
             [
              0.2222222222222222,
              "#7201a8"
             ],
             [
              0.3333333333333333,
              "#9c179e"
             ],
             [
              0.4444444444444444,
              "#bd3786"
             ],
             [
              0.5555555555555556,
              "#d8576b"
             ],
             [
              0.6666666666666666,
              "#ed7953"
             ],
             [
              0.7777777777777778,
              "#fb9f3a"
             ],
             [
              0.8888888888888888,
              "#fdca26"
             ],
             [
              1,
              "#f0f921"
             ]
            ],
            "type": "heatmapgl"
           }
          ],
          "histogram": [
           {
            "marker": {
             "pattern": {
              "fillmode": "overlay",
              "size": 10,
              "solidity": 0.2
             }
            },
            "type": "histogram"
           }
          ],
          "histogram2d": [
           {
            "colorbar": {
             "outlinewidth": 0,
             "ticks": ""
            },
            "colorscale": [
             [
              0,
              "#0d0887"
             ],
             [
              0.1111111111111111,
              "#46039f"
             ],
             [
              0.2222222222222222,
              "#7201a8"
             ],
             [
              0.3333333333333333,
              "#9c179e"
             ],
             [
              0.4444444444444444,
              "#bd3786"
             ],
             [
              0.5555555555555556,
              "#d8576b"
             ],
             [
              0.6666666666666666,
              "#ed7953"
             ],
             [
              0.7777777777777778,
              "#fb9f3a"
             ],
             [
              0.8888888888888888,
              "#fdca26"
             ],
             [
              1,
              "#f0f921"
             ]
            ],
            "type": "histogram2d"
           }
          ],
          "histogram2dcontour": [
           {
            "colorbar": {
             "outlinewidth": 0,
             "ticks": ""
            },
            "colorscale": [
             [
              0,
              "#0d0887"
             ],
             [
              0.1111111111111111,
              "#46039f"
             ],
             [
              0.2222222222222222,
              "#7201a8"
             ],
             [
              0.3333333333333333,
              "#9c179e"
             ],
             [
              0.4444444444444444,
              "#bd3786"
             ],
             [
              0.5555555555555556,
              "#d8576b"
             ],
             [
              0.6666666666666666,
              "#ed7953"
             ],
             [
              0.7777777777777778,
              "#fb9f3a"
             ],
             [
              0.8888888888888888,
              "#fdca26"
             ],
             [
              1,
              "#f0f921"
             ]
            ],
            "type": "histogram2dcontour"
           }
          ],
          "mesh3d": [
           {
            "colorbar": {
             "outlinewidth": 0,
             "ticks": ""
            },
            "type": "mesh3d"
           }
          ],
          "parcoords": [
           {
            "line": {
             "colorbar": {
              "outlinewidth": 0,
              "ticks": ""
             }
            },
            "type": "parcoords"
           }
          ],
          "pie": [
           {
            "automargin": true,
            "type": "pie"
           }
          ],
          "scatter": [
           {
            "fillpattern": {
             "fillmode": "overlay",
             "size": 10,
             "solidity": 0.2
            },
            "type": "scatter"
           }
          ],
          "scatter3d": [
           {
            "line": {
             "colorbar": {
              "outlinewidth": 0,
              "ticks": ""
             }
            },
            "marker": {
             "colorbar": {
              "outlinewidth": 0,
              "ticks": ""
             }
            },
            "type": "scatter3d"
           }
          ],
          "scattercarpet": [
           {
            "marker": {
             "colorbar": {
              "outlinewidth": 0,
              "ticks": ""
             }
            },
            "type": "scattercarpet"
           }
          ],
          "scattergeo": [
           {
            "marker": {
             "colorbar": {
              "outlinewidth": 0,
              "ticks": ""
             }
            },
            "type": "scattergeo"
           }
          ],
          "scattergl": [
           {
            "marker": {
             "colorbar": {
              "outlinewidth": 0,
              "ticks": ""
             }
            },
            "type": "scattergl"
           }
          ],
          "scattermapbox": [
           {
            "marker": {
             "colorbar": {
              "outlinewidth": 0,
              "ticks": ""
             }
            },
            "type": "scattermapbox"
           }
          ],
          "scatterpolar": [
           {
            "marker": {
             "colorbar": {
              "outlinewidth": 0,
              "ticks": ""
             }
            },
            "type": "scatterpolar"
           }
          ],
          "scatterpolargl": [
           {
            "marker": {
             "colorbar": {
              "outlinewidth": 0,
              "ticks": ""
             }
            },
            "type": "scatterpolargl"
           }
          ],
          "scatterternary": [
           {
            "marker": {
             "colorbar": {
              "outlinewidth": 0,
              "ticks": ""
             }
            },
            "type": "scatterternary"
           }
          ],
          "surface": [
           {
            "colorbar": {
             "outlinewidth": 0,
             "ticks": ""
            },
            "colorscale": [
             [
              0,
              "#0d0887"
             ],
             [
              0.1111111111111111,
              "#46039f"
             ],
             [
              0.2222222222222222,
              "#7201a8"
             ],
             [
              0.3333333333333333,
              "#9c179e"
             ],
             [
              0.4444444444444444,
              "#bd3786"
             ],
             [
              0.5555555555555556,
              "#d8576b"
             ],
             [
              0.6666666666666666,
              "#ed7953"
             ],
             [
              0.7777777777777778,
              "#fb9f3a"
             ],
             [
              0.8888888888888888,
              "#fdca26"
             ],
             [
              1,
              "#f0f921"
             ]
            ],
            "type": "surface"
           }
          ],
          "table": [
           {
            "cells": {
             "fill": {
              "color": "#EBF0F8"
             },
             "line": {
              "color": "white"
             }
            },
            "header": {
             "fill": {
              "color": "#C8D4E3"
             },
             "line": {
              "color": "white"
             }
            },
            "type": "table"
           }
          ]
         },
         "layout": {
          "annotationdefaults": {
           "arrowcolor": "#2a3f5f",
           "arrowhead": 0,
           "arrowwidth": 1
          },
          "autotypenumbers": "strict",
          "coloraxis": {
           "colorbar": {
            "outlinewidth": 0,
            "ticks": ""
           }
          },
          "colorscale": {
           "diverging": [
            [
             0,
             "#8e0152"
            ],
            [
             0.1,
             "#c51b7d"
            ],
            [
             0.2,
             "#de77ae"
            ],
            [
             0.3,
             "#f1b6da"
            ],
            [
             0.4,
             "#fde0ef"
            ],
            [
             0.5,
             "#f7f7f7"
            ],
            [
             0.6,
             "#e6f5d0"
            ],
            [
             0.7,
             "#b8e186"
            ],
            [
             0.8,
             "#7fbc41"
            ],
            [
             0.9,
             "#4d9221"
            ],
            [
             1,
             "#276419"
            ]
           ],
           "sequential": [
            [
             0,
             "#0d0887"
            ],
            [
             0.1111111111111111,
             "#46039f"
            ],
            [
             0.2222222222222222,
             "#7201a8"
            ],
            [
             0.3333333333333333,
             "#9c179e"
            ],
            [
             0.4444444444444444,
             "#bd3786"
            ],
            [
             0.5555555555555556,
             "#d8576b"
            ],
            [
             0.6666666666666666,
             "#ed7953"
            ],
            [
             0.7777777777777778,
             "#fb9f3a"
            ],
            [
             0.8888888888888888,
             "#fdca26"
            ],
            [
             1,
             "#f0f921"
            ]
           ],
           "sequentialminus": [
            [
             0,
             "#0d0887"
            ],
            [
             0.1111111111111111,
             "#46039f"
            ],
            [
             0.2222222222222222,
             "#7201a8"
            ],
            [
             0.3333333333333333,
             "#9c179e"
            ],
            [
             0.4444444444444444,
             "#bd3786"
            ],
            [
             0.5555555555555556,
             "#d8576b"
            ],
            [
             0.6666666666666666,
             "#ed7953"
            ],
            [
             0.7777777777777778,
             "#fb9f3a"
            ],
            [
             0.8888888888888888,
             "#fdca26"
            ],
            [
             1,
             "#f0f921"
            ]
           ]
          },
          "colorway": [
           "#636efa",
           "#EF553B",
           "#00cc96",
           "#ab63fa",
           "#FFA15A",
           "#19d3f3",
           "#FF6692",
           "#B6E880",
           "#FF97FF",
           "#FECB52"
          ],
          "font": {
           "color": "#2a3f5f"
          },
          "geo": {
           "bgcolor": "white",
           "lakecolor": "white",
           "landcolor": "#E5ECF6",
           "showlakes": true,
           "showland": true,
           "subunitcolor": "white"
          },
          "hoverlabel": {
           "align": "left"
          },
          "hovermode": "closest",
          "mapbox": {
           "style": "light"
          },
          "paper_bgcolor": "white",
          "plot_bgcolor": "#E5ECF6",
          "polar": {
           "angularaxis": {
            "gridcolor": "white",
            "linecolor": "white",
            "ticks": ""
           },
           "bgcolor": "#E5ECF6",
           "radialaxis": {
            "gridcolor": "white",
            "linecolor": "white",
            "ticks": ""
           }
          },
          "scene": {
           "xaxis": {
            "backgroundcolor": "#E5ECF6",
            "gridcolor": "white",
            "gridwidth": 2,
            "linecolor": "white",
            "showbackground": true,
            "ticks": "",
            "zerolinecolor": "white"
           },
           "yaxis": {
            "backgroundcolor": "#E5ECF6",
            "gridcolor": "white",
            "gridwidth": 2,
            "linecolor": "white",
            "showbackground": true,
            "ticks": "",
            "zerolinecolor": "white"
           },
           "zaxis": {
            "backgroundcolor": "#E5ECF6",
            "gridcolor": "white",
            "gridwidth": 2,
            "linecolor": "white",
            "showbackground": true,
            "ticks": "",
            "zerolinecolor": "white"
           }
          },
          "shapedefaults": {
           "line": {
            "color": "#2a3f5f"
           }
          },
          "ternary": {
           "aaxis": {
            "gridcolor": "white",
            "linecolor": "white",
            "ticks": ""
           },
           "baxis": {
            "gridcolor": "white",
            "linecolor": "white",
            "ticks": ""
           },
           "bgcolor": "#E5ECF6",
           "caxis": {
            "gridcolor": "white",
            "linecolor": "white",
            "ticks": ""
           }
          },
          "title": {
           "x": 0.05
          },
          "xaxis": {
           "automargin": true,
           "gridcolor": "white",
           "linecolor": "white",
           "ticks": "",
           "title": {
            "standoff": 15
           },
           "zerolinecolor": "white",
           "zerolinewidth": 2
          },
          "yaxis": {
           "automargin": true,
           "gridcolor": "white",
           "linecolor": "white",
           "ticks": "",
           "title": {
            "standoff": 15
           },
           "zerolinecolor": "white",
           "zerolinewidth": 2
          }
         }
        },
        "title": {
         "text": "Top 7 Sectors and Locations Heatmap \n2018-2021"
        },
        "xaxis": {
         "anchor": "y",
         "domain": [
          0,
          1
         ],
         "title": {
          "text": "Headquarter Location"
         }
        },
        "yaxis": {
         "anchor": "x",
         "domain": [
          0,
          1
         ],
         "title": {
          "text": "Sector"
         }
        }
       }
      }
     },
     "metadata": {},
     "output_type": "display_data"
    }
   ],
   "source": [
    "# Get the top 7 sectors and top 7 locations based on total funding amount\n",
    "top_sectors = df.groupby('sector')['amount'].sum().sort_values(ascending=False).head(7).index\n",
    "top_locations = df.groupby('headquarter')['amount'].sum().sort_values(ascending=False).head(7).index\n",
    "\n",
    "# Filter the DataFrame for the top 7 sectors and top 7 locations\n",
    "df_top7 = df[df['sector'].isin(top_sectors) & df['headquarter'].isin(top_locations)]\n",
    "\n",
    "# Create a heatmap\n",
    "fig = px.density_heatmap(df_top7, \n",
    "                         x='headquarter', \n",
    "                         y='sector', \n",
    "                         title='Top 7 Sectors and Locations Heatmap \\n2018-2021',\n",
    "                         labels={'headquarter': 'Headquarter Location', 'sector': 'Sector'})\n",
    "fig.show()"
   ]
  },
  {
   "cell_type": "markdown",
   "metadata": {},
   "source": [
    "### **Observations**  \n",
    "**Top Industries and Locations:**   \n",
    "\n",
    "- Top industries exhibit a concentration in the leading locations.  Therefore, Location of a company does influences its sector\n",
    "\n",
    "**Sectors Concentration:**  \n",
    "\n",
    "- consistent pattern reveals a correlation between a sector's dominance and its prevalent location.  \n",
    "This consistency suggests a nuanced influence of geography on flourishing industries.  \n",
    "\n",
    "**Outliers Analysis:**  \n",
    "\n",
    "- Instances of outliers are notable, such as in Bangalore where Fintech and Education Tech industries concentrate more.  \n",
    "\n",
    "**Conclusion:**   \n",
    "\n",
    "- The data strongly supports the notion that top industries tend to concentrate in the leading locations."
   ]
  },
  {
   "cell_type": "markdown",
   "metadata": {},
   "source": [
    "# **Summary and Recommendations**"
   ]
  },
  {
   "cell_type": "markdown",
   "metadata": {},
   "source": [
    "### **Summary**\n",
    "**Funding Trends**  \n",
    "- Funding experienced a modest decline from 2018 to 2019, followed by a remarkable increase of over $176 billion from 2019 to 2021.\n",
    "- 2021 stands out as the best-funded year, surpassing $179 billion.\n",
    "\n",
    "**Geographical Dynamics**\n",
    "- Mumbai is the most well-funded location, with other cities trailing at a considerable distance.\n",
    "- Notable variations across cities, with Mumbai, Shanghai, San Francisco, Kalpakkan, and Beijing leading.\n",
    "\n",
    "**Sector-Specific Insights**\n",
    "- Retail and fintech sectors attract the most funding, with 'Others' (Private Equity, Corporate Round, Debt) showing substantial growth.\n",
    "\n",
    "**Key Players**\n",
    "- Silver Lake and Mubadala Investment Company lead all investors, contributing a massive $70 billion.\n",
    "\n",
    "### **Recommendations**  \n",
    "1. **Location Consideration:**  \n",
    "   - Investors should focus on top-funded locations like Mumbai, Shanghai, San Francisco, Kalpakkan, and Beijing.  \n",
    "   \n",
    "2. **Sector-Specific Investments:**  \n",
    "   - Explore opportunities in fintech and retail, the most attractive sectors for investors.  \n",
    "   \n",
    "3. **Emerging Trends:**  \n",
    "   - Monitor trends in mature startups in the 'Others' category, signaling investor comfort with later-stage ventures.  \n",
    "   \n",
    "4. **Diversification:**  \n",
    "   - Diversify portfolios across locations and sectors for a balanced risk-return profile.  "
   ]
  },
  {
   "cell_type": "markdown",
   "metadata": {},
   "source": []
  }
 ],
 "metadata": {
  "kernelspec": {
   "display_name": "Python 3",
   "language": "python",
   "name": "python3"
  },
  "language_info": {
   "codemirror_mode": {
    "name": "ipython",
    "version": 3
   },
   "file_extension": ".py",
   "mimetype": "text/x-python",
   "name": "python",
   "nbconvert_exporter": "python",
   "pygments_lexer": "ipython3",
   "version": "3.12.0"
  }
 },
 "nbformat": 4,
 "nbformat_minor": 2
}
